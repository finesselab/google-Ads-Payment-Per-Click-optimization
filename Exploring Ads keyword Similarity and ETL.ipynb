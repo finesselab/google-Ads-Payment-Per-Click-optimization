{
 "cells": [
  {
   "cell_type": "code",
   "execution_count": 1,
   "id": "0c96d69a",
   "metadata": {},
   "outputs": [],
   "source": [
    "import os\n",
    "import pandas as pd\n",
    "import seaborn as sns\n",
    "import numpy as np\n",
    "import matplotlib.pyplot as plt"
   ]
  },
  {
   "cell_type": "code",
   "execution_count": 2,
   "id": "09cad2dc",
   "metadata": {},
   "outputs": [],
   "source": [
    "files_in_directory =  os.listdir()\n",
    "#files_in_directory"
   ]
  },
  {
   "cell_type": "code",
   "execution_count": 3,
   "id": "be65642b",
   "metadata": {},
   "outputs": [
    {
     "ename": "OSError",
     "evalue": "File contains no valid workbook part",
     "output_type": "error",
     "traceback": [
      "\u001b[1;31m---------------------------------------------------------------------------\u001b[0m",
      "\u001b[1;31mOSError\u001b[0m                                   Traceback (most recent call last)",
      "\u001b[1;32m<ipython-input-3-2984a67964e7>\u001b[0m in \u001b[0;36m<module>\u001b[1;34m\u001b[0m\n\u001b[1;32m----> 1\u001b[1;33m \u001b[0mfile\u001b[0m \u001b[1;33m=\u001b[0m \u001b[0mpd\u001b[0m\u001b[1;33m.\u001b[0m\u001b[0mExcelFile\u001b[0m\u001b[1;33m(\u001b[0m\u001b[0mfiles_in_directory\u001b[0m\u001b[1;33m[\u001b[0m\u001b[1;36m6\u001b[0m\u001b[1;33m]\u001b[0m\u001b[1;33m)\u001b[0m\u001b[1;33m\u001b[0m\u001b[1;33m\u001b[0m\u001b[0m\n\u001b[0m",
      "\u001b[1;32m~\\anaconda3\\lib\\site-packages\\pandas\\io\\excel\\_base.py\u001b[0m in \u001b[0;36m__init__\u001b[1;34m(self, path_or_buffer, engine, storage_options)\u001b[0m\n\u001b[0;32m   1129\u001b[0m         \u001b[0mself\u001b[0m\u001b[1;33m.\u001b[0m\u001b[0mstorage_options\u001b[0m \u001b[1;33m=\u001b[0m \u001b[0mstorage_options\u001b[0m\u001b[1;33m\u001b[0m\u001b[1;33m\u001b[0m\u001b[0m\n\u001b[0;32m   1130\u001b[0m \u001b[1;33m\u001b[0m\u001b[0m\n\u001b[1;32m-> 1131\u001b[1;33m         \u001b[0mself\u001b[0m\u001b[1;33m.\u001b[0m\u001b[0m_reader\u001b[0m \u001b[1;33m=\u001b[0m \u001b[0mself\u001b[0m\u001b[1;33m.\u001b[0m\u001b[0m_engines\u001b[0m\u001b[1;33m[\u001b[0m\u001b[0mengine\u001b[0m\u001b[1;33m]\u001b[0m\u001b[1;33m(\u001b[0m\u001b[0mself\u001b[0m\u001b[1;33m.\u001b[0m\u001b[0m_io\u001b[0m\u001b[1;33m,\u001b[0m \u001b[0mstorage_options\u001b[0m\u001b[1;33m=\u001b[0m\u001b[0mstorage_options\u001b[0m\u001b[1;33m)\u001b[0m\u001b[1;33m\u001b[0m\u001b[1;33m\u001b[0m\u001b[0m\n\u001b[0m\u001b[0;32m   1132\u001b[0m \u001b[1;33m\u001b[0m\u001b[0m\n\u001b[0;32m   1133\u001b[0m     \u001b[1;32mdef\u001b[0m \u001b[0m__fspath__\u001b[0m\u001b[1;33m(\u001b[0m\u001b[0mself\u001b[0m\u001b[1;33m)\u001b[0m\u001b[1;33m:\u001b[0m\u001b[1;33m\u001b[0m\u001b[1;33m\u001b[0m\u001b[0m\n",
      "\u001b[1;32m~\\anaconda3\\lib\\site-packages\\pandas\\io\\excel\\_openpyxl.py\u001b[0m in \u001b[0;36m__init__\u001b[1;34m(self, filepath_or_buffer, storage_options)\u001b[0m\n\u001b[0;32m    473\u001b[0m         \"\"\"\n\u001b[0;32m    474\u001b[0m         \u001b[0mimport_optional_dependency\u001b[0m\u001b[1;33m(\u001b[0m\u001b[1;34m\"openpyxl\"\u001b[0m\u001b[1;33m)\u001b[0m\u001b[1;33m\u001b[0m\u001b[1;33m\u001b[0m\u001b[0m\n\u001b[1;32m--> 475\u001b[1;33m         \u001b[0msuper\u001b[0m\u001b[1;33m(\u001b[0m\u001b[1;33m)\u001b[0m\u001b[1;33m.\u001b[0m\u001b[0m__init__\u001b[0m\u001b[1;33m(\u001b[0m\u001b[0mfilepath_or_buffer\u001b[0m\u001b[1;33m,\u001b[0m \u001b[0mstorage_options\u001b[0m\u001b[1;33m=\u001b[0m\u001b[0mstorage_options\u001b[0m\u001b[1;33m)\u001b[0m\u001b[1;33m\u001b[0m\u001b[1;33m\u001b[0m\u001b[0m\n\u001b[0m\u001b[0;32m    476\u001b[0m \u001b[1;33m\u001b[0m\u001b[0m\n\u001b[0;32m    477\u001b[0m     \u001b[1;33m@\u001b[0m\u001b[0mproperty\u001b[0m\u001b[1;33m\u001b[0m\u001b[1;33m\u001b[0m\u001b[0m\n",
      "\u001b[1;32m~\\anaconda3\\lib\\site-packages\\pandas\\io\\excel\\_base.py\u001b[0m in \u001b[0;36m__init__\u001b[1;34m(self, filepath_or_buffer, storage_options)\u001b[0m\n\u001b[0;32m    389\u001b[0m             \u001b[1;31m# N.B. xlrd.Book has a read attribute too\u001b[0m\u001b[1;33m\u001b[0m\u001b[1;33m\u001b[0m\u001b[1;33m\u001b[0m\u001b[0m\n\u001b[0;32m    390\u001b[0m             \u001b[0mself\u001b[0m\u001b[1;33m.\u001b[0m\u001b[0mhandles\u001b[0m\u001b[1;33m.\u001b[0m\u001b[0mhandle\u001b[0m\u001b[1;33m.\u001b[0m\u001b[0mseek\u001b[0m\u001b[1;33m(\u001b[0m\u001b[1;36m0\u001b[0m\u001b[1;33m)\u001b[0m\u001b[1;33m\u001b[0m\u001b[1;33m\u001b[0m\u001b[0m\n\u001b[1;32m--> 391\u001b[1;33m             \u001b[0mself\u001b[0m\u001b[1;33m.\u001b[0m\u001b[0mbook\u001b[0m \u001b[1;33m=\u001b[0m \u001b[0mself\u001b[0m\u001b[1;33m.\u001b[0m\u001b[0mload_workbook\u001b[0m\u001b[1;33m(\u001b[0m\u001b[0mself\u001b[0m\u001b[1;33m.\u001b[0m\u001b[0mhandles\u001b[0m\u001b[1;33m.\u001b[0m\u001b[0mhandle\u001b[0m\u001b[1;33m)\u001b[0m\u001b[1;33m\u001b[0m\u001b[1;33m\u001b[0m\u001b[0m\n\u001b[0m\u001b[0;32m    392\u001b[0m         \u001b[1;32melif\u001b[0m \u001b[0misinstance\u001b[0m\u001b[1;33m(\u001b[0m\u001b[0mself\u001b[0m\u001b[1;33m.\u001b[0m\u001b[0mhandles\u001b[0m\u001b[1;33m.\u001b[0m\u001b[0mhandle\u001b[0m\u001b[1;33m,\u001b[0m \u001b[0mbytes\u001b[0m\u001b[1;33m)\u001b[0m\u001b[1;33m:\u001b[0m\u001b[1;33m\u001b[0m\u001b[1;33m\u001b[0m\u001b[0m\n\u001b[0;32m    393\u001b[0m             \u001b[0mself\u001b[0m\u001b[1;33m.\u001b[0m\u001b[0mbook\u001b[0m \u001b[1;33m=\u001b[0m \u001b[0mself\u001b[0m\u001b[1;33m.\u001b[0m\u001b[0mload_workbook\u001b[0m\u001b[1;33m(\u001b[0m\u001b[0mBytesIO\u001b[0m\u001b[1;33m(\u001b[0m\u001b[0mself\u001b[0m\u001b[1;33m.\u001b[0m\u001b[0mhandles\u001b[0m\u001b[1;33m.\u001b[0m\u001b[0mhandle\u001b[0m\u001b[1;33m)\u001b[0m\u001b[1;33m)\u001b[0m\u001b[1;33m\u001b[0m\u001b[1;33m\u001b[0m\u001b[0m\n",
      "\u001b[1;32m~\\anaconda3\\lib\\site-packages\\pandas\\io\\excel\\_openpyxl.py\u001b[0m in \u001b[0;36mload_workbook\u001b[1;34m(self, filepath_or_buffer)\u001b[0m\n\u001b[0;32m    484\u001b[0m         \u001b[1;32mfrom\u001b[0m \u001b[0mopenpyxl\u001b[0m \u001b[1;32mimport\u001b[0m \u001b[0mload_workbook\u001b[0m\u001b[1;33m\u001b[0m\u001b[1;33m\u001b[0m\u001b[0m\n\u001b[0;32m    485\u001b[0m \u001b[1;33m\u001b[0m\u001b[0m\n\u001b[1;32m--> 486\u001b[1;33m         return load_workbook(\n\u001b[0m\u001b[0;32m    487\u001b[0m             \u001b[0mfilepath_or_buffer\u001b[0m\u001b[1;33m,\u001b[0m \u001b[0mread_only\u001b[0m\u001b[1;33m=\u001b[0m\u001b[1;32mTrue\u001b[0m\u001b[1;33m,\u001b[0m \u001b[0mdata_only\u001b[0m\u001b[1;33m=\u001b[0m\u001b[1;32mTrue\u001b[0m\u001b[1;33m,\u001b[0m \u001b[0mkeep_links\u001b[0m\u001b[1;33m=\u001b[0m\u001b[1;32mFalse\u001b[0m\u001b[1;33m\u001b[0m\u001b[1;33m\u001b[0m\u001b[0m\n\u001b[0;32m    488\u001b[0m         )\n",
      "\u001b[1;32m~\\anaconda3\\lib\\site-packages\\openpyxl\\reader\\excel.py\u001b[0m in \u001b[0;36mload_workbook\u001b[1;34m(filename, read_only, keep_vba, data_only, keep_links)\u001b[0m\n\u001b[0;32m    315\u001b[0m     reader = ExcelReader(filename, read_only, keep_vba,\n\u001b[0;32m    316\u001b[0m                         data_only, keep_links)\n\u001b[1;32m--> 317\u001b[1;33m     \u001b[0mreader\u001b[0m\u001b[1;33m.\u001b[0m\u001b[0mread\u001b[0m\u001b[1;33m(\u001b[0m\u001b[1;33m)\u001b[0m\u001b[1;33m\u001b[0m\u001b[1;33m\u001b[0m\u001b[0m\n\u001b[0m\u001b[0;32m    318\u001b[0m     \u001b[1;32mreturn\u001b[0m \u001b[0mreader\u001b[0m\u001b[1;33m.\u001b[0m\u001b[0mwb\u001b[0m\u001b[1;33m\u001b[0m\u001b[1;33m\u001b[0m\u001b[0m\n",
      "\u001b[1;32m~\\anaconda3\\lib\\site-packages\\openpyxl\\reader\\excel.py\u001b[0m in \u001b[0;36mread\u001b[1;34m(self)\u001b[0m\n\u001b[0;32m    276\u001b[0m         \u001b[0mself\u001b[0m\u001b[1;33m.\u001b[0m\u001b[0mread_manifest\u001b[0m\u001b[1;33m(\u001b[0m\u001b[1;33m)\u001b[0m\u001b[1;33m\u001b[0m\u001b[1;33m\u001b[0m\u001b[0m\n\u001b[0;32m    277\u001b[0m         \u001b[0mself\u001b[0m\u001b[1;33m.\u001b[0m\u001b[0mread_strings\u001b[0m\u001b[1;33m(\u001b[0m\u001b[1;33m)\u001b[0m\u001b[1;33m\u001b[0m\u001b[1;33m\u001b[0m\u001b[0m\n\u001b[1;32m--> 278\u001b[1;33m         \u001b[0mself\u001b[0m\u001b[1;33m.\u001b[0m\u001b[0mread_workbook\u001b[0m\u001b[1;33m(\u001b[0m\u001b[1;33m)\u001b[0m\u001b[1;33m\u001b[0m\u001b[1;33m\u001b[0m\u001b[0m\n\u001b[0m\u001b[0;32m    279\u001b[0m         \u001b[0mself\u001b[0m\u001b[1;33m.\u001b[0m\u001b[0mread_properties\u001b[0m\u001b[1;33m(\u001b[0m\u001b[1;33m)\u001b[0m\u001b[1;33m\u001b[0m\u001b[1;33m\u001b[0m\u001b[0m\n\u001b[0;32m    280\u001b[0m         \u001b[0mself\u001b[0m\u001b[1;33m.\u001b[0m\u001b[0mread_theme\u001b[0m\u001b[1;33m(\u001b[0m\u001b[1;33m)\u001b[0m\u001b[1;33m\u001b[0m\u001b[1;33m\u001b[0m\u001b[0m\n",
      "\u001b[1;32m~\\anaconda3\\lib\\site-packages\\openpyxl\\reader\\excel.py\u001b[0m in \u001b[0;36mread_workbook\u001b[1;34m(self)\u001b[0m\n\u001b[0;32m    146\u001b[0m \u001b[1;33m\u001b[0m\u001b[0m\n\u001b[0;32m    147\u001b[0m     \u001b[1;32mdef\u001b[0m \u001b[0mread_workbook\u001b[0m\u001b[1;33m(\u001b[0m\u001b[0mself\u001b[0m\u001b[1;33m)\u001b[0m\u001b[1;33m:\u001b[0m\u001b[1;33m\u001b[0m\u001b[1;33m\u001b[0m\u001b[0m\n\u001b[1;32m--> 148\u001b[1;33m         \u001b[0mwb_part\u001b[0m \u001b[1;33m=\u001b[0m \u001b[0m_find_workbook_part\u001b[0m\u001b[1;33m(\u001b[0m\u001b[0mself\u001b[0m\u001b[1;33m.\u001b[0m\u001b[0mpackage\u001b[0m\u001b[1;33m)\u001b[0m\u001b[1;33m\u001b[0m\u001b[1;33m\u001b[0m\u001b[0m\n\u001b[0m\u001b[0;32m    149\u001b[0m         \u001b[0mself\u001b[0m\u001b[1;33m.\u001b[0m\u001b[0mparser\u001b[0m \u001b[1;33m=\u001b[0m \u001b[0mWorkbookParser\u001b[0m\u001b[1;33m(\u001b[0m\u001b[0mself\u001b[0m\u001b[1;33m.\u001b[0m\u001b[0marchive\u001b[0m\u001b[1;33m,\u001b[0m \u001b[0mwb_part\u001b[0m\u001b[1;33m.\u001b[0m\u001b[0mPartName\u001b[0m\u001b[1;33m[\u001b[0m\u001b[1;36m1\u001b[0m\u001b[1;33m:\u001b[0m\u001b[1;33m]\u001b[0m\u001b[1;33m,\u001b[0m \u001b[0mkeep_links\u001b[0m\u001b[1;33m=\u001b[0m\u001b[0mself\u001b[0m\u001b[1;33m.\u001b[0m\u001b[0mkeep_links\u001b[0m\u001b[1;33m)\u001b[0m\u001b[1;33m\u001b[0m\u001b[1;33m\u001b[0m\u001b[0m\n\u001b[0;32m    150\u001b[0m         \u001b[0mself\u001b[0m\u001b[1;33m.\u001b[0m\u001b[0mparser\u001b[0m\u001b[1;33m.\u001b[0m\u001b[0mparse\u001b[0m\u001b[1;33m(\u001b[0m\u001b[1;33m)\u001b[0m\u001b[1;33m\u001b[0m\u001b[1;33m\u001b[0m\u001b[0m\n",
      "\u001b[1;32m~\\anaconda3\\lib\\site-packages\\openpyxl\\reader\\excel.py\u001b[0m in \u001b[0;36m_find_workbook_part\u001b[1;34m(package)\u001b[0m\n\u001b[0;32m    111\u001b[0m         \u001b[1;32mreturn\u001b[0m \u001b[0mOverride\u001b[0m\u001b[1;33m(\u001b[0m\u001b[1;34m\"/\"\u001b[0m \u001b[1;33m+\u001b[0m \u001b[0mARC_WORKBOOK\u001b[0m\u001b[1;33m,\u001b[0m \u001b[0mworkbook_type\u001b[0m\u001b[1;33m.\u001b[0m\u001b[0mpop\u001b[0m\u001b[1;33m(\u001b[0m\u001b[1;33m)\u001b[0m\u001b[1;33m)\u001b[0m\u001b[1;33m\u001b[0m\u001b[1;33m\u001b[0m\u001b[0m\n\u001b[0;32m    112\u001b[0m \u001b[1;33m\u001b[0m\u001b[0m\n\u001b[1;32m--> 113\u001b[1;33m     \u001b[1;32mraise\u001b[0m \u001b[0mIOError\u001b[0m\u001b[1;33m(\u001b[0m\u001b[1;34m\"File contains no valid workbook part\"\u001b[0m\u001b[1;33m)\u001b[0m\u001b[1;33m\u001b[0m\u001b[1;33m\u001b[0m\u001b[0m\n\u001b[0m\u001b[0;32m    114\u001b[0m \u001b[1;33m\u001b[0m\u001b[0m\n\u001b[0;32m    115\u001b[0m \u001b[1;33m\u001b[0m\u001b[0m\n",
      "\u001b[1;31mOSError\u001b[0m: File contains no valid workbook part"
     ]
    }
   ],
   "source": [
    "file = pd.ExcelFile(files_in_directory[6])"
   ]
  },
  {
   "cell_type": "code",
   "execution_count": null,
   "id": "ca59e3a3",
   "metadata": {},
   "outputs": [],
   "source": [
    "#file.sheet_names"
   ]
  },
  {
   "cell_type": "code",
   "execution_count": null,
   "id": "511ee19e",
   "metadata": {},
   "outputs": [],
   "source": [
    "df = file.parse('Dataset', usecols= 'A:M')"
   ]
  },
  {
   "cell_type": "code",
   "execution_count": null,
   "id": "94cd1a62",
   "metadata": {},
   "outputs": [],
   "source": [
    "df.tail()"
   ]
  },
  {
   "cell_type": "code",
   "execution_count": null,
   "id": "307115c4",
   "metadata": {},
   "outputs": [],
   "source": []
  },
  {
   "cell_type": "markdown",
   "id": "f5cc1f0b",
   "metadata": {},
   "source": [
    "#### creating integer columns for 'Quality Score' factors ratings "
   ]
  },
  {
   "cell_type": "code",
   "execution_count": null,
   "id": "24bef7f7",
   "metadata": {},
   "outputs": [],
   "source": [
    "df['Ad relevance'].unique()"
   ]
  },
  {
   "cell_type": "code",
   "execution_count": null,
   "id": "983cb1a7",
   "metadata": {},
   "outputs": [],
   "source": [
    "df['Ad relevance score'] = df['Ad relevance'].map({'Below average': 0, 'Above average': 2, 'Average': 1})"
   ]
  },
  {
   "cell_type": "code",
   "execution_count": null,
   "id": "5ca3ce40",
   "metadata": {},
   "outputs": [],
   "source": []
  },
  {
   "cell_type": "code",
   "execution_count": null,
   "id": "b9cd4963",
   "metadata": {},
   "outputs": [],
   "source": [
    "df['Expected click-through rate'].unique()"
   ]
  },
  {
   "cell_type": "code",
   "execution_count": null,
   "id": "d11b672b",
   "metadata": {},
   "outputs": [],
   "source": [
    "df['Expected CTR score'] = df['Expected click-through rate'].map({'Below average': 0, 'Above average': 3.5, 'Average': 1.75})"
   ]
  },
  {
   "cell_type": "code",
   "execution_count": null,
   "id": "0d30894a",
   "metadata": {},
   "outputs": [],
   "source": []
  },
  {
   "cell_type": "code",
   "execution_count": null,
   "id": "773dc680",
   "metadata": {},
   "outputs": [],
   "source": [
    "df['Landing page experience'].unique()"
   ]
  },
  {
   "cell_type": "code",
   "execution_count": null,
   "id": "60594acb",
   "metadata": {},
   "outputs": [],
   "source": [
    "df['Landing page exp score'] = df['Landing page experience'].map({'Average': 1.75, 'Above average': 3.5, 'Below average': 0})"
   ]
  },
  {
   "cell_type": "code",
   "execution_count": null,
   "id": "c1c47b70",
   "metadata": {},
   "outputs": [],
   "source": []
  },
  {
   "cell_type": "code",
   "execution_count": null,
   "id": "690cd077",
   "metadata": {},
   "outputs": [],
   "source": [
    "df['Clicks'] = round(df['Clicks'])\n",
    "df['Clicks'] = df['Clicks'].astype(int)\n",
    "df['Conversions'] = round(df['Conversions'])\n",
    "df['Conversions'] = df['Conversions'].astype(int)\n",
    "df['Total Cost'] = round(df['Total Cost'], 2)\n",
    "df['Total Revenue'] = round(df['Total Revenue'], 2)"
   ]
  },
  {
   "cell_type": "code",
   "execution_count": null,
   "id": "2b7dba62",
   "metadata": {},
   "outputs": [],
   "source": [
    "df.head(3)"
   ]
  },
  {
   "cell_type": "code",
   "execution_count": null,
   "id": "31a95e51",
   "metadata": {},
   "outputs": [],
   "source": []
  },
  {
   "cell_type": "code",
   "execution_count": null,
   "id": "98b17a5a",
   "metadata": {},
   "outputs": [],
   "source": []
  },
  {
   "cell_type": "markdown",
   "id": "6274bd3a",
   "metadata": {},
   "source": [
    "### duplicate bids on same keyword"
   ]
  },
  {
   "cell_type": "code",
   "execution_count": null,
   "id": "a8470ad5",
   "metadata": {},
   "outputs": [],
   "source": [
    "df[df.duplicated(subset= 'Search Keyword', keep= False)]"
   ]
  },
  {
   "cell_type": "code",
   "execution_count": null,
   "id": "af2a7813",
   "metadata": {},
   "outputs": [],
   "source": []
  },
  {
   "cell_type": "code",
   "execution_count": null,
   "id": "c1bc35b1",
   "metadata": {},
   "outputs": [],
   "source": [
    "df.head(2)"
   ]
  },
  {
   "cell_type": "code",
   "execution_count": null,
   "id": "1d8ab5f5",
   "metadata": {},
   "outputs": [],
   "source": []
  },
  {
   "cell_type": "markdown",
   "id": "b5a4580c",
   "metadata": {},
   "source": [
    "### Search Keywords similarity"
   ]
  },
  {
   "cell_type": "code",
   "execution_count": null,
   "id": "c41db6d5",
   "metadata": {},
   "outputs": [],
   "source": [
    "import numpy as np\n",
    "from fuzzywuzzy import process, fuzz"
   ]
  },
  {
   "cell_type": "code",
   "execution_count": null,
   "id": "259a9b3c",
   "metadata": {},
   "outputs": [],
   "source": [
    "process.extract('posting christmas stocking gift bag large', list(df['Search Keyword']), scorer=fuzz.token_sort_ratio)"
   ]
  },
  {
   "cell_type": "code",
   "execution_count": null,
   "id": "16b28356",
   "metadata": {},
   "outputs": [],
   "source": [
    "def high_similarity_keywords():\n",
    "    unique_search_words =  df['Search Keyword'].unique()\n",
    "    matches_list = []\n",
    "    for keyword in unique_search_words:\n",
    "        for match_result in process.extract(keyword, unique_search_words, scorer=fuzz.token_sort_ratio):\n",
    "            score_tuple =  (keyword,) + match_result\n",
    "            matches_list.append(score_tuple)\n",
    "\n",
    "    similarity_df = pd.DataFrame(matches_list, columns=['keyword','match_keyword','score'])\n",
    "    similarity_df['keyword_compared'] = np.minimum(similarity_df['keyword'], similarity_df['match_keyword'])\n",
    "\n",
    "    high_score_df = similarity_df[(similarity_df['score'] >= 75) &\n",
    "                (similarity_df['keyword'] !=  similarity_df['match_keyword']) &\n",
    "                (similarity_df['keyword_compared'] != similarity_df['match_keyword'])]\n",
    "    \n",
    "    high_score_df.drop('keyword_compared',axis=1, inplace = True)\n",
    "    \n",
    "    high_similarity_df = high_score_df.groupby(['keyword']).agg(\n",
    "                        {'score': np.mean,'match_keyword': \",  \".join}).sort_values(\n",
    "                        ['keyword'], ascending=False).reset_index()\n",
    "    \n",
    "    high_similarity_df['score'] = np.round(high_similarity_df['score'])\n",
    "    high_similarity_df['score'] = high_similarity_df['score'].astype(int)\n",
    "    return high_similarity_df"
   ]
  },
  {
   "cell_type": "code",
   "execution_count": null,
   "id": "48779609",
   "metadata": {},
   "outputs": [],
   "source": [
    "similar_keywords_df =  high_similarity_keywords()"
   ]
  },
  {
   "cell_type": "code",
   "execution_count": null,
   "id": "86623a67",
   "metadata": {},
   "outputs": [],
   "source": [
    "similar_keywords_df.head()"
   ]
  },
  {
   "cell_type": "code",
   "execution_count": null,
   "id": "149c4fbb",
   "metadata": {},
   "outputs": [],
   "source": []
  },
  {
   "cell_type": "code",
   "execution_count": null,
   "id": "9bd7dacd",
   "metadata": {},
   "outputs": [],
   "source": [
    "matches_df = similar_keywords_df['match_keyword'].str.split(',', expand = True)"
   ]
  },
  {
   "cell_type": "code",
   "execution_count": null,
   "id": "5fac5ff1",
   "metadata": {},
   "outputs": [],
   "source": [
    "redundant_keywords_dfs =  pd.concat([similar_keywords_df[['keyword', 'score']], matches_df], axis = 1)"
   ]
  },
  {
   "cell_type": "code",
   "execution_count": null,
   "id": "0406c6f3",
   "metadata": {},
   "outputs": [],
   "source": [
    "redundant_keywords_dfs.columns = ['keyword', 'score', 'match1', 'match2', 'match3', 'match4']"
   ]
  },
  {
   "cell_type": "code",
   "execution_count": null,
   "id": "42bcb55d",
   "metadata": {},
   "outputs": [],
   "source": [
    "redundant_keywords_dfs.head(10)"
   ]
  },
  {
   "cell_type": "code",
   "execution_count": null,
   "id": "64e10357",
   "metadata": {},
   "outputs": [],
   "source": []
  },
  {
   "cell_type": "markdown",
   "id": "dc09fa3d",
   "metadata": {},
   "source": [
    "#### data to be stored in database"
   ]
  },
  {
   "cell_type": "code",
   "execution_count": null,
   "id": "e1785073",
   "metadata": {},
   "outputs": [],
   "source": [
    "df = df.reset_index()"
   ]
  },
  {
   "cell_type": "code",
   "execution_count": null,
   "id": "e75fe148",
   "metadata": {},
   "outputs": [],
   "source": [
    "df.head(3)"
   ]
  },
  {
   "cell_type": "code",
   "execution_count": null,
   "id": "fa2ac49a",
   "metadata": {},
   "outputs": [],
   "source": [
    "#df.to_csv('goshc modeling data.csv', index = False)"
   ]
  },
  {
   "cell_type": "code",
   "execution_count": null,
   "id": "21faa487",
   "metadata": {},
   "outputs": [],
   "source": []
  },
  {
   "cell_type": "code",
   "execution_count": null,
   "id": "3951e3d5",
   "metadata": {},
   "outputs": [],
   "source": []
  },
  {
   "cell_type": "markdown",
   "id": "9e9e05d0",
   "metadata": {},
   "source": [
    "### Connection to cloud database"
   ]
  },
  {
   "cell_type": "code",
   "execution_count": null,
   "id": "e5e41af8",
   "metadata": {},
   "outputs": [],
   "source": [
    "import pypyodbc as podbc"
   ]
  },
  {
   "cell_type": "code",
   "execution_count": null,
   "id": "b13414e7",
   "metadata": {},
   "outputs": [],
   "source": [
    "# conn2 = podbc.connect('Driver={SQL Server};'\n",
    "#                                 'Server=xxxxxx.cahwy5tcsa.us-east-1.rds.amazonaws.com,xxxx;'\n",
    "#                                 'Database=Charity;'\n",
    "#                                 'uid=xxxxx;pwd=xxxxxxx')\n",
    "# print (\"Connected\")\n",
    "# cursor = conn2.cursor()"
   ]
  },
  {
   "cell_type": "markdown",
   "id": "45b14ff1",
   "metadata": {},
   "source": [
    "#### Create 'campaign data' table for data in database"
   ]
  },
  {
   "cell_type": "code",
   "execution_count": null,
   "id": "5a8e7d14",
   "metadata": {},
   "outputs": [],
   "source": [
    "# create_table = '''\n",
    "# CREATE TABLE campaign_data (\n",
    "#     serial_no INT NOT NULL,\n",
    "#     Ad_Group VARCHAR(100) NOT NULL,\n",
    "#     Search_Keyword VARCHAR(MAX) NOT NULL,\n",
    "#     Quality_Score INT NOT NULL,\n",
    "#     Ad_relevance_Score INT,\n",
    "#     Expected_CTR_Score DECIMAL(3,2),\n",
    "#     Landing_page_exp_Score DECIMAL(3,2),\n",
    "#     Ad_relevance VARCHAR(16) NOT NULL,\n",
    "#     Expected_CTR VARCHAR(16) NOT NULL,\n",
    "#     Landing_page_experience VARCHAR(16) NOT NULL,\n",
    "#     Avg_position INT ,\n",
    "#     Impressions INT,\n",
    "#     Clicks INT,\n",
    "#     Total_Cost DECIMAL(8,2),\n",
    "#     Conversions INT,\n",
    "#     Revenue_per_unit_sold DECIMAL(8,2),\n",
    "#     Total_Revenue DECIMAL(8,2)\n",
    "# )\n",
    "# '''"
   ]
  },
  {
   "cell_type": "code",
   "execution_count": null,
   "id": "572bc9f1",
   "metadata": {},
   "outputs": [],
   "source": [
    "# cursor.execute(create_table)"
   ]
  },
  {
   "cell_type": "code",
   "execution_count": null,
   "id": "e4cb1259",
   "metadata": {},
   "outputs": [],
   "source": [
    "# conn2.commit()"
   ]
  },
  {
   "cell_type": "code",
   "execution_count": null,
   "id": "587c5da8",
   "metadata": {},
   "outputs": [],
   "source": [
    "df.shape"
   ]
  },
  {
   "cell_type": "markdown",
   "id": "4eb542f4",
   "metadata": {},
   "source": [
    "#### function for inserting data into db table"
   ]
  },
  {
   "cell_type": "code",
   "execution_count": null,
   "id": "dd7db845",
   "metadata": {},
   "outputs": [],
   "source": [
    "def insert_data_to_table(serial_no, Ad_Group, Search_Keyword, Quality_Score, Ad_relevance_Score,\n",
    "                        Expected_CTR_Score, Landing_page_exp_Score, Ad_relevance, Expected_CTR, Landing_page_experience,\n",
    "                        Avg_position, Impressions, Clicks, Total_Cost,  Conversions, Revenue_per_unit_sold, Total_Revenue):\n",
    "    query = '''\n",
    "            INSERT INTO campaign_data(serial_no, Ad_Group, Search_Keyword, Quality_Score, Ad_relevance_Score,\n",
    "                             Expected_CTR_Score, Landing_page_exp_Score, Ad_relevance, Expected_CTR, Landing_page_experience,\n",
    "                             Avg_position, Impressions, Clicks, Total_Cost,  Conversions, Revenue_per_unit_sold, Total_Revenue\n",
    "                             )\n",
    "              VALUES \n",
    "              (?,?,?,?,?,?,?,?,?,?,?,?,?,?,?,?,?)\n",
    "            '''\n",
    "\n",
    "    row_values_to_insert = (serial_no, Ad_Group, Search_Keyword, Quality_Score, Ad_relevance_Score,\n",
    "                        Expected_CTR_Score, Landing_page_exp_Score, Ad_relevance, Expected_CTR, Landing_page_experience,\n",
    "                        Avg_position, Impressions, Clicks, Total_Cost,  Conversions, Revenue_per_unit_sold, Total_Revenue)\n",
    "    \n",
    "    cursor.execute(query, row_values_to_insert)"
   ]
  },
  {
   "cell_type": "code",
   "execution_count": null,
   "id": "1a168106",
   "metadata": {},
   "outputs": [],
   "source": []
  },
  {
   "cell_type": "markdown",
   "id": "d3cd6ca5",
   "metadata": {},
   "source": [
    "#### function for using above function"
   ]
  },
  {
   "cell_type": "code",
   "execution_count": null,
   "id": "cecc915f",
   "metadata": {},
   "outputs": [],
   "source": [
    "def add_data(df):\n",
    "    for i, row in df.iterrows():\n",
    "        insert_data_to_table(row['index'], row['Ad Group'], row['Search Keyword'], row['Quality score'],\n",
    "                        row['Ad relevance score'], row['Expected CTR score'], row['Landing page exp score'],\n",
    "                        row['Ad relevance'], row['Expected click-through rate'], row['Landing page experience'],\n",
    "                        row['Avg. position'], row['Impressions '], row['Clicks'], row['Total Cost'], row['Conversions'],\n",
    "                         row['Revenue per unit sold'], row['Total Revenue'] )"
   ]
  },
  {
   "cell_type": "code",
   "execution_count": null,
   "id": "cb3e06b9",
   "metadata": {},
   "outputs": [],
   "source": [
    "#add_data(df)"
   ]
  },
  {
   "cell_type": "code",
   "execution_count": null,
   "id": "54447d09",
   "metadata": {},
   "outputs": [],
   "source": [
    "#conn2.commit()"
   ]
  },
  {
   "cell_type": "code",
   "execution_count": null,
   "id": "0eb6197c",
   "metadata": {},
   "outputs": [],
   "source": [
    "#conn2.close()"
   ]
  },
  {
   "cell_type": "code",
   "execution_count": null,
   "id": "ddc5dc0d",
   "metadata": {},
   "outputs": [],
   "source": []
  },
  {
   "cell_type": "code",
   "execution_count": null,
   "id": "39bba1b2",
   "metadata": {},
   "outputs": [],
   "source": []
  },
  {
   "cell_type": "code",
   "execution_count": null,
   "id": "ae5397f1",
   "metadata": {},
   "outputs": [],
   "source": []
  },
  {
   "cell_type": "code",
   "execution_count": null,
   "id": "2a3929ab",
   "metadata": {},
   "outputs": [],
   "source": []
  }
 ],
 "metadata": {
  "kernelspec": {
   "display_name": "Python 3",
   "language": "python",
   "name": "python3"
  },
  "language_info": {
   "codemirror_mode": {
    "name": "ipython",
    "version": 3
   },
   "file_extension": ".py",
   "mimetype": "text/x-python",
   "name": "python",
   "nbconvert_exporter": "python",
   "pygments_lexer": "ipython3",
   "version": "3.8.8"
  }
 },
 "nbformat": 4,
 "nbformat_minor": 5
}
