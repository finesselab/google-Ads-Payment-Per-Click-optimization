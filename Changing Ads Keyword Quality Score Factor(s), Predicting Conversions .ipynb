{
 "cells": [
  {
   "cell_type": "code",
   "execution_count": 1,
   "id": "ac6c2857",
   "metadata": {},
   "outputs": [],
   "source": [
    "import pypyodbc as podbc\n",
    "import pandas as pd"
   ]
  },
  {
   "cell_type": "code",
   "execution_count": 2,
   "id": "e5f9913a",
   "metadata": {},
   "outputs": [],
   "source": [
    "import seaborn as sns\n",
    "import matplotlib.pyplot as plt\n",
    "import numpy as np\n",
    "%matplotlib inline"
   ]
  },
  {
   "cell_type": "code",
   "execution_count": null,
   "id": "d27b03ee",
   "metadata": {},
   "outputs": [],
   "source": []
  },
  {
   "cell_type": "markdown",
   "id": "41d2a354",
   "metadata": {},
   "source": [
    "### READ DATA "
   ]
  },
  {
   "cell_type": "code",
   "execution_count": 3,
   "id": "e70b9595",
   "metadata": {},
   "outputs": [],
   "source": [
    "df = pd.read_csv('goshc modeling data.csv')"
   ]
  },
  {
   "cell_type": "code",
   "execution_count": 4,
   "id": "6c51ebbe",
   "metadata": {},
   "outputs": [
    {
     "data": {
      "text/html": [
       "<div>\n",
       "<style scoped>\n",
       "    .dataframe tbody tr th:only-of-type {\n",
       "        vertical-align: middle;\n",
       "    }\n",
       "\n",
       "    .dataframe tbody tr th {\n",
       "        vertical-align: top;\n",
       "    }\n",
       "\n",
       "    .dataframe thead th {\n",
       "        text-align: right;\n",
       "    }\n",
       "</style>\n",
       "<table border=\"1\" class=\"dataframe\">\n",
       "  <thead>\n",
       "    <tr style=\"text-align: right;\">\n",
       "      <th></th>\n",
       "      <th>index</th>\n",
       "      <th>Ad Group</th>\n",
       "      <th>Search Keyword</th>\n",
       "      <th>Quality score</th>\n",
       "      <th>Ad relevance</th>\n",
       "      <th>Expected click-through rate</th>\n",
       "      <th>Landing page experience</th>\n",
       "      <th>Avg. position</th>\n",
       "      <th>Impressions</th>\n",
       "      <th>Clicks</th>\n",
       "      <th>Total Cost</th>\n",
       "      <th>Conversions</th>\n",
       "      <th>Revenue per unit sold</th>\n",
       "      <th>Total Revenue</th>\n",
       "      <th>Ad relevance score</th>\n",
       "      <th>Expected CTR score</th>\n",
       "      <th>Landing page exp score</th>\n",
       "    </tr>\n",
       "  </thead>\n",
       "  <tbody>\n",
       "    <tr>\n",
       "      <th>0</th>\n",
       "      <td>0</td>\n",
       "      <td>Gifts and Banker Products</td>\n",
       "      <td>rorys story cubes</td>\n",
       "      <td>3</td>\n",
       "      <td>Below average</td>\n",
       "      <td>Below average</td>\n",
       "      <td>Average</td>\n",
       "      <td>7</td>\n",
       "      <td>1935</td>\n",
       "      <td>39</td>\n",
       "      <td>12.90</td>\n",
       "      <td>1</td>\n",
       "      <td>9.99</td>\n",
       "      <td>12.72</td>\n",
       "      <td>0</td>\n",
       "      <td>0.0</td>\n",
       "      <td>1.75</td>\n",
       "    </tr>\n",
       "    <tr>\n",
       "      <th>1</th>\n",
       "      <td>1</td>\n",
       "      <td>Gifts and Banker Products</td>\n",
       "      <td>gosh christmas frankincense candle</td>\n",
       "      <td>10</td>\n",
       "      <td>Above average</td>\n",
       "      <td>Above average</td>\n",
       "      <td>Above average</td>\n",
       "      <td>2</td>\n",
       "      <td>28400</td>\n",
       "      <td>1893</td>\n",
       "      <td>189.33</td>\n",
       "      <td>186</td>\n",
       "      <td>25.00</td>\n",
       "      <td>4658.37</td>\n",
       "      <td>2</td>\n",
       "      <td>3.5</td>\n",
       "      <td>3.50</td>\n",
       "    </tr>\n",
       "  </tbody>\n",
       "</table>\n",
       "</div>"
      ],
      "text/plain": [
       "   index                   Ad Group                      Search Keyword  \\\n",
       "0      0  Gifts and Banker Products                   rorys story cubes   \n",
       "1      1  Gifts and Banker Products  gosh christmas frankincense candle   \n",
       "\n",
       "   Quality score   Ad relevance Expected click-through rate  \\\n",
       "0              3  Below average               Below average   \n",
       "1             10  Above average               Above average   \n",
       "\n",
       "  Landing page experience  Avg. position  Impressions   Clicks  Total Cost  \\\n",
       "0                 Average              7          1935      39       12.90   \n",
       "1           Above average              2         28400    1893      189.33   \n",
       "\n",
       "   Conversions  Revenue per unit sold  Total Revenue  Ad relevance score  \\\n",
       "0            1                   9.99          12.72                   0   \n",
       "1          186                  25.00        4658.37                   2   \n",
       "\n",
       "   Expected CTR score  Landing page exp score  \n",
       "0                 0.0                    1.75  \n",
       "1                 3.5                    3.50  "
      ]
     },
     "execution_count": 4,
     "metadata": {},
     "output_type": "execute_result"
    }
   ],
   "source": [
    "df.head(2)"
   ]
  },
  {
   "cell_type": "code",
   "execution_count": 5,
   "id": "e9e2cc7c",
   "metadata": {},
   "outputs": [],
   "source": [
    "df.columns = ['index', 'Ad_Group', 'Search_Keyword', 'Quality_score', 'Ad_relevance',\n",
    "       'Expected_clickthrough_rate', 'Landing_page_experience',\n",
    "       'Avg_position', 'Impressions', 'Clicks', 'Total_Cost', 'Conversions',\n",
    "       'Revenue_per_unit_sold', 'Total_Revenue', 'Ad_relevance_score',\n",
    "       'Expected_CTR_score', 'Landing_page_exp_score']"
   ]
  },
  {
   "cell_type": "code",
   "execution_count": null,
   "id": "27763e41",
   "metadata": {},
   "outputs": [],
   "source": []
  },
  {
   "cell_type": "code",
   "execution_count": 6,
   "id": "cb5b5673",
   "metadata": {},
   "outputs": [],
   "source": [
    "df = df[['Ad_Group', 'Search_Keyword', 'Quality_score', 'Ad_relevance',\n",
    "       'Expected_clickthrough_rate', 'Landing_page_experience', 'Ad_relevance_score',\n",
    "       'Expected_CTR_score', 'Landing_page_exp_score', 'Avg_position', 'Impressions', 'Clicks', \n",
    "      'Total_Cost', 'Conversions', 'Revenue_per_unit_sold', 'Total_Revenue']]"
   ]
  },
  {
   "cell_type": "code",
   "execution_count": null,
   "id": "29006765",
   "metadata": {},
   "outputs": [],
   "source": []
  },
  {
   "cell_type": "markdown",
   "id": "51a93998",
   "metadata": {},
   "source": [
    "### CHANGE AVERAGE POSITION ORDER FROM 1(highest - 10(lowest) TO 10(highest) to 1(lowest)"
   ]
  },
  {
   "cell_type": "code",
   "execution_count": 7,
   "id": "3fefe052",
   "metadata": {},
   "outputs": [],
   "source": [
    "avg_position = df['Avg_position'].unique()\n",
    "position_score = [4, 9, 10, 2, 1, 6, 7, 3, 5, 8]\n",
    "df['position_score'] = df['Avg_position'].map(dict(zip(avg_position, position_score)))"
   ]
  },
  {
   "cell_type": "code",
   "execution_count": null,
   "id": "1a404e48",
   "metadata": {},
   "outputs": [],
   "source": []
  },
  {
   "cell_type": "code",
   "execution_count": 8,
   "id": "25303938",
   "metadata": {},
   "outputs": [],
   "source": [
    "df = df.drop('Avg_position', axis = 1)"
   ]
  },
  {
   "cell_type": "code",
   "execution_count": 9,
   "id": "fb7ef54d",
   "metadata": {},
   "outputs": [
    {
     "data": {
      "text/html": [
       "<div>\n",
       "<style scoped>\n",
       "    .dataframe tbody tr th:only-of-type {\n",
       "        vertical-align: middle;\n",
       "    }\n",
       "\n",
       "    .dataframe tbody tr th {\n",
       "        vertical-align: top;\n",
       "    }\n",
       "\n",
       "    .dataframe thead th {\n",
       "        text-align: right;\n",
       "    }\n",
       "</style>\n",
       "<table border=\"1\" class=\"dataframe\">\n",
       "  <thead>\n",
       "    <tr style=\"text-align: right;\">\n",
       "      <th></th>\n",
       "      <th>Ad_Group</th>\n",
       "      <th>Search_Keyword</th>\n",
       "      <th>Quality_score</th>\n",
       "      <th>Ad_relevance</th>\n",
       "      <th>Expected_clickthrough_rate</th>\n",
       "      <th>Landing_page_experience</th>\n",
       "      <th>Ad_relevance_score</th>\n",
       "      <th>Expected_CTR_score</th>\n",
       "      <th>Landing_page_exp_score</th>\n",
       "      <th>Impressions</th>\n",
       "      <th>Clicks</th>\n",
       "      <th>Total_Cost</th>\n",
       "      <th>Conversions</th>\n",
       "      <th>Revenue_per_unit_sold</th>\n",
       "      <th>Total_Revenue</th>\n",
       "      <th>position_score</th>\n",
       "    </tr>\n",
       "  </thead>\n",
       "  <tbody>\n",
       "    <tr>\n",
       "      <th>0</th>\n",
       "      <td>Gifts and Banker Products</td>\n",
       "      <td>rorys story cubes</td>\n",
       "      <td>3</td>\n",
       "      <td>Below average</td>\n",
       "      <td>Below average</td>\n",
       "      <td>Average</td>\n",
       "      <td>0</td>\n",
       "      <td>0.0</td>\n",
       "      <td>1.75</td>\n",
       "      <td>1935</td>\n",
       "      <td>39</td>\n",
       "      <td>12.90</td>\n",
       "      <td>1</td>\n",
       "      <td>9.99</td>\n",
       "      <td>12.72</td>\n",
       "      <td>4</td>\n",
       "    </tr>\n",
       "    <tr>\n",
       "      <th>1</th>\n",
       "      <td>Gifts and Banker Products</td>\n",
       "      <td>gosh christmas frankincense candle</td>\n",
       "      <td>10</td>\n",
       "      <td>Above average</td>\n",
       "      <td>Above average</td>\n",
       "      <td>Above average</td>\n",
       "      <td>2</td>\n",
       "      <td>3.5</td>\n",
       "      <td>3.50</td>\n",
       "      <td>28400</td>\n",
       "      <td>1893</td>\n",
       "      <td>189.33</td>\n",
       "      <td>186</td>\n",
       "      <td>25.00</td>\n",
       "      <td>4658.37</td>\n",
       "      <td>9</td>\n",
       "    </tr>\n",
       "  </tbody>\n",
       "</table>\n",
       "</div>"
      ],
      "text/plain": [
       "                    Ad_Group                      Search_Keyword  \\\n",
       "0  Gifts and Banker Products                   rorys story cubes   \n",
       "1  Gifts and Banker Products  gosh christmas frankincense candle   \n",
       "\n",
       "   Quality_score   Ad_relevance Expected_clickthrough_rate  \\\n",
       "0              3  Below average              Below average   \n",
       "1             10  Above average              Above average   \n",
       "\n",
       "  Landing_page_experience  Ad_relevance_score  Expected_CTR_score  \\\n",
       "0                 Average                   0                 0.0   \n",
       "1           Above average                   2                 3.5   \n",
       "\n",
       "   Landing_page_exp_score  Impressions  Clicks  Total_Cost  Conversions  \\\n",
       "0                    1.75         1935      39       12.90            1   \n",
       "1                    3.50        28400    1893      189.33          186   \n",
       "\n",
       "   Revenue_per_unit_sold  Total_Revenue  position_score  \n",
       "0                   9.99          12.72               4  \n",
       "1                  25.00        4658.37               9  "
      ]
     },
     "execution_count": 9,
     "metadata": {},
     "output_type": "execute_result"
    }
   ],
   "source": [
    "df.head(2)"
   ]
  },
  {
   "cell_type": "code",
   "execution_count": null,
   "id": "5c2dc700",
   "metadata": {},
   "outputs": [],
   "source": []
  },
  {
   "cell_type": "code",
   "execution_count": null,
   "id": "106cd6c8",
   "metadata": {},
   "outputs": [],
   "source": []
  },
  {
   "cell_type": "markdown",
   "id": "75694b25",
   "metadata": {},
   "source": [
    "### SPLIT DATA TO TRAINING AND TEST DATA FOR MODELING"
   ]
  },
  {
   "cell_type": "code",
   "execution_count": 10,
   "id": "e9e83e28",
   "metadata": {},
   "outputs": [],
   "source": [
    "features = list(df.columns.drop('Conversions'))\n",
    "\n",
    "X = df[features]\n",
    "y = df['Conversions']"
   ]
  },
  {
   "cell_type": "code",
   "execution_count": 11,
   "id": "60a7b680",
   "metadata": {},
   "outputs": [],
   "source": [
    "from sklearn.model_selection import train_test_split\n",
    "SEED = 1\n",
    "X_train, X_test, y_train, y_test = train_test_split(X, y, test_size=0.2, random_state= SEED)"
   ]
  },
  {
   "cell_type": "code",
   "execution_count": 12,
   "id": "252b5dec",
   "metadata": {},
   "outputs": [],
   "source": [
    "training_df = pd.concat([X_train, y_train], axis = 1)\n",
    "\n",
    "test_df = pd.concat([X_test, y_test], axis = 1)"
   ]
  },
  {
   "cell_type": "code",
   "execution_count": null,
   "id": "9bc47d17",
   "metadata": {},
   "outputs": [],
   "source": []
  },
  {
   "cell_type": "code",
   "execution_count": null,
   "id": "bd8156aa",
   "metadata": {},
   "outputs": [],
   "source": []
  },
  {
   "cell_type": "markdown",
   "id": "b0abf001",
   "metadata": {},
   "source": [
    "### Factors Affecting Quality Score"
   ]
  },
  {
   "cell_type": "code",
   "execution_count": 13,
   "id": "b508792c",
   "metadata": {},
   "outputs": [],
   "source": [
    "from statsmodels.formula.api import ols\n",
    "\n",
    "model = ols('Quality_score ~ Ad_relevance_score + Expected_CTR_score +\\\n",
    "                    Landing_page_exp_score + 0', data = training_df).fit()"
   ]
  },
  {
   "cell_type": "code",
   "execution_count": 14,
   "id": "ff645838",
   "metadata": {},
   "outputs": [
    {
     "name": "stdout",
     "output_type": "stream",
     "text": [
      "Ad_relevance_score        1.273957\n",
      "Expected_CTR_score        1.419437\n",
      "Landing_page_exp_score    0.902590\n",
      "dtype: float64 \n",
      "\n",
      "rsquared: 0.9900136293076974\n"
     ]
    }
   ],
   "source": [
    "print(f\"{model.params} \\n\") \n",
    "print(f\"rsquared: {model.rsquared}\")"
   ]
  },
  {
   "cell_type": "code",
   "execution_count": null,
   "id": "85a81ce3",
   "metadata": {},
   "outputs": [],
   "source": []
  },
  {
   "cell_type": "code",
   "execution_count": null,
   "id": "c4913874",
   "metadata": {},
   "outputs": [],
   "source": []
  },
  {
   "cell_type": "markdown",
   "id": "17f7786d",
   "metadata": {},
   "source": [
    "### Effect of Quality score on Average Ad position"
   ]
  },
  {
   "cell_type": "code",
   "execution_count": 15,
   "id": "5be535d2",
   "metadata": {},
   "outputs": [],
   "source": [
    "model2 = ols('position_score ~ Quality_score + 0', data = training_df).fit()"
   ]
  },
  {
   "cell_type": "code",
   "execution_count": 16,
   "id": "496d2f9f",
   "metadata": {},
   "outputs": [
    {
     "name": "stdout",
     "output_type": "stream",
     "text": [
      "Quality_score    0.99755\n",
      "dtype: float64 \n",
      "\n",
      "rsquared: 0.8602117028958625\n"
     ]
    }
   ],
   "source": [
    "print(f\"{model2.params} \\n\") \n",
    "print(f\"rsquared: {model2.rsquared}\")"
   ]
  },
  {
   "cell_type": "code",
   "execution_count": null,
   "id": "7564dd12",
   "metadata": {},
   "outputs": [],
   "source": []
  },
  {
   "cell_type": "code",
   "execution_count": null,
   "id": "ad8a5dbc",
   "metadata": {},
   "outputs": [],
   "source": []
  },
  {
   "cell_type": "markdown",
   "id": "9e6a4c28",
   "metadata": {},
   "source": [
    "### Effect of Average position on Impressions"
   ]
  },
  {
   "cell_type": "code",
   "execution_count": 17,
   "id": "ed9371cb",
   "metadata": {},
   "outputs": [],
   "source": [
    "model3 = ols('Impressions ~ Ad_Group:position_score + 0', data = training_df).fit()"
   ]
  },
  {
   "cell_type": "code",
   "execution_count": 18,
   "id": "bedeeb0b",
   "metadata": {},
   "outputs": [
    {
     "name": "stdout",
     "output_type": "stream",
     "text": [
      "Ad_Group[Alternative Gifts]:position_score            1908.181416\n",
      "Ad_Group[Books]:position_score                        2975.863636\n",
      "Ad_Group[Children's Clothes]:position_score           1288.330097\n",
      "Ad_Group[Christmas Cards]:position_score              1034.415205\n",
      "Ad_Group[Gifts and Banker Products]:position_score    1998.605373\n",
      "Ad_Group[Marketing]:position_score                    3472.000000\n",
      "dtype: float64 \n",
      "\n",
      "rsquared: 0.7413736872336099\n"
     ]
    }
   ],
   "source": [
    "print(f\"{model3.params} \\n\") \n",
    "print(f\"rsquared: {model3.rsquared}\")"
   ]
  },
  {
   "cell_type": "code",
   "execution_count": null,
   "id": "d58103cb",
   "metadata": {},
   "outputs": [],
   "source": []
  },
  {
   "cell_type": "code",
   "execution_count": null,
   "id": "3345a306",
   "metadata": {},
   "outputs": [],
   "source": []
  },
  {
   "cell_type": "markdown",
   "id": "af660777",
   "metadata": {},
   "source": [
    "### Effect of Impressions on Clicks"
   ]
  },
  {
   "cell_type": "code",
   "execution_count": 19,
   "id": "96c4862d",
   "metadata": {},
   "outputs": [],
   "source": [
    "model4 = ols('Clicks ~ Ad_Group:Impressions + 0', data = training_df).fit()"
   ]
  },
  {
   "cell_type": "code",
   "execution_count": 20,
   "id": "b259c284",
   "metadata": {},
   "outputs": [
    {
     "name": "stdout",
     "output_type": "stream",
     "text": [
      "Ad_Group[Alternative Gifts]:Impressions            0.046675\n",
      "Ad_Group[Books]:Impressions                        0.039186\n",
      "Ad_Group[Children's Clothes]:Impressions           0.033180\n",
      "Ad_Group[Christmas Cards]:Impressions              0.033635\n",
      "Ad_Group[Gifts and Banker Products]:Impressions    0.055237\n",
      "Ad_Group[Marketing]:Impressions                    0.026642\n",
      "dtype: float64 \n",
      "\n",
      "rsquared: 0.9651159113833189\n"
     ]
    }
   ],
   "source": [
    "print(f\"{model4.params} \\n\") \n",
    "print(f\"rsquared: {model4.rsquared}\")"
   ]
  },
  {
   "cell_type": "code",
   "execution_count": null,
   "id": "816638d5",
   "metadata": {},
   "outputs": [],
   "source": []
  },
  {
   "cell_type": "code",
   "execution_count": null,
   "id": "760e7f6c",
   "metadata": {},
   "outputs": [],
   "source": []
  },
  {
   "cell_type": "markdown",
   "id": "d005582c",
   "metadata": {},
   "source": [
    "### Effect of Clicks on Conversions"
   ]
  },
  {
   "cell_type": "code",
   "execution_count": 21,
   "id": "074293e8",
   "metadata": {},
   "outputs": [],
   "source": [
    "model5 = ols('Conversions ~ Ad_Group:Clicks + 0', data = training_df).fit()"
   ]
  },
  {
   "cell_type": "code",
   "execution_count": 22,
   "id": "0ece3047",
   "metadata": {},
   "outputs": [
    {
     "name": "stdout",
     "output_type": "stream",
     "text": [
      "Ad_Group[Alternative Gifts]:Clicks            0.070112\n",
      "Ad_Group[Books]:Clicks                        0.060380\n",
      "Ad_Group[Children's Clothes]:Clicks           0.049703\n",
      "Ad_Group[Christmas Cards]:Clicks              0.054839\n",
      "Ad_Group[Gifts and Banker Products]:Clicks    0.088262\n",
      "Ad_Group[Marketing]:Clicks                    0.037838\n",
      "dtype: float64 \n",
      "\n",
      "rsquared: 0.9777787508691803\n"
     ]
    }
   ],
   "source": [
    "print(f\"{model5.params} \\n\") \n",
    "print(f\"rsquared: {model5.rsquared}\")"
   ]
  },
  {
   "cell_type": "code",
   "execution_count": null,
   "id": "a75053f6",
   "metadata": {},
   "outputs": [],
   "source": []
  },
  {
   "cell_type": "code",
   "execution_count": null,
   "id": "be3e5510",
   "metadata": {},
   "outputs": [],
   "source": []
  },
  {
   "cell_type": "markdown",
   "id": "7c007c2c",
   "metadata": {},
   "source": [
    "### Chisquare Test of Independence between Ad Groups and Landing Page experince"
   ]
  },
  {
   "cell_type": "code",
   "execution_count": 23,
   "id": "278374b9",
   "metadata": {},
   "outputs": [
    {
     "data": {
      "text/plain": [
       "array(['Gifts and Banker Products', 'Marketing', \"Children's Clothes\",\n",
       "       'Books', 'Christmas Cards', 'Alternative Gifts'], dtype=object)"
      ]
     },
     "execution_count": 23,
     "metadata": {},
     "output_type": "execute_result"
    }
   ],
   "source": [
    "df['Ad_Group'].unique()"
   ]
  },
  {
   "cell_type": "code",
   "execution_count": 24,
   "id": "5c1b2558",
   "metadata": {},
   "outputs": [
    {
     "data": {
      "text/html": [
       "<div>\n",
       "<style scoped>\n",
       "    .dataframe tbody tr th:only-of-type {\n",
       "        vertical-align: middle;\n",
       "    }\n",
       "\n",
       "    .dataframe tbody tr th {\n",
       "        vertical-align: top;\n",
       "    }\n",
       "\n",
       "    .dataframe thead th {\n",
       "        text-align: right;\n",
       "    }\n",
       "</style>\n",
       "<table border=\"1\" class=\"dataframe\">\n",
       "  <thead>\n",
       "    <tr style=\"text-align: right;\">\n",
       "      <th>Landing_page_experience</th>\n",
       "      <th>Above average</th>\n",
       "      <th>Average</th>\n",
       "      <th>Below average</th>\n",
       "    </tr>\n",
       "    <tr>\n",
       "      <th>Ad_Group</th>\n",
       "      <th></th>\n",
       "      <th></th>\n",
       "      <th></th>\n",
       "    </tr>\n",
       "  </thead>\n",
       "  <tbody>\n",
       "    <tr>\n",
       "      <th>Alternative Gifts</th>\n",
       "      <td>NaN</td>\n",
       "      <td>0.500000</td>\n",
       "      <td>0.500000</td>\n",
       "    </tr>\n",
       "    <tr>\n",
       "      <th>Books</th>\n",
       "      <td>NaN</td>\n",
       "      <td>0.571429</td>\n",
       "      <td>0.428571</td>\n",
       "    </tr>\n",
       "    <tr>\n",
       "      <th>Children's Clothes</th>\n",
       "      <td>NaN</td>\n",
       "      <td>0.200000</td>\n",
       "      <td>0.800000</td>\n",
       "    </tr>\n",
       "    <tr>\n",
       "      <th>Christmas Cards</th>\n",
       "      <td>NaN</td>\n",
       "      <td>0.048387</td>\n",
       "      <td>0.951613</td>\n",
       "    </tr>\n",
       "    <tr>\n",
       "      <th>Gifts and Banker Products</th>\n",
       "      <td>0.298507</td>\n",
       "      <td>0.208955</td>\n",
       "      <td>0.492537</td>\n",
       "    </tr>\n",
       "    <tr>\n",
       "      <th>Marketing</th>\n",
       "      <td>NaN</td>\n",
       "      <td>NaN</td>\n",
       "      <td>1.000000</td>\n",
       "    </tr>\n",
       "  </tbody>\n",
       "</table>\n",
       "</div>"
      ],
      "text/plain": [
       "Landing_page_experience    Above average   Average  Below average\n",
       "Ad_Group                                                         \n",
       "Alternative Gifts                    NaN  0.500000       0.500000\n",
       "Books                                NaN  0.571429       0.428571\n",
       "Children's Clothes                   NaN  0.200000       0.800000\n",
       "Christmas Cards                      NaN  0.048387       0.951613\n",
       "Gifts and Banker Products       0.298507  0.208955       0.492537\n",
       "Marketing                            NaN       NaN       1.000000"
      ]
     },
     "execution_count": 24,
     "metadata": {},
     "output_type": "execute_result"
    }
   ],
   "source": [
    "ad_group_relevance = df.groupby('Ad_Group')['Landing_page_experience'].value_counts(normalize = True).unstack()\n",
    "ad_group_relevance"
   ]
  },
  {
   "cell_type": "code",
   "execution_count": 25,
   "id": "4b1a0711",
   "metadata": {},
   "outputs": [
    {
     "data": {
      "image/png": "[encoded data removed]",
      "text/plain": [
       "<Figure size 432x288 with 1 Axes>"
      ]
     },
     "metadata": {
      "needs_background": "light"
     },
     "output_type": "display_data"
    }
   ],
   "source": [
    "ad_group_relevance.plot(kind='bar', stacked=True) \n",
    "plt.show()"
   ]
  },
  {
   "cell_type": "code",
   "execution_count": 26,
   "id": "7499bd78",
   "metadata": {},
   "outputs": [],
   "source": [
    "import pingouin"
   ]
  },
  {
   "cell_type": "code",
   "execution_count": 27,
   "id": "6489c45d",
   "metadata": {},
   "outputs": [
    {
     "name": "stderr",
     "output_type": "stream",
     "text": [
      "C:\\Users\\tuneG\\anaconda3\\lib\\site-packages\\pingouin\\contingency.py:151: UserWarning: Low count on observed frequencies.\n",
      "  warnings.warn('Low count on {} frequencies.'.format(name))\n",
      "C:\\Users\\tuneG\\anaconda3\\lib\\site-packages\\pingouin\\contingency.py:151: UserWarning: Low count on expected frequencies.\n",
      "  warnings.warn('Low count on {} frequencies.'.format(name))\n",
      "C:\\Users\\tuneG\\anaconda3\\lib\\site-packages\\scipy\\stats\\_stats_py.py:6775: RuntimeWarning: divide by zero encountered in power\n",
      "  terms = f_obs * ((f_obs / f_exp)**lambda_ - 1)\n",
      "C:\\Users\\tuneG\\anaconda3\\lib\\site-packages\\scipy\\stats\\_stats_py.py:6775: RuntimeWarning: invalid value encountered in multiply\n",
      "  terms = f_obs * ((f_obs / f_exp)**lambda_ - 1)\n",
      "C:\\Users\\tuneG\\anaconda3\\lib\\site-packages\\scipy\\stats\\_stats_py.py:6772: RuntimeWarning: divide by zero encountered in true_divide\n",
      "  terms = 2.0 * special.xlogy(f_exp, f_exp / f_obs)\n"
     ]
    }
   ],
   "source": [
    "expected, observed, stat = pingouin.chi2_independence(data = df, x = 'Ad_Group', y = 'Landing_page_experience')"
   ]
  },
  {
   "cell_type": "code",
   "execution_count": 28,
   "id": "9d5053ba",
   "metadata": {},
   "outputs": [
    {
     "data": {
      "text/html": [
       "<div>\n",
       "<style scoped>\n",
       "    .dataframe tbody tr th:only-of-type {\n",
       "        vertical-align: middle;\n",
       "    }\n",
       "\n",
       "    .dataframe tbody tr th {\n",
       "        vertical-align: top;\n",
       "    }\n",
       "\n",
       "    .dataframe thead th {\n",
       "        text-align: right;\n",
       "    }\n",
       "</style>\n",
       "<table border=\"1\" class=\"dataframe\">\n",
       "  <thead>\n",
       "    <tr style=\"text-align: right;\">\n",
       "      <th></th>\n",
       "      <th>test</th>\n",
       "      <th>lambda</th>\n",
       "      <th>chi2</th>\n",
       "      <th>dof</th>\n",
       "      <th>pval</th>\n",
       "      <th>cramer</th>\n",
       "      <th>power</th>\n",
       "    </tr>\n",
       "  </thead>\n",
       "  <tbody>\n",
       "    <tr>\n",
       "      <th>0</th>\n",
       "      <td>pearson</td>\n",
       "      <td>1.000000</td>\n",
       "      <td>50.379197</td>\n",
       "      <td>10.0</td>\n",
       "      <td>2.272914e-07</td>\n",
       "      <td>0.415369</td>\n",
       "      <td>0.957056</td>\n",
       "    </tr>\n",
       "    <tr>\n",
       "      <th>1</th>\n",
       "      <td>cressie-read</td>\n",
       "      <td>0.666667</td>\n",
       "      <td>50.295546</td>\n",
       "      <td>10.0</td>\n",
       "      <td>2.354963e-07</td>\n",
       "      <td>0.415024</td>\n",
       "      <td>0.956712</td>\n",
       "    </tr>\n",
       "    <tr>\n",
       "      <th>2</th>\n",
       "      <td>log-likelihood</td>\n",
       "      <td>0.000000</td>\n",
       "      <td>56.272902</td>\n",
       "      <td>10.0</td>\n",
       "      <td>1.824876e-08</td>\n",
       "      <td>0.438994</td>\n",
       "      <td>0.975902</td>\n",
       "    </tr>\n",
       "    <tr>\n",
       "      <th>3</th>\n",
       "      <td>freeman-tukey</td>\n",
       "      <td>-0.500000</td>\n",
       "      <td>NaN</td>\n",
       "      <td>10.0</td>\n",
       "      <td>NaN</td>\n",
       "      <td>NaN</td>\n",
       "      <td>NaN</td>\n",
       "    </tr>\n",
       "    <tr>\n",
       "      <th>4</th>\n",
       "      <td>mod-log-likelihood</td>\n",
       "      <td>-1.000000</td>\n",
       "      <td>inf</td>\n",
       "      <td>10.0</td>\n",
       "      <td>0.000000e+00</td>\n",
       "      <td>inf</td>\n",
       "      <td>1.000000</td>\n",
       "    </tr>\n",
       "    <tr>\n",
       "      <th>5</th>\n",
       "      <td>neyman</td>\n",
       "      <td>-2.000000</td>\n",
       "      <td>NaN</td>\n",
       "      <td>10.0</td>\n",
       "      <td>NaN</td>\n",
       "      <td>NaN</td>\n",
       "      <td>NaN</td>\n",
       "    </tr>\n",
       "  </tbody>\n",
       "</table>\n",
       "</div>"
      ],
      "text/plain": [
       "                 test    lambda       chi2   dof          pval    cramer  \\\n",
       "0             pearson  1.000000  50.379197  10.0  2.272914e-07  0.415369   \n",
       "1        cressie-read  0.666667  50.295546  10.0  2.354963e-07  0.415024   \n",
       "2      log-likelihood  0.000000  56.272902  10.0  1.824876e-08  0.438994   \n",
       "3       freeman-tukey -0.500000        NaN  10.0           NaN       NaN   \n",
       "4  mod-log-likelihood -1.000000        inf  10.0  0.000000e+00       inf   \n",
       "5              neyman -2.000000        NaN  10.0           NaN       NaN   \n",
       "\n",
       "      power  \n",
       "0  0.957056  \n",
       "1  0.956712  \n",
       "2  0.975902  \n",
       "3       NaN  \n",
       "4  1.000000  \n",
       "5       NaN  "
      ]
     },
     "execution_count": 28,
     "metadata": {},
     "output_type": "execute_result"
    }
   ],
   "source": [
    "stat"
   ]
  },
  {
   "cell_type": "code",
   "execution_count": null,
   "id": "0451233b",
   "metadata": {},
   "outputs": [],
   "source": []
  },
  {
   "cell_type": "code",
   "execution_count": null,
   "id": "7c13044f",
   "metadata": {},
   "outputs": [],
   "source": []
  },
  {
   "cell_type": "markdown",
   "id": "7eb631b1",
   "metadata": {},
   "source": [
    "### Predicting Ads Keyword Conversions"
   ]
  },
  {
   "cell_type": "markdown",
   "id": "5e42f869",
   "metadata": {},
   "source": [
    "#### Preprocessing"
   ]
  },
  {
   "cell_type": "code",
   "execution_count": 29,
   "id": "490b9762",
   "metadata": {},
   "outputs": [
    {
     "data": {
      "text/html": [
       "<div>\n",
       "<style scoped>\n",
       "    .dataframe tbody tr th:only-of-type {\n",
       "        vertical-align: middle;\n",
       "    }\n",
       "\n",
       "    .dataframe tbody tr th {\n",
       "        vertical-align: top;\n",
       "    }\n",
       "\n",
       "    .dataframe thead th {\n",
       "        text-align: right;\n",
       "    }\n",
       "</style>\n",
       "<table border=\"1\" class=\"dataframe\">\n",
       "  <thead>\n",
       "    <tr style=\"text-align: right;\">\n",
       "      <th></th>\n",
       "      <th>Ad_Group</th>\n",
       "      <th>Search_Keyword</th>\n",
       "      <th>Quality_score</th>\n",
       "      <th>Ad_relevance</th>\n",
       "      <th>Expected_clickthrough_rate</th>\n",
       "      <th>Landing_page_experience</th>\n",
       "      <th>Ad_relevance_score</th>\n",
       "      <th>Expected_CTR_score</th>\n",
       "      <th>Landing_page_exp_score</th>\n",
       "      <th>Impressions</th>\n",
       "      <th>Clicks</th>\n",
       "      <th>Total_Cost</th>\n",
       "      <th>Revenue_per_unit_sold</th>\n",
       "      <th>Total_Revenue</th>\n",
       "      <th>position_score</th>\n",
       "      <th>Conversions</th>\n",
       "    </tr>\n",
       "  </thead>\n",
       "  <tbody>\n",
       "    <tr>\n",
       "      <th>124</th>\n",
       "      <td>Christmas Cards</td>\n",
       "      <td>ho ho ho santa christmas card</td>\n",
       "      <td>5</td>\n",
       "      <td>Above average</td>\n",
       "      <td>Average</td>\n",
       "      <td>Below average</td>\n",
       "      <td>2</td>\n",
       "      <td>1.75</td>\n",
       "      <td>0.0</td>\n",
       "      <td>10825</td>\n",
       "      <td>361</td>\n",
       "      <td>72.17</td>\n",
       "      <td>3.00</td>\n",
       "      <td>54.86</td>\n",
       "      <td>7</td>\n",
       "      <td>18</td>\n",
       "    </tr>\n",
       "    <tr>\n",
       "      <th>51</th>\n",
       "      <td>Gifts and Banker Products</td>\n",
       "      <td>posting christmas stocking gift bag large</td>\n",
       "      <td>7</td>\n",
       "      <td>Average</td>\n",
       "      <td>Average</td>\n",
       "      <td>Above average</td>\n",
       "      <td>1</td>\n",
       "      <td>1.75</td>\n",
       "      <td>3.5</td>\n",
       "      <td>24206</td>\n",
       "      <td>1130</td>\n",
       "      <td>161.37</td>\n",
       "      <td>1.40</td>\n",
       "      <td>110.06</td>\n",
       "      <td>9</td>\n",
       "      <td>79</td>\n",
       "    </tr>\n",
       "    <tr>\n",
       "      <th>42</th>\n",
       "      <td>Gifts and Banker Products</td>\n",
       "      <td>love life amazing dad keyring</td>\n",
       "      <td>3</td>\n",
       "      <td>Below average</td>\n",
       "      <td>Average</td>\n",
       "      <td>Below average</td>\n",
       "      <td>0</td>\n",
       "      <td>1.75</td>\n",
       "      <td>0.0</td>\n",
       "      <td>1764</td>\n",
       "      <td>35</td>\n",
       "      <td>11.76</td>\n",
       "      <td>2.99</td>\n",
       "      <td>3.27</td>\n",
       "      <td>3</td>\n",
       "      <td>1</td>\n",
       "    </tr>\n",
       "  </tbody>\n",
       "</table>\n",
       "</div>"
      ],
      "text/plain": [
       "                      Ad_Group                             Search_Keyword  \\\n",
       "124            Christmas Cards             ho ho ho santa christmas card    \n",
       "51   Gifts and Banker Products  posting christmas stocking gift bag large   \n",
       "42   Gifts and Banker Products              love life amazing dad keyring   \n",
       "\n",
       "     Quality_score   Ad_relevance Expected_clickthrough_rate  \\\n",
       "124              5  Above average                    Average   \n",
       "51               7        Average                    Average   \n",
       "42               3  Below average                    Average   \n",
       "\n",
       "    Landing_page_experience  Ad_relevance_score  Expected_CTR_score  \\\n",
       "124           Below average                   2                1.75   \n",
       "51            Above average                   1                1.75   \n",
       "42            Below average                   0                1.75   \n",
       "\n",
       "     Landing_page_exp_score  Impressions  Clicks  Total_Cost  \\\n",
       "124                     0.0        10825     361       72.17   \n",
       "51                      3.5        24206    1130      161.37   \n",
       "42                      0.0         1764      35       11.76   \n",
       "\n",
       "     Revenue_per_unit_sold  Total_Revenue  position_score  Conversions  \n",
       "124                   3.00          54.86               7           18  \n",
       "51                    1.40         110.06               9           79  \n",
       "42                    2.99           3.27               3            1  "
      ]
     },
     "execution_count": 29,
     "metadata": {},
     "output_type": "execute_result"
    }
   ],
   "source": [
    "training_df.head(3)"
   ]
  },
  {
   "cell_type": "code",
   "execution_count": null,
   "id": "a4a437e8",
   "metadata": {},
   "outputs": [],
   "source": []
  },
  {
   "cell_type": "code",
   "execution_count": 30,
   "id": "24b0c4c5",
   "metadata": {},
   "outputs": [],
   "source": [
    "training_df = training_df[['Ad_Group', 'Quality_score',  'Ad_relevance_score', 'Expected_CTR_score', 'Landing_page_exp_score',\n",
    "          'position_score', 'Impressions', 'Clicks', 'Conversions']]\n",
    "\n",
    "test_df = test_df[['Ad_Group', 'Quality_score',  'Ad_relevance_score', 'Expected_CTR_score', 'Landing_page_exp_score',\n",
    "          'position_score', 'Impressions', 'Clicks', 'Conversions']]\n"
   ]
  },
  {
   "cell_type": "code",
   "execution_count": null,
   "id": "2d24e1c8",
   "metadata": {},
   "outputs": [],
   "source": []
  },
  {
   "cell_type": "code",
   "execution_count": 31,
   "id": "ac4cd6b2",
   "metadata": {},
   "outputs": [],
   "source": [
    "from sklearn.model_selection import train_test_split\n",
    "from sklearn.linear_model import LinearRegression\n",
    "from sklearn.metrics import mean_absolute_error as MAE"
   ]
  },
  {
   "cell_type": "code",
   "execution_count": 32,
   "id": "ac98f7ed",
   "metadata": {},
   "outputs": [],
   "source": [
    "cat_columns = ['Ad_Group']"
   ]
  },
  {
   "cell_type": "code",
   "execution_count": 33,
   "id": "f89dc354",
   "metadata": {},
   "outputs": [],
   "source": [
    "def one_hot_encoding(training_df):\n",
    "    from sklearn.preprocessing import OneHotEncoder\n",
    "    \n",
    "    ohe = OneHotEncoder(handle_unknown='ignore', sparse = False)\n",
    "    ohe.fit(training_df[cat_columns])\n",
    "    \n",
    "    cat_ohe = ohe.transform(training_df[cat_columns])\n",
    "    ohe_training_df = pd.DataFrame(cat_ohe, columns = ohe.get_feature_names(input_features = cat_columns))\n",
    "\n",
    "    training_df.reset_index(inplace= True)\n",
    "    training_df.drop('index', axis= 1, inplace= True)\n",
    "\n",
    "    training_df_encoded = pd.concat([training_df, ohe_training_df], axis=1).drop(columns = cat_columns, axis=1)\n",
    "    \n",
    "    return ohe, training_df_encoded"
   ]
  },
  {
   "cell_type": "code",
   "execution_count": 34,
   "id": "52df8d67",
   "metadata": {},
   "outputs": [
    {
     "name": "stderr",
     "output_type": "stream",
     "text": [
      "C:\\Users\\tuneG\\anaconda3\\lib\\site-packages\\sklearn\\utils\\deprecation.py:87: FutureWarning: Function get_feature_names is deprecated; get_feature_names is deprecated in 1.0 and will be removed in 1.2. Please use get_feature_names_out instead.\n",
      "  warnings.warn(msg, category=FutureWarning)\n",
      "C:\\Users\\tuneG\\anaconda3\\lib\\site-packages\\pandas\\core\\frame.py:4308: SettingWithCopyWarning: \n",
      "A value is trying to be set on a copy of a slice from a DataFrame\n",
      "\n",
      "See the caveats in the documentation: https://pandas.pydata.org/pandas-docs/stable/user_guide/indexing.html#returning-a-view-versus-a-copy\n",
      "  return super().drop(\n"
     ]
    }
   ],
   "source": [
    "encoder, training_df_encoded =  one_hot_encoding(training_df)\n",
    "#pickle.dump(encoder, open('Fitted_OneHotencoder.pkl', 'wb'))\n",
    "\n",
    "def encode_new_data(new_data_df):\n",
    "    cat_ohe_new = encoder.transform(new_data_df[cat_columns])\n",
    "    ohe_new_data_df = pd.DataFrame(cat_ohe_new, columns = encoder.get_feature_names_out(input_features = cat_columns))\n",
    "    \n",
    "    new_data_df.reset_index(inplace= True)\n",
    "    new_data_df.drop('index', axis= 1, inplace= True)\n",
    "    \n",
    "    new_data_df_encoded = pd.concat([new_data_df, ohe_new_data_df], axis=1).drop(columns = cat_columns, axis=1)\n",
    "    return new_data_df_encoded\n",
    "\n"
   ]
  },
  {
   "cell_type": "code",
   "execution_count": 35,
   "id": "9da4a1da",
   "metadata": {},
   "outputs": [],
   "source": [
    "test_df_encoded = encode_new_data(test_df)"
   ]
  },
  {
   "cell_type": "code",
   "execution_count": 36,
   "id": "e3c813d3",
   "metadata": {},
   "outputs": [],
   "source": [
    "features = list(training_df_encoded.columns.drop('Conversions'))\n",
    "\n",
    "X_train = training_df_encoded[features]\n",
    "y_train = training_df_encoded['Conversions']\n",
    "\n",
    "X_test = test_df_encoded[features]\n",
    "y_test = test_df_encoded['Conversions']"
   ]
  },
  {
   "cell_type": "code",
   "execution_count": null,
   "id": "6c2d352a",
   "metadata": {},
   "outputs": [],
   "source": []
  },
  {
   "cell_type": "markdown",
   "id": "2ecdf10e",
   "metadata": {},
   "source": [
    "#### Fitting and Evaluating Linear Regression Model"
   ]
  },
  {
   "cell_type": "code",
   "execution_count": 37,
   "id": "81b35f69",
   "metadata": {},
   "outputs": [],
   "source": [
    "lr = LinearRegression()\n",
    "model = lr.fit(X_train, y_train)"
   ]
  },
  {
   "cell_type": "code",
   "execution_count": 38,
   "id": "91616466",
   "metadata": {},
   "outputs": [],
   "source": [
    "y_pred = model.predict(X_test)"
   ]
  },
  {
   "cell_type": "code",
   "execution_count": 39,
   "id": "711986fe",
   "metadata": {},
   "outputs": [
    {
     "data": {
      "text/plain": [
       "1.7861312060233763"
      ]
     },
     "execution_count": 39,
     "metadata": {},
     "output_type": "execute_result"
    }
   ],
   "source": [
    "MAE(y_test, y_pred)"
   ]
  },
  {
   "cell_type": "code",
   "execution_count": null,
   "id": "1921b97b",
   "metadata": {},
   "outputs": [],
   "source": []
  },
  {
   "cell_type": "code",
   "execution_count": null,
   "id": "bccba692",
   "metadata": {},
   "outputs": [],
   "source": []
  },
  {
   "cell_type": "markdown",
   "id": "76f260bd",
   "metadata": {},
   "source": [
    "### Sample Tweaking of 'Quality Score' factor(s) (Expected_CTR_score) to see the effect on Conversions"
   ]
  },
  {
   "cell_type": "code",
   "execution_count": 40,
   "id": "a4677ab3",
   "metadata": {},
   "outputs": [
    {
     "data": {
      "text/plain": [
       "Quality_score                             7.00\n",
       "Ad_relevance_score                        2.00\n",
       "Expected_CTR_score                        1.75\n",
       "Landing_page_exp_score                    1.75\n",
       "position_score                            8.00\n",
       "Impressions                           15533.00\n",
       "Clicks                                  725.00\n",
       "Ad_Group_Alternative Gifts                1.00\n",
       "Ad_Group_Books                            0.00\n",
       "Ad_Group_Children's Clothes               0.00\n",
       "Ad_Group_Christmas Cards                  0.00\n",
       "Ad_Group_Gifts and Banker Products        0.00\n",
       "Ad_Group_Marketing                        0.00\n",
       "Name: 26, dtype: float64"
      ]
     },
     "execution_count": 40,
     "metadata": {},
     "output_type": "execute_result"
    }
   ],
   "source": [
    "X_test.loc[26,:]"
   ]
  },
  {
   "cell_type": "code",
   "execution_count": 41,
   "id": "a4bfeaab",
   "metadata": {},
   "outputs": [
    {
     "name": "stdout",
     "output_type": "stream",
     "text": [
      "Current Conversions for Ad_keyword above: 51\n"
     ]
    }
   ],
   "source": [
    "print(f\"Current Conversions for Ad_keyword above: {y_test.loc[26]}\")"
   ]
  },
  {
   "cell_type": "code",
   "execution_count": null,
   "id": "a46d82d9",
   "metadata": {},
   "outputs": [],
   "source": []
  },
  {
   "cell_type": "markdown",
   "id": "4f7fd174",
   "metadata": {},
   "source": [
    "Increased the Expected_CTR_score by one unit to 3.5"
   ]
  },
  {
   "cell_type": "code",
   "execution_count": 42,
   "id": "974e2902",
   "metadata": {},
   "outputs": [],
   "source": [
    "dataa = {'Quality_score': [8], 'Ad_relevance_score':[2], 'Expected_CTR_score':[3.5],\n",
    "       'Landing_page_exp_score': [1.75], 'position_score':[9], 'Impressions':[17448], 'Clicks':[814],\n",
    "       'Ad_Group_Alternative Gifts': [1], 'Ad_Group_Books': [0],\n",
    "       \"Ad_Group_Children's Clothes\":[0], 'Ad_Group_Christmas Cards':[0],\n",
    "       'Ad_Group_Gifts and Banker Products':[0], 'Ad_Group_Marketing':[0]}"
   ]
  },
  {
   "cell_type": "code",
   "execution_count": 43,
   "id": "3acf5c1a",
   "metadata": {},
   "outputs": [],
   "source": [
    "new_data = pd.DataFrame(dataa)"
   ]
  },
  {
   "cell_type": "code",
   "execution_count": 44,
   "id": "4dfe82ea",
   "metadata": {},
   "outputs": [
    {
     "data": {
      "text/html": [
       "<div>\n",
       "<style scoped>\n",
       "    .dataframe tbody tr th:only-of-type {\n",
       "        vertical-align: middle;\n",
       "    }\n",
       "\n",
       "    .dataframe tbody tr th {\n",
       "        vertical-align: top;\n",
       "    }\n",
       "\n",
       "    .dataframe thead th {\n",
       "        text-align: right;\n",
       "    }\n",
       "</style>\n",
       "<table border=\"1\" class=\"dataframe\">\n",
       "  <thead>\n",
       "    <tr style=\"text-align: right;\">\n",
       "      <th></th>\n",
       "      <th>Quality_score</th>\n",
       "      <th>Ad_relevance_score</th>\n",
       "      <th>Expected_CTR_score</th>\n",
       "      <th>Landing_page_exp_score</th>\n",
       "      <th>position_score</th>\n",
       "      <th>Impressions</th>\n",
       "      <th>Clicks</th>\n",
       "      <th>Ad_Group_Alternative Gifts</th>\n",
       "      <th>Ad_Group_Books</th>\n",
       "      <th>Ad_Group_Children's Clothes</th>\n",
       "      <th>Ad_Group_Christmas Cards</th>\n",
       "      <th>Ad_Group_Gifts and Banker Products</th>\n",
       "      <th>Ad_Group_Marketing</th>\n",
       "    </tr>\n",
       "  </thead>\n",
       "  <tbody>\n",
       "    <tr>\n",
       "      <th>0</th>\n",
       "      <td>8</td>\n",
       "      <td>2</td>\n",
       "      <td>3.5</td>\n",
       "      <td>1.75</td>\n",
       "      <td>9</td>\n",
       "      <td>17448</td>\n",
       "      <td>814</td>\n",
       "      <td>1</td>\n",
       "      <td>0</td>\n",
       "      <td>0</td>\n",
       "      <td>0</td>\n",
       "      <td>0</td>\n",
       "      <td>0</td>\n",
       "    </tr>\n",
       "  </tbody>\n",
       "</table>\n",
       "</div>"
      ],
      "text/plain": [
       "   Quality_score  Ad_relevance_score  Expected_CTR_score  \\\n",
       "0              8                   2                 3.5   \n",
       "\n",
       "   Landing_page_exp_score  position_score  Impressions  Clicks  \\\n",
       "0                    1.75               9        17448     814   \n",
       "\n",
       "   Ad_Group_Alternative Gifts  Ad_Group_Books  Ad_Group_Children's Clothes  \\\n",
       "0                           1               0                            0   \n",
       "\n",
       "   Ad_Group_Christmas Cards  Ad_Group_Gifts and Banker Products  \\\n",
       "0                         0                                   0   \n",
       "\n",
       "   Ad_Group_Marketing  \n",
       "0                   0  "
      ]
     },
     "execution_count": 44,
     "metadata": {},
     "output_type": "execute_result"
    }
   ],
   "source": [
    "new_data"
   ]
  },
  {
   "cell_type": "code",
   "execution_count": 45,
   "id": "27b1f304",
   "metadata": {},
   "outputs": [
    {
     "name": "stdout",
     "output_type": "stream",
     "text": [
      "New Conversions count after increasing Expected_CTR_score of keyword: 54.37528644478394\n"
     ]
    }
   ],
   "source": [
    "print(f\"New Conversions count after increasing Expected_CTR_score of keyword: {model.predict(new_data)[0]}\")"
   ]
  },
  {
   "cell_type": "code",
   "execution_count": null,
   "id": "8dcf7d4e",
   "metadata": {},
   "outputs": [],
   "source": []
  },
  {
   "cell_type": "code",
   "execution_count": null,
   "id": "62e6881a",
   "metadata": {},
   "outputs": [],
   "source": []
  },
  {
   "cell_type": "markdown",
   "id": "0c45968c",
   "metadata": {},
   "source": [
    "### AUTOMATING QUALITY SCORE FACTOR(S) TWEAKS\n",
    "\n",
    "#### USING RESULTING QUALITY SCORE, AVERAGE POSITION SCORE, NUMBER OF IMPRESSIONS AND CLICKS\n",
    "#### TO _PREDICT NUMBER OF CONVERSIONS_    "
   ]
  },
  {
   "cell_type": "code",
   "execution_count": null,
   "id": "a1627585",
   "metadata": {},
   "outputs": [],
   "source": []
  },
  {
   "cell_type": "markdown",
   "id": "828f5ccc",
   "metadata": {},
   "source": [
    "### FUNCTION TO CHANGE QUALITY SCORE BY IMPROVING ONE OR MORE FACTOR"
   ]
  },
  {
   "cell_type": "code",
   "execution_count": 46,
   "id": "9a1f979b",
   "metadata": {},
   "outputs": [],
   "source": [
    "def change_Qualityscore(row, factor = None, change = None):\n",
    "    model = ols('Quality_score ~ Ad_relevance_score + Expected_CTR_score +\\\n",
    "                        Landing_page_exp_score + 0', data = df).fit()\n",
    "    qs = row['Quality_score']\n",
    "    if factor == 'Ad_relevance':\n",
    "        if change == 'improve':\n",
    "            if qs < 10:\n",
    "                qs += model.params['Ad_relevance_score']\n",
    "                return round(qs)\n",
    "            else:\n",
    "                return qs\n",
    "        elif change == 'recede':\n",
    "            if qs > 0:\n",
    "                qs -= model.params['Ad_relevance_score']\n",
    "                return round(qs)\n",
    "            else:\n",
    "                return qs\n",
    "        \n",
    "    elif factor == 'Expected_clickthrough_rate':\n",
    "        if change == 'improve':\n",
    "            if qs < 10:\n",
    "                qs += model.params['Expected_CTR_score']\n",
    "                return round(qs)\n",
    "            else:\n",
    "                return qs\n",
    "        elif change == 'recede':\n",
    "            if qs > 0:\n",
    "                qs -= model.params['Expected_CTR_score']\n",
    "                return round(qs)\n",
    "            else:\n",
    "                return qs\n",
    "        \n",
    "    elif factor == 'Landing_page_experience':\n",
    "        if change == 'improve':\n",
    "            if qs < 10:\n",
    "                qs += model.params['Landing_page_exp_score']\n",
    "                return round(qs)\n",
    "            else:\n",
    "                return qs\n",
    "        elif change == 'recede':\n",
    "            if qs > 0:\n",
    "                qs -= model.params['Landing_page_exp_score']\n",
    "                return round(qs)\n",
    "            else:\n",
    "                return qs\n",
    "    \n",
    "    else:\n",
    "        return qs"
   ]
  },
  {
   "cell_type": "code",
   "execution_count": 47,
   "id": "7dfc1c94",
   "metadata": {},
   "outputs": [
    {
     "data": {
      "text/plain": [
       "8"
      ]
     },
     "execution_count": 47,
     "metadata": {},
     "output_type": "execute_result"
    }
   ],
   "source": [
    "change_Qualityscore(X_test.loc[26,:] ,'Expected_clickthrough_rate', 'improve')"
   ]
  },
  {
   "cell_type": "code",
   "execution_count": null,
   "id": "3c8fdfdd",
   "metadata": {},
   "outputs": [],
   "source": []
  },
  {
   "cell_type": "markdown",
   "id": "d867be43",
   "metadata": {},
   "source": [
    "### FUNCTION TO IMPROVE OR RECEDE AVERAGE AD POSITION"
   ]
  },
  {
   "cell_type": "code",
   "execution_count": 48,
   "id": "80d78c9b",
   "metadata": {},
   "outputs": [],
   "source": [
    "def change_ADposition(row, change_type):\n",
    "    current_position = row['position_score'] \n",
    "    model2 = ols('position_score ~ Quality_score + 0', data = df).fit()\n",
    "    \n",
    "    if change_type == 'improve':\n",
    "        current_position += model2.params['Quality_score']\n",
    "        return round(current_position)\n",
    "    \n",
    "    elif change_type == 'recede':\n",
    "        current_position -= model2.params['Quality_score']\n",
    "        return round(current_position)\n",
    "    "
   ]
  },
  {
   "cell_type": "code",
   "execution_count": 49,
   "id": "b12611de",
   "metadata": {},
   "outputs": [
    {
     "data": {
      "text/plain": [
       "9"
      ]
     },
     "execution_count": 49,
     "metadata": {},
     "output_type": "execute_result"
    }
   ],
   "source": [
    "change_ADposition(X_test.loc[26,:], 'improve')"
   ]
  },
  {
   "cell_type": "code",
   "execution_count": null,
   "id": "e1352f89",
   "metadata": {},
   "outputs": [],
   "source": []
  },
  {
   "cell_type": "markdown",
   "id": "a3bef10c",
   "metadata": {},
   "source": [
    "### FUNCTION TO CHANGE IMPRESSIONS"
   ]
  },
  {
   "cell_type": "code",
   "execution_count": 50,
   "id": "e80ce8a1",
   "metadata": {},
   "outputs": [],
   "source": [
    "def change_Impressions(row, ad_group, change_type):\n",
    "    model3 = ols('Impressions ~ Ad_Group:position_score + 0', data = df).fit()\n",
    "    \n",
    "    impressions = row['Impressions']\n",
    "    if ad_group == 'Alternative Gifts':\n",
    "        if change_type == 'improve':\n",
    "            impressions += model3.params['Ad_Group[Alternative Gifts]:position_score']\n",
    "            return round(impressions)\n",
    "        elif change_type =='recede':\n",
    "            impressions -= model3.params['Ad_Group[Alternative Gifts]:position_score']\n",
    "            return round(impressions)\n",
    "\n",
    "        \n",
    "    elif ad_group == 'Books':\n",
    "        if change_type == 'improve':\n",
    "            impressions += model3.params['Ad_Group[Books]:position_score']\n",
    "            return round(impressions)\n",
    "        elif change_type == 'recede':\n",
    "            impressions -= model3.params['Ad_Group[Books]:position_score']\n",
    "            return round(impressions)\n",
    "        \n",
    "    elif ad_group == \"Children's Clothes\":\n",
    "        if change_type == 'improve':\n",
    "            impressions += model3.params[\"Ad_Group[Children's Clothes]:position_score\"]\n",
    "            return round(impressions)\n",
    "        elif change_type == 'recede':\n",
    "            impressions -= model3.params[\"Ad_Group[Children's Clothes]:position_score\"]\n",
    "            return round(impressions)\n",
    "        \n",
    "    elif ad_group == \"Christmas Cards\":\n",
    "        if change_type =='improve':\n",
    "            impressions += model3.params[\"Ad_Group[Christmas Cards]:position_score\"]\n",
    "            return round(impressions)\n",
    "        elif change_type == 'recede':\n",
    "            impressions -= model3.params[\"Ad_Group[Christmas Cards]:position_score\"]\n",
    "            return round(impressions)\n",
    "        \n",
    "    elif ad_group == \"Gifts and Banker Products\":\n",
    "        if change_type == 'improve':\n",
    "            impressions += model3.params[\"Ad_Group[Gifts and Banker Products]:position_score\"]\n",
    "            return round(impressions)\n",
    "        elif change_type == 'recede':\n",
    "            impressions -= model3.params[\"Ad_Group[Gifts and Banker Products]:position_score\"]\n",
    "            return round(impressions)\n",
    "        \n",
    "    elif ad_group == \"Marketing\":\n",
    "        if change_type == 'improve':\n",
    "            impressions += model3.params[\"Ad_Group[Marketing]:position_score\"]\n",
    "            return round(impressions)\n",
    "        elif change_type == 'recede':\n",
    "            impressions -= model3.params[\"Ad_Group[Marketing]:position_score\"]\n",
    "            return round(impressions)\n",
    "    \n",
    "        \n",
    "    \n"
   ]
  },
  {
   "cell_type": "code",
   "execution_count": 51,
   "id": "a6854154",
   "metadata": {},
   "outputs": [
    {
     "data": {
      "text/plain": [
       "17449"
      ]
     },
     "execution_count": 51,
     "metadata": {},
     "output_type": "execute_result"
    }
   ],
   "source": [
    "change_Impressions(X_test.loc[26,:], 'Alternative Gifts', 'improve')"
   ]
  },
  {
   "cell_type": "code",
   "execution_count": null,
   "id": "6f5e1318",
   "metadata": {},
   "outputs": [],
   "source": []
  },
  {
   "cell_type": "markdown",
   "id": "60cf26e6",
   "metadata": {},
   "source": [
    "### FUNCTION TO CHANGE CLICKS"
   ]
  },
  {
   "cell_type": "code",
   "execution_count": 52,
   "id": "05e20d4c",
   "metadata": {},
   "outputs": [],
   "source": [
    "def change_Clicks(row, ad_group, change_type):\n",
    "    model4 = ols('Clicks ~ Ad_Group:Impressions + 0', data = df).fit()\n",
    "\n",
    "    impressions = change_Impressions(row, ad_group, change_type)\n",
    "    if ad_group == 'Alternative Gifts':\n",
    "        clicks = impressions * model4.params['Ad_Group[Alternative Gifts]:Impressions']\n",
    "        return round(clicks)\n",
    "        \n",
    "    elif ad_group == 'Books':\n",
    "        clicks = impressions * model4.params['Ad_Group[Books]:Impressions']\n",
    "        return round(clicks)\n",
    "        \n",
    "    elif ad_group == \"Children's Clothes\":\n",
    "        clicks =impressions * model4.params[\"Ad_Group[Children's Clothes]:Impressions\"]\n",
    "        return round(clicks)\n",
    "        \n",
    "    elif ad_group == \"Christmas Cards\":\n",
    "        clicks = impressions * model4.params[\"Ad_Group[Christmas Cards]:Impressions\"]\n",
    "        return round(clicks)\n",
    "        \n",
    "    elif ad_group == \"Gifts and Banker Products\":\n",
    "        clicks = impressions * model4.params[\"Ad_Group[Gifts and Banker Products]:Impressions\"]\n",
    "        return round(clicks)\n",
    "        \n",
    "    elif ad_group == \"Marketing\":\n",
    "        clicks = impressions * model4.params[\"Ad_Group[Marketing]:Impressions\"]\n",
    "        return round(clicks)\n",
    "        \n",
    "    "
   ]
  },
  {
   "cell_type": "code",
   "execution_count": 53,
   "id": "baa5353d",
   "metadata": {},
   "outputs": [
    {
     "data": {
      "text/plain": [
       "814"
      ]
     },
     "execution_count": 53,
     "metadata": {},
     "output_type": "execute_result"
    }
   ],
   "source": [
    "change_Clicks(X_test.loc[26,:], 'Alternative Gifts', 'improve')"
   ]
  },
  {
   "cell_type": "code",
   "execution_count": null,
   "id": "2a0877ae",
   "metadata": {},
   "outputs": [],
   "source": []
  },
  {
   "cell_type": "code",
   "execution_count": null,
   "id": "03416372",
   "metadata": {},
   "outputs": [],
   "source": []
  },
  {
   "cell_type": "code",
   "execution_count": 54,
   "id": "204a928d",
   "metadata": {},
   "outputs": [],
   "source": [
    "class changeQs:\n",
    "    \n",
    "    def __init__(self, current_row):\n",
    "        self.current_row = current_row\n",
    "    \n",
    "    def change_one_factor(self, change_factor, change_type, ad_group):\n",
    "        if change_type == 'improve':\n",
    "            new_row = {'Quality_score': change_Qualityscore(self.current_row , change_factor, change_type),\n",
    "                       'Ad_relevance_score': [self.current_row['Ad_relevance_score'] + 1 if change_factor == 'Ad_relevance' and\\\n",
    "                                              self.current_row['Ad_relevance_score'] < 2 else self.current_row['Ad_relevance_score']][0],\n",
    "                       'Expected_CTR_score': [self.current_row['Expected_CTR_score'] + 1.75 if change_factor == 'Expected_clickthrough_rate' and\\\n",
    "                                              self.current_row['Expected_CTR_score'] < 3.5 else self.current_row['Expected_CTR_score']][0],\n",
    "                       'Landing_page_exp_score': [self.current_row['Landing_page_exp_score'] + 1.75 if change_factor == 'Landing_page_experience' and\\\n",
    "                                                  self.current_row['Landing_page_exp_score'] < 3.5 else self.current_row['Landing_page_exp_score']][0],\n",
    "                       'position_score': change_ADposition(self.current_row, change_type), \n",
    "                       'Impressions': change_Impressions(self.current_row, ad_group, change_type),\n",
    "                       'Clicks': change_Clicks(self.current_row, ad_group, change_type),\n",
    "                       'Ad_Group_Alternative Gifts':self.current_row['Ad_Group_Alternative Gifts'],\n",
    "                       'Ad_Group_Books': self.current_row['Ad_Group_Books'],\n",
    "                       \"Ad_Group_Children's Clothes\": self.current_row[\"Ad_Group_Children's Clothes\"],\n",
    "                       'Ad_Group_Christmas Cards': self.current_row[\"Ad_Group_Christmas Cards\"],\n",
    "                       'Ad_Group_Gifts and Banker Products': self.current_row['Ad_Group_Gifts and Banker Products'],\n",
    "                       'Ad_Group_Marketing': self.current_row['Ad_Group_Marketing']}\n",
    "\n",
    "        elif change_type =='recede':\n",
    "                 new_row = {'Quality_score': change_Qualityscore(self.current_row , change_factor, change_type),\n",
    "                       'Ad_relevance_score': [self.current_row['Ad_relevance_score'] - 1 if change_factor == 'Ad_relevance' and\\\n",
    "                                              self.current_row['Ad_relevance_score'] != 0 else self.current_row['Ad_relevance_score']][0],\n",
    "                    'Expected_CTR_score': [self.current_row['Expected_CTR_score'] - 1.75 if change_factor == 'Expected_clickthrough_rate' and\\\n",
    "                                         self.current_row['Expected_CTR_score'] != 0 else self.current_row['Expected_CTR_score']][0],\n",
    "                       'Landing_page_exp_score': [self.current_row['Landing_page_exp_score'] - 1.75 if change_factor == 'Landing_page_experience' and\\\n",
    "                                                  self.current_row['Landing_page_exp_score'] != 0 else self.current_row['Landing_page_exp_score']][0],\n",
    "                       'position_score': change_ADposition(self.current_row, change_type), \n",
    "                       'Impressions': change_Impressions(self.current_row, ad_group, change_type),\n",
    "                       'Clicks': change_Clicks(self.current_row, ad_group, change_type),\n",
    "                       'Ad_Group_Alternative Gifts':self.current_row['Ad_Group_Alternative Gifts'],\n",
    "                       'Ad_Group_Books': self.current_row['Ad_Group_Books'],\n",
    "                       \"Ad_Group_Children's Clothes\": self.current_row[\"Ad_Group_Children's Clothes\"],\n",
    "                       'Ad_Group_Christmas Cards': self.current_row[\"Ad_Group_Christmas Cards\"],\n",
    "                       'Ad_Group_Gifts and Banker Products': self.current_row['Ad_Group_Gifts and Banker Products'],\n",
    "                       'Ad_Group_Marketing': self.current_row['Ad_Group_Marketing']}\n",
    "        self.current_row = new_row\n",
    "        return self.current_row"
   ]
  },
  {
   "cell_type": "code",
   "execution_count": 55,
   "id": "a4760a31",
   "metadata": {},
   "outputs": [
    {
     "data": {
      "text/plain": [
       "Quality_score                             7.00\n",
       "Ad_relevance_score                        2.00\n",
       "Expected_CTR_score                        1.75\n",
       "Landing_page_exp_score                    1.75\n",
       "position_score                            8.00\n",
       "Impressions                           15533.00\n",
       "Clicks                                  725.00\n",
       "Ad_Group_Alternative Gifts                1.00\n",
       "Ad_Group_Books                            0.00\n",
       "Ad_Group_Children's Clothes               0.00\n",
       "Ad_Group_Christmas Cards                  0.00\n",
       "Ad_Group_Gifts and Banker Products        0.00\n",
       "Ad_Group_Marketing                        0.00\n",
       "Name: 26, dtype: float64"
      ]
     },
     "execution_count": 55,
     "metadata": {},
     "output_type": "execute_result"
    }
   ],
   "source": [
    "X_test.loc[26,:]"
   ]
  },
  {
   "cell_type": "code",
   "execution_count": 56,
   "id": "138b025e",
   "metadata": {},
   "outputs": [],
   "source": [
    "data = changeQs(X_test.loc[26,:])"
   ]
  },
  {
   "cell_type": "code",
   "execution_count": 57,
   "id": "9ede2961",
   "metadata": {},
   "outputs": [
    {
     "data": {
      "text/plain": [
       "{'Quality_score': 8,\n",
       " 'Ad_relevance_score': 2.0,\n",
       " 'Expected_CTR_score': 3.5,\n",
       " 'Landing_page_exp_score': 1.75,\n",
       " 'position_score': 9,\n",
       " 'Impressions': 17449,\n",
       " 'Clicks': 814,\n",
       " 'Ad_Group_Alternative Gifts': 1.0,\n",
       " 'Ad_Group_Books': 0.0,\n",
       " \"Ad_Group_Children's Clothes\": 0.0,\n",
       " 'Ad_Group_Christmas Cards': 0.0,\n",
       " 'Ad_Group_Gifts and Banker Products': 0.0,\n",
       " 'Ad_Group_Marketing': 0.0}"
      ]
     },
     "execution_count": 57,
     "metadata": {},
     "output_type": "execute_result"
    }
   ],
   "source": [
    "new_data = data.change_one_factor('Expected_clickthrough_rate', 'improve', 'Alternative Gifts')\n",
    "new_data"
   ]
  },
  {
   "cell_type": "code",
   "execution_count": 58,
   "id": "f79444dd",
   "metadata": {},
   "outputs": [
    {
     "data": {
      "text/plain": [
       "{'Quality_score': 9,\n",
       " 'Ad_relevance_score': 2.0,\n",
       " 'Expected_CTR_score': 3.5,\n",
       " 'Landing_page_exp_score': 3.5,\n",
       " 'position_score': 10,\n",
       " 'Impressions': 19365,\n",
       " 'Clicks': 904,\n",
       " 'Ad_Group_Alternative Gifts': 1.0,\n",
       " 'Ad_Group_Books': 0.0,\n",
       " \"Ad_Group_Children's Clothes\": 0.0,\n",
       " 'Ad_Group_Christmas Cards': 0.0,\n",
       " 'Ad_Group_Gifts and Banker Products': 0.0,\n",
       " 'Ad_Group_Marketing': 0.0}"
      ]
     },
     "execution_count": 58,
     "metadata": {},
     "output_type": "execute_result"
    }
   ],
   "source": [
    "new_data = data.change_one_factor('Landing_page_experience', 'improve', 'Alternative Gifts')\n",
    "new_data"
   ]
  },
  {
   "cell_type": "code",
   "execution_count": 59,
   "id": "e8c49339",
   "metadata": {},
   "outputs": [],
   "source": [
    "new_X = pd.DataFrame({k: [v] for k,v in new_data.items()})"
   ]
  },
  {
   "cell_type": "code",
   "execution_count": 60,
   "id": "3a3bfe62",
   "metadata": {},
   "outputs": [],
   "source": [
    "y_pred = model.predict(new_X)"
   ]
  },
  {
   "cell_type": "code",
   "execution_count": 61,
   "id": "3b2cd987",
   "metadata": {},
   "outputs": [
    {
     "data": {
      "text/plain": [
       "array([57.93589158])"
      ]
     },
     "execution_count": 61,
     "metadata": {},
     "output_type": "execute_result"
    }
   ],
   "source": [
    "y_pred"
   ]
  },
  {
   "cell_type": "code",
   "execution_count": null,
   "id": "38847915",
   "metadata": {},
   "outputs": [],
   "source": []
  },
  {
   "cell_type": "code",
   "execution_count": null,
   "id": "7ef8da7b",
   "metadata": {},
   "outputs": [],
   "source": []
  },
  {
   "cell_type": "code",
   "execution_count": null,
   "id": "a8e6a5c0",
   "metadata": {},
   "outputs": [],
   "source": []
  },
  {
   "cell_type": "code",
   "execution_count": null,
   "id": "f6511331",
   "metadata": {},
   "outputs": [],
   "source": []
  },
  {
   "cell_type": "code",
   "execution_count": null,
   "id": "89679835",
   "metadata": {},
   "outputs": [],
   "source": []
  }
 ],
 "metadata": {
  "kernelspec": {
   "display_name": "Python 3",
   "language": "python",
   "name": "python3"
  },
  "language_info": {
   "codemirror_mode": {
    "name": "ipython",
    "version": 3
   },
   "file_extension": ".py",
   "mimetype": "text/x-python",
   "name": "python",
   "nbconvert_exporter": "python",
   "pygments_lexer": "ipython3",
   "version": "3.8.8"
  }
 },
 "nbformat": 4,
 "nbformat_minor": 5
}
