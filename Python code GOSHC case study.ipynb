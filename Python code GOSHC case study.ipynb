{
 "cells": [
  {
   "cell_type": "code",
   "execution_count": 1,
   "id": "0c96d69a",
   "metadata": {},
   "outputs": [],
   "source": [
    "import os\n",
    "import pandas as pd\n",
    "import seaborn as sns\n",
    "import numpy as np\n",
    "import matplotlib.pyplot as plt"
   ]
  },
  {
   "cell_type": "code",
   "execution_count": 2,
   "id": "09cad2dc",
   "metadata": {},
   "outputs": [
    {
     "data": {
      "text/plain": [
       "['.ipynb_checkpoints',\n",
       " 'Google Ads Portfolio Optimization presentation.pptx',\n",
       " 'GOSHC Ad Campaign case study.pbix',\n",
       " 'GOSHC Data Analyst - Recruitment Presentation Task.xlsx',\n",
       " 'goshc modeling data.csv',\n",
       " 'Python - modeling.ipynb',\n",
       " 'Python code GOSHC case study.ipynb',\n",
       " 'SQL code - Google Ads.txt']"
      ]
     },
     "execution_count": 2,
     "metadata": {},
     "output_type": "execute_result"
    }
   ],
   "source": [
    "files_in_directory =  os.listdir()\n",
    "files_in_directory"
   ]
  },
  {
   "cell_type": "code",
   "execution_count": 3,
   "id": "be65642b",
   "metadata": {},
   "outputs": [],
   "source": [
    "file = pd.ExcelFile(files_in_directory[3])"
   ]
  },
  {
   "cell_type": "code",
   "execution_count": 4,
   "id": "ca59e3a3",
   "metadata": {},
   "outputs": [
    {
     "data": {
      "text/plain": [
       "['Case Study instructions', 'Glossary', 'Dataset']"
      ]
     },
     "execution_count": 4,
     "metadata": {},
     "output_type": "execute_result"
    }
   ],
   "source": [
    "file.sheet_names"
   ]
  },
  {
   "cell_type": "code",
   "execution_count": 5,
   "id": "511ee19e",
   "metadata": {},
   "outputs": [],
   "source": [
    "df = file.parse('Dataset', usecols= 'A:M')"
   ]
  },
  {
   "cell_type": "code",
   "execution_count": 6,
   "id": "94cd1a62",
   "metadata": {},
   "outputs": [
    {
     "data": {
      "text/html": [
       "<div>\n",
       "<style scoped>\n",
       "    .dataframe tbody tr th:only-of-type {\n",
       "        vertical-align: middle;\n",
       "    }\n",
       "\n",
       "    .dataframe tbody tr th {\n",
       "        vertical-align: top;\n",
       "    }\n",
       "\n",
       "    .dataframe thead th {\n",
       "        text-align: right;\n",
       "    }\n",
       "</style>\n",
       "<table border=\"1\" class=\"dataframe\">\n",
       "  <thead>\n",
       "    <tr style=\"text-align: right;\">\n",
       "      <th></th>\n",
       "      <th>Ad Group</th>\n",
       "      <th>Search Keyword</th>\n",
       "      <th>Quality score</th>\n",
       "      <th>Ad relevance</th>\n",
       "      <th>Expected click-through rate</th>\n",
       "      <th>Landing page experience</th>\n",
       "      <th>Avg. position</th>\n",
       "      <th>Impressions</th>\n",
       "      <th>Clicks</th>\n",
       "      <th>Total Cost</th>\n",
       "      <th>Conversions</th>\n",
       "      <th>Revenue per unit sold</th>\n",
       "      <th>Total Revenue</th>\n",
       "    </tr>\n",
       "  </thead>\n",
       "  <tbody>\n",
       "    <tr>\n",
       "      <th>141</th>\n",
       "      <td>Alternative Gifts</td>\n",
       "      <td>gosh bear ward alternative gift</td>\n",
       "      <td>7</td>\n",
       "      <td>Above average</td>\n",
       "      <td>Average</td>\n",
       "      <td>Average</td>\n",
       "      <td>3</td>\n",
       "      <td>15533</td>\n",
       "      <td>724.873333</td>\n",
       "      <td>103.553333</td>\n",
       "      <td>50.720000</td>\n",
       "      <td>10.0</td>\n",
       "      <td>507.200000</td>\n",
       "    </tr>\n",
       "    <tr>\n",
       "      <th>142</th>\n",
       "      <td>Gifts and Banker Products</td>\n",
       "      <td>adult unisex hoodie</td>\n",
       "      <td>4</td>\n",
       "      <td>Average</td>\n",
       "      <td>Average</td>\n",
       "      <td>Below average</td>\n",
       "      <td>10</td>\n",
       "      <td>6320</td>\n",
       "      <td>168.533333</td>\n",
       "      <td>42.133333</td>\n",
       "      <td>7.149321</td>\n",
       "      <td>32.0</td>\n",
       "      <td>228.778281</td>\n",
       "    </tr>\n",
       "    <tr>\n",
       "      <th>143</th>\n",
       "      <td>Gifts and Banker Products</td>\n",
       "      <td>adult unisex sweatshirt</td>\n",
       "      <td>4</td>\n",
       "      <td>Average</td>\n",
       "      <td>Average</td>\n",
       "      <td>Below average</td>\n",
       "      <td>8</td>\n",
       "      <td>1936</td>\n",
       "      <td>51.626667</td>\n",
       "      <td>12.906667</td>\n",
       "      <td>2.105263</td>\n",
       "      <td>28.0</td>\n",
       "      <td>58.947368</td>\n",
       "    </tr>\n",
       "    <tr>\n",
       "      <th>144</th>\n",
       "      <td>Christmas Cards</td>\n",
       "      <td>away in a manger christmas card</td>\n",
       "      <td>5</td>\n",
       "      <td>Below average</td>\n",
       "      <td>Above average</td>\n",
       "      <td>Below average</td>\n",
       "      <td>4</td>\n",
       "      <td>7575</td>\n",
       "      <td>252.500000</td>\n",
       "      <td>50.500000</td>\n",
       "      <td>12.668990</td>\n",
       "      <td>4.5</td>\n",
       "      <td>57.010453</td>\n",
       "    </tr>\n",
       "    <tr>\n",
       "      <th>145</th>\n",
       "      <td>Christmas Cards</td>\n",
       "      <td>a very merry christmas christmas card</td>\n",
       "      <td>5</td>\n",
       "      <td>Below average</td>\n",
       "      <td>Above average</td>\n",
       "      <td>Below average</td>\n",
       "      <td>8</td>\n",
       "      <td>10400</td>\n",
       "      <td>346.666667</td>\n",
       "      <td>69.333333</td>\n",
       "      <td>18.024263</td>\n",
       "      <td>2.5</td>\n",
       "      <td>45.060659</td>\n",
       "    </tr>\n",
       "  </tbody>\n",
       "</table>\n",
       "</div>"
      ],
      "text/plain": [
       "                      Ad Group                          Search Keyword  \\\n",
       "141          Alternative Gifts         gosh bear ward alternative gift   \n",
       "142  Gifts and Banker Products                     adult unisex hoodie   \n",
       "143  Gifts and Banker Products                 adult unisex sweatshirt   \n",
       "144            Christmas Cards        away in a manger christmas card    \n",
       "145            Christmas Cards  a very merry christmas christmas card    \n",
       "\n",
       "     Quality score   Ad relevance Expected click-through rate  \\\n",
       "141              7  Above average                     Average   \n",
       "142              4        Average                     Average   \n",
       "143              4        Average                     Average   \n",
       "144              5  Below average               Above average   \n",
       "145              5  Below average               Above average   \n",
       "\n",
       "    Landing page experience  Avg. position  Impressions       Clicks  \\\n",
       "141                 Average              3         15533  724.873333   \n",
       "142           Below average             10          6320  168.533333   \n",
       "143           Below average              8          1936   51.626667   \n",
       "144           Below average              4          7575  252.500000   \n",
       "145           Below average              8         10400  346.666667   \n",
       "\n",
       "     Total Cost  Conversions  Revenue per unit sold  Total Revenue  \n",
       "141  103.553333    50.720000                   10.0     507.200000  \n",
       "142   42.133333     7.149321                   32.0     228.778281  \n",
       "143   12.906667     2.105263                   28.0      58.947368  \n",
       "144   50.500000    12.668990                    4.5      57.010453  \n",
       "145   69.333333    18.024263                    2.5      45.060659  "
      ]
     },
     "execution_count": 6,
     "metadata": {},
     "output_type": "execute_result"
    }
   ],
   "source": [
    "df.tail()"
   ]
  },
  {
   "cell_type": "code",
   "execution_count": null,
   "id": "307115c4",
   "metadata": {},
   "outputs": [],
   "source": []
  },
  {
   "cell_type": "markdown",
   "id": "f5cc1f0b",
   "metadata": {},
   "source": [
    "#### creating integer columns for 'Quality Score' factors ratings "
   ]
  },
  {
   "cell_type": "code",
   "execution_count": 7,
   "id": "24bef7f7",
   "metadata": {},
   "outputs": [
    {
     "data": {
      "text/plain": [
       "array(['Below average', 'Above average', 'Average'], dtype=object)"
      ]
     },
     "execution_count": 7,
     "metadata": {},
     "output_type": "execute_result"
    }
   ],
   "source": [
    "df['Ad relevance'].unique()"
   ]
  },
  {
   "cell_type": "code",
   "execution_count": 8,
   "id": "983cb1a7",
   "metadata": {},
   "outputs": [],
   "source": [
    "df['Ad relevance score'] = df['Ad relevance'].map({'Below average': 0, 'Above average': 2, 'Average': 1})"
   ]
  },
  {
   "cell_type": "code",
   "execution_count": null,
   "id": "5ca3ce40",
   "metadata": {},
   "outputs": [],
   "source": []
  },
  {
   "cell_type": "code",
   "execution_count": 9,
   "id": "b9cd4963",
   "metadata": {},
   "outputs": [
    {
     "data": {
      "text/plain": [
       "array(['Below average', 'Above average', 'Average'], dtype=object)"
      ]
     },
     "execution_count": 9,
     "metadata": {},
     "output_type": "execute_result"
    }
   ],
   "source": [
    "df['Expected click-through rate'].unique()"
   ]
  },
  {
   "cell_type": "code",
   "execution_count": 10,
   "id": "d11b672b",
   "metadata": {},
   "outputs": [],
   "source": [
    "df['Expected CTR score'] = df['Expected click-through rate'].map({'Below average': 0, 'Above average': 3.5, 'Average': 1.75})"
   ]
  },
  {
   "cell_type": "code",
   "execution_count": null,
   "id": "0d30894a",
   "metadata": {},
   "outputs": [],
   "source": []
  },
  {
   "cell_type": "code",
   "execution_count": 11,
   "id": "773dc680",
   "metadata": {},
   "outputs": [
    {
     "data": {
      "text/plain": [
       "array(['Average', 'Above average', 'Below average'], dtype=object)"
      ]
     },
     "execution_count": 11,
     "metadata": {},
     "output_type": "execute_result"
    }
   ],
   "source": [
    "df['Landing page experience'].unique()"
   ]
  },
  {
   "cell_type": "code",
   "execution_count": 12,
   "id": "60594acb",
   "metadata": {},
   "outputs": [],
   "source": [
    "df['Landing page exp score'] = df['Landing page experience'].map({'Average': 1.75, 'Above average': 3.5, 'Below average': 0})"
   ]
  },
  {
   "cell_type": "code",
   "execution_count": null,
   "id": "c1c47b70",
   "metadata": {},
   "outputs": [],
   "source": []
  },
  {
   "cell_type": "code",
   "execution_count": 13,
   "id": "690cd077",
   "metadata": {},
   "outputs": [],
   "source": [
    "df['Clicks'] = round(df['Clicks'])\n",
    "df['Clicks'] = df['Clicks'].astype(int)\n",
    "df['Conversions'] = round(df['Conversions'])\n",
    "df['Conversions'] = df['Conversions'].astype(int)\n",
    "df['Total Cost'] = round(df['Total Cost'], 2)\n",
    "df['Total Revenue'] = round(df['Total Revenue'], 2)"
   ]
  },
  {
   "cell_type": "code",
   "execution_count": 14,
   "id": "2b7dba62",
   "metadata": {},
   "outputs": [
    {
     "data": {
      "text/html": [
       "<div>\n",
       "<style scoped>\n",
       "    .dataframe tbody tr th:only-of-type {\n",
       "        vertical-align: middle;\n",
       "    }\n",
       "\n",
       "    .dataframe tbody tr th {\n",
       "        vertical-align: top;\n",
       "    }\n",
       "\n",
       "    .dataframe thead th {\n",
       "        text-align: right;\n",
       "    }\n",
       "</style>\n",
       "<table border=\"1\" class=\"dataframe\">\n",
       "  <thead>\n",
       "    <tr style=\"text-align: right;\">\n",
       "      <th></th>\n",
       "      <th>Ad Group</th>\n",
       "      <th>Search Keyword</th>\n",
       "      <th>Quality score</th>\n",
       "      <th>Ad relevance</th>\n",
       "      <th>Expected click-through rate</th>\n",
       "      <th>Landing page experience</th>\n",
       "      <th>Avg. position</th>\n",
       "      <th>Impressions</th>\n",
       "      <th>Clicks</th>\n",
       "      <th>Total Cost</th>\n",
       "      <th>Conversions</th>\n",
       "      <th>Revenue per unit sold</th>\n",
       "      <th>Total Revenue</th>\n",
       "      <th>Ad relevance score</th>\n",
       "      <th>Expected CTR score</th>\n",
       "      <th>Landing page exp score</th>\n",
       "    </tr>\n",
       "  </thead>\n",
       "  <tbody>\n",
       "    <tr>\n",
       "      <th>0</th>\n",
       "      <td>Gifts and Banker Products</td>\n",
       "      <td>rorys story cubes</td>\n",
       "      <td>3</td>\n",
       "      <td>Below average</td>\n",
       "      <td>Below average</td>\n",
       "      <td>Average</td>\n",
       "      <td>7</td>\n",
       "      <td>1935</td>\n",
       "      <td>39</td>\n",
       "      <td>12.90</td>\n",
       "      <td>1</td>\n",
       "      <td>9.99</td>\n",
       "      <td>12.72</td>\n",
       "      <td>0</td>\n",
       "      <td>0.0</td>\n",
       "      <td>1.75</td>\n",
       "    </tr>\n",
       "    <tr>\n",
       "      <th>1</th>\n",
       "      <td>Gifts and Banker Products</td>\n",
       "      <td>gosh christmas frankincense candle</td>\n",
       "      <td>10</td>\n",
       "      <td>Above average</td>\n",
       "      <td>Above average</td>\n",
       "      <td>Above average</td>\n",
       "      <td>2</td>\n",
       "      <td>28400</td>\n",
       "      <td>1893</td>\n",
       "      <td>189.33</td>\n",
       "      <td>186</td>\n",
       "      <td>25.00</td>\n",
       "      <td>4658.37</td>\n",
       "      <td>2</td>\n",
       "      <td>3.5</td>\n",
       "      <td>3.50</td>\n",
       "    </tr>\n",
       "    <tr>\n",
       "      <th>2</th>\n",
       "      <td>Gifts and Banker Products</td>\n",
       "      <td>gosh dobble</td>\n",
       "      <td>10</td>\n",
       "      <td>Above average</td>\n",
       "      <td>Above average</td>\n",
       "      <td>Above average</td>\n",
       "      <td>1</td>\n",
       "      <td>15600</td>\n",
       "      <td>1040</td>\n",
       "      <td>104.00</td>\n",
       "      <td>104</td>\n",
       "      <td>12.99</td>\n",
       "      <td>1346.55</td>\n",
       "      <td>2</td>\n",
       "      <td>3.5</td>\n",
       "      <td>3.50</td>\n",
       "    </tr>\n",
       "  </tbody>\n",
       "</table>\n",
       "</div>"
      ],
      "text/plain": [
       "                    Ad Group                      Search Keyword  \\\n",
       "0  Gifts and Banker Products                   rorys story cubes   \n",
       "1  Gifts and Banker Products  gosh christmas frankincense candle   \n",
       "2  Gifts and Banker Products                         gosh dobble   \n",
       "\n",
       "   Quality score   Ad relevance Expected click-through rate  \\\n",
       "0              3  Below average               Below average   \n",
       "1             10  Above average               Above average   \n",
       "2             10  Above average               Above average   \n",
       "\n",
       "  Landing page experience  Avg. position  Impressions   Clicks  Total Cost  \\\n",
       "0                 Average              7          1935      39       12.90   \n",
       "1           Above average              2         28400    1893      189.33   \n",
       "2           Above average              1         15600    1040      104.00   \n",
       "\n",
       "   Conversions  Revenue per unit sold  Total Revenue  Ad relevance score  \\\n",
       "0            1                   9.99          12.72                   0   \n",
       "1          186                  25.00        4658.37                   2   \n",
       "2          104                  12.99        1346.55                   2   \n",
       "\n",
       "   Expected CTR score  Landing page exp score  \n",
       "0                 0.0                    1.75  \n",
       "1                 3.5                    3.50  \n",
       "2                 3.5                    3.50  "
      ]
     },
     "execution_count": 14,
     "metadata": {},
     "output_type": "execute_result"
    }
   ],
   "source": [
    "df.head(3)"
   ]
  },
  {
   "cell_type": "code",
   "execution_count": null,
   "id": "31a95e51",
   "metadata": {},
   "outputs": [],
   "source": []
  },
  {
   "cell_type": "markdown",
   "id": "bf7f4612",
   "metadata": {},
   "source": [
    "#### Pearson correlation matrix of Quality Score and its Factors"
   ]
  },
  {
   "cell_type": "code",
   "execution_count": 15,
   "id": "fae7170b",
   "metadata": {},
   "outputs": [],
   "source": [
    "df1 = df[['Quality score', 'Ad relevance score',\n",
    "       'Expected CTR score', 'Landing page exp score']]"
   ]
  },
  {
   "cell_type": "code",
   "execution_count": 16,
   "id": "335c1922",
   "metadata": {},
   "outputs": [
    {
     "data": {
      "text/plain": [
       "<AxesSubplot:>"
      ]
     },
     "execution_count": 16,
     "metadata": {},
     "output_type": "execute_result"
    },
    {
     "data": {
      "image/png": "[encoded data removed]",
      "text/plain": [
       "<Figure size 432x288 with 2 Axes>"
      ]
     },
     "metadata": {
      "needs_background": "light"
     },
     "output_type": "display_data"
    }
   ],
   "source": [
    "sns.heatmap(df1.corr(), annot = True, cmap = 'coolwarm')"
   ]
  },
  {
   "cell_type": "markdown",
   "id": "a2df1ac5",
   "metadata": {},
   "source": [
    "#### checking statistical significance of pearson correlation above at 99% confidence level"
   ]
  },
  {
   "cell_type": "code",
   "execution_count": 17,
   "id": "72038ec6",
   "metadata": {},
   "outputs": [],
   "source": [
    "from scipy import stats"
   ]
  },
  {
   "cell_type": "code",
   "execution_count": 18,
   "id": "f1d1a5b6",
   "metadata": {},
   "outputs": [
    {
     "data": {
      "text/plain": [
       "(0.7889391371015998, 2.9336664740909717e-32)"
      ]
     },
     "execution_count": 18,
     "metadata": {},
     "output_type": "execute_result"
    }
   ],
   "source": [
    "stats.pearsonr(df1['Quality score'], df1['Landing page exp score'])"
   ]
  },
  {
   "cell_type": "code",
   "execution_count": 19,
   "id": "c73b1a54",
   "metadata": {},
   "outputs": [
    {
     "name": "stdout",
     "output_type": "stream",
     "text": [
      " Ad relevance score has a statistically Significant correlation of 0.56 with Quality Score\n",
      " Expected CTR score has a statistically Significant correlation of 0.71 with Quality Score\n",
      " Landing page exp score has a statistically Significant correlation of 0.79 with Quality Score\n"
     ]
    }
   ],
   "source": [
    "for factor_score in df1.columns[1:]:\n",
    "    correlation, p_value = stats.pearsonr(df1['Quality score'], df1[factor_score])\n",
    "    if p_value < 0.01:\n",
    "        print(f\" {factor_score} has a statistically Significant correlation of {round(correlation, 2)} with Quality Score\")\n",
    "    else: \n",
    "        print(f\" {factor_score} has a statistically Insignificant correlation of {round(correlation, 2)} with Quality Score\")"
   ]
  },
  {
   "cell_type": "code",
   "execution_count": null,
   "id": "64e082d2",
   "metadata": {},
   "outputs": [],
   "source": []
  },
  {
   "cell_type": "code",
   "execution_count": null,
   "id": "98b17a5a",
   "metadata": {},
   "outputs": [],
   "source": []
  },
  {
   "cell_type": "markdown",
   "id": "6274bd3a",
   "metadata": {},
   "source": [
    "### duplicate bids on same keyword"
   ]
  },
  {
   "cell_type": "code",
   "execution_count": 20,
   "id": "a8470ad5",
   "metadata": {},
   "outputs": [
    {
     "data": {
      "text/html": [
       "<div>\n",
       "<style scoped>\n",
       "    .dataframe tbody tr th:only-of-type {\n",
       "        vertical-align: middle;\n",
       "    }\n",
       "\n",
       "    .dataframe tbody tr th {\n",
       "        vertical-align: top;\n",
       "    }\n",
       "\n",
       "    .dataframe thead th {\n",
       "        text-align: right;\n",
       "    }\n",
       "</style>\n",
       "<table border=\"1\" class=\"dataframe\">\n",
       "  <thead>\n",
       "    <tr style=\"text-align: right;\">\n",
       "      <th></th>\n",
       "      <th>Ad Group</th>\n",
       "      <th>Search Keyword</th>\n",
       "      <th>Quality score</th>\n",
       "      <th>Ad relevance</th>\n",
       "      <th>Expected click-through rate</th>\n",
       "      <th>Landing page experience</th>\n",
       "      <th>Avg. position</th>\n",
       "      <th>Impressions</th>\n",
       "      <th>Clicks</th>\n",
       "      <th>Total Cost</th>\n",
       "      <th>Conversions</th>\n",
       "      <th>Revenue per unit sold</th>\n",
       "      <th>Total Revenue</th>\n",
       "      <th>Ad relevance score</th>\n",
       "      <th>Expected CTR score</th>\n",
       "      <th>Landing page exp score</th>\n",
       "    </tr>\n",
       "  </thead>\n",
       "  <tbody>\n",
       "    <tr>\n",
       "      <th>50</th>\n",
       "      <td>Gifts and Banker Products</td>\n",
       "      <td>posting christmas stocking gift bag large</td>\n",
       "      <td>7</td>\n",
       "      <td>Average</td>\n",
       "      <td>Average</td>\n",
       "      <td>Above average</td>\n",
       "      <td>3</td>\n",
       "      <td>17248</td>\n",
       "      <td>805</td>\n",
       "      <td>114.99</td>\n",
       "      <td>46</td>\n",
       "      <td>1.6</td>\n",
       "      <td>74.38</td>\n",
       "      <td>1</td>\n",
       "      <td>1.75</td>\n",
       "      <td>3.5</td>\n",
       "    </tr>\n",
       "    <tr>\n",
       "      <th>51</th>\n",
       "      <td>Gifts and Banker Products</td>\n",
       "      <td>posting christmas stocking gift bag large</td>\n",
       "      <td>7</td>\n",
       "      <td>Average</td>\n",
       "      <td>Average</td>\n",
       "      <td>Above average</td>\n",
       "      <td>2</td>\n",
       "      <td>24206</td>\n",
       "      <td>1130</td>\n",
       "      <td>161.37</td>\n",
       "      <td>79</td>\n",
       "      <td>1.4</td>\n",
       "      <td>110.06</td>\n",
       "      <td>1</td>\n",
       "      <td>1.75</td>\n",
       "      <td>3.5</td>\n",
       "    </tr>\n",
       "    <tr>\n",
       "      <th>65</th>\n",
       "      <td>Gifts and Banker Products</td>\n",
       "      <td>gosh water bottle</td>\n",
       "      <td>10</td>\n",
       "      <td>Above average</td>\n",
       "      <td>Above average</td>\n",
       "      <td>Above average</td>\n",
       "      <td>1</td>\n",
       "      <td>12600</td>\n",
       "      <td>840</td>\n",
       "      <td>84.00</td>\n",
       "      <td>84</td>\n",
       "      <td>12.0</td>\n",
       "      <td>1008.00</td>\n",
       "      <td>2</td>\n",
       "      <td>3.50</td>\n",
       "      <td>3.5</td>\n",
       "    </tr>\n",
       "    <tr>\n",
       "      <th>66</th>\n",
       "      <td>Gifts and Banker Products</td>\n",
       "      <td>gosh water bottle</td>\n",
       "      <td>10</td>\n",
       "      <td>Above average</td>\n",
       "      <td>Above average</td>\n",
       "      <td>Above average</td>\n",
       "      <td>2</td>\n",
       "      <td>36800</td>\n",
       "      <td>2453</td>\n",
       "      <td>245.33</td>\n",
       "      <td>245</td>\n",
       "      <td>12.0</td>\n",
       "      <td>2942.71</td>\n",
       "      <td>2</td>\n",
       "      <td>3.50</td>\n",
       "      <td>3.5</td>\n",
       "    </tr>\n",
       "  </tbody>\n",
       "</table>\n",
       "</div>"
      ],
      "text/plain": [
       "                     Ad Group                             Search Keyword  \\\n",
       "50  Gifts and Banker Products  posting christmas stocking gift bag large   \n",
       "51  Gifts and Banker Products  posting christmas stocking gift bag large   \n",
       "65  Gifts and Banker Products                          gosh water bottle   \n",
       "66  Gifts and Banker Products                          gosh water bottle   \n",
       "\n",
       "    Quality score   Ad relevance Expected click-through rate  \\\n",
       "50              7        Average                     Average   \n",
       "51              7        Average                     Average   \n",
       "65             10  Above average               Above average   \n",
       "66             10  Above average               Above average   \n",
       "\n",
       "   Landing page experience  Avg. position  Impressions   Clicks  Total Cost  \\\n",
       "50           Above average              3         17248     805      114.99   \n",
       "51           Above average              2         24206    1130      161.37   \n",
       "65           Above average              1         12600     840       84.00   \n",
       "66           Above average              2         36800    2453      245.33   \n",
       "\n",
       "    Conversions  Revenue per unit sold  Total Revenue  Ad relevance score  \\\n",
       "50           46                    1.6          74.38                   1   \n",
       "51           79                    1.4         110.06                   1   \n",
       "65           84                   12.0        1008.00                   2   \n",
       "66          245                   12.0        2942.71                   2   \n",
       "\n",
       "    Expected CTR score  Landing page exp score  \n",
       "50                1.75                     3.5  \n",
       "51                1.75                     3.5  \n",
       "65                3.50                     3.5  \n",
       "66                3.50                     3.5  "
      ]
     },
     "execution_count": 20,
     "metadata": {},
     "output_type": "execute_result"
    }
   ],
   "source": [
    "df[df.duplicated(subset= 'Search Keyword', keep= False)]"
   ]
  },
  {
   "cell_type": "code",
   "execution_count": null,
   "id": "af2a7813",
   "metadata": {},
   "outputs": [],
   "source": []
  },
  {
   "cell_type": "code",
   "execution_count": 21,
   "id": "c1bc35b1",
   "metadata": {},
   "outputs": [
    {
     "data": {
      "text/html": [
       "<div>\n",
       "<style scoped>\n",
       "    .dataframe tbody tr th:only-of-type {\n",
       "        vertical-align: middle;\n",
       "    }\n",
       "\n",
       "    .dataframe tbody tr th {\n",
       "        vertical-align: top;\n",
       "    }\n",
       "\n",
       "    .dataframe thead th {\n",
       "        text-align: right;\n",
       "    }\n",
       "</style>\n",
       "<table border=\"1\" class=\"dataframe\">\n",
       "  <thead>\n",
       "    <tr style=\"text-align: right;\">\n",
       "      <th></th>\n",
       "      <th>Ad Group</th>\n",
       "      <th>Search Keyword</th>\n",
       "      <th>Quality score</th>\n",
       "      <th>Ad relevance</th>\n",
       "      <th>Expected click-through rate</th>\n",
       "      <th>Landing page experience</th>\n",
       "      <th>Avg. position</th>\n",
       "      <th>Impressions</th>\n",
       "      <th>Clicks</th>\n",
       "      <th>Total Cost</th>\n",
       "      <th>Conversions</th>\n",
       "      <th>Revenue per unit sold</th>\n",
       "      <th>Total Revenue</th>\n",
       "      <th>Ad relevance score</th>\n",
       "      <th>Expected CTR score</th>\n",
       "      <th>Landing page exp score</th>\n",
       "    </tr>\n",
       "  </thead>\n",
       "  <tbody>\n",
       "    <tr>\n",
       "      <th>0</th>\n",
       "      <td>Gifts and Banker Products</td>\n",
       "      <td>rorys story cubes</td>\n",
       "      <td>3</td>\n",
       "      <td>Below average</td>\n",
       "      <td>Below average</td>\n",
       "      <td>Average</td>\n",
       "      <td>7</td>\n",
       "      <td>1935</td>\n",
       "      <td>39</td>\n",
       "      <td>12.90</td>\n",
       "      <td>1</td>\n",
       "      <td>9.99</td>\n",
       "      <td>12.72</td>\n",
       "      <td>0</td>\n",
       "      <td>0.0</td>\n",
       "      <td>1.75</td>\n",
       "    </tr>\n",
       "    <tr>\n",
       "      <th>1</th>\n",
       "      <td>Gifts and Banker Products</td>\n",
       "      <td>gosh christmas frankincense candle</td>\n",
       "      <td>10</td>\n",
       "      <td>Above average</td>\n",
       "      <td>Above average</td>\n",
       "      <td>Above average</td>\n",
       "      <td>2</td>\n",
       "      <td>28400</td>\n",
       "      <td>1893</td>\n",
       "      <td>189.33</td>\n",
       "      <td>186</td>\n",
       "      <td>25.00</td>\n",
       "      <td>4658.37</td>\n",
       "      <td>2</td>\n",
       "      <td>3.5</td>\n",
       "      <td>3.50</td>\n",
       "    </tr>\n",
       "  </tbody>\n",
       "</table>\n",
       "</div>"
      ],
      "text/plain": [
       "                    Ad Group                      Search Keyword  \\\n",
       "0  Gifts and Banker Products                   rorys story cubes   \n",
       "1  Gifts and Banker Products  gosh christmas frankincense candle   \n",
       "\n",
       "   Quality score   Ad relevance Expected click-through rate  \\\n",
       "0              3  Below average               Below average   \n",
       "1             10  Above average               Above average   \n",
       "\n",
       "  Landing page experience  Avg. position  Impressions   Clicks  Total Cost  \\\n",
       "0                 Average              7          1935      39       12.90   \n",
       "1           Above average              2         28400    1893      189.33   \n",
       "\n",
       "   Conversions  Revenue per unit sold  Total Revenue  Ad relevance score  \\\n",
       "0            1                   9.99          12.72                   0   \n",
       "1          186                  25.00        4658.37                   2   \n",
       "\n",
       "   Expected CTR score  Landing page exp score  \n",
       "0                 0.0                    1.75  \n",
       "1                 3.5                    3.50  "
      ]
     },
     "execution_count": 21,
     "metadata": {},
     "output_type": "execute_result"
    }
   ],
   "source": [
    "df.head(2)"
   ]
  },
  {
   "cell_type": "code",
   "execution_count": null,
   "id": "1d8ab5f5",
   "metadata": {},
   "outputs": [],
   "source": []
  },
  {
   "cell_type": "markdown",
   "id": "b5a4580c",
   "metadata": {},
   "source": [
    "### Search Keywords similarity"
   ]
  },
  {
   "cell_type": "code",
   "execution_count": 22,
   "id": "c41db6d5",
   "metadata": {},
   "outputs": [
    {
     "name": "stderr",
     "output_type": "stream",
     "text": [
      "C:\\Users\\tuneG\\anaconda3\\lib\\site-packages\\fuzzywuzzy\\fuzz.py:11: UserWarning: Using slow pure-python SequenceMatcher. Install python-Levenshtein to remove this warning\n",
      "  warnings.warn('Using slow pure-python SequenceMatcher. Install python-Levenshtein to remove this warning')\n"
     ]
    }
   ],
   "source": [
    "import numpy as np\n",
    "from fuzzywuzzy import process, fuzz"
   ]
  },
  {
   "cell_type": "code",
   "execution_count": 23,
   "id": "259a9b3c",
   "metadata": {},
   "outputs": [
    {
     "data": {
      "text/plain": [
       "[('posting christmas stocking gift bag large', 100),\n",
       " ('posting christmas stocking gift bag large', 100),\n",
       " ('posting christmas stockings christmas card ', 77),\n",
       " ('reindeer and stocking christmas card ', 65),\n",
       " ('seasons greetings christmas card ', 63)]"
      ]
     },
     "execution_count": 23,
     "metadata": {},
     "output_type": "execute_result"
    }
   ],
   "source": [
    "process.extract('posting christmas stocking gift bag large', list(df['Search Keyword']), scorer=fuzz.token_sort_ratio)"
   ]
  },
  {
   "cell_type": "code",
   "execution_count": 24,
   "id": "16b28356",
   "metadata": {},
   "outputs": [],
   "source": [
    "def high_similarity_keywords():\n",
    "    unique_search_words =  df['Search Keyword'].unique()\n",
    "    matches_list = []\n",
    "    for keyword in unique_search_words:\n",
    "        for match_result in process.extract(keyword, unique_search_words, scorer=fuzz.token_sort_ratio):\n",
    "            score_tuple =  (keyword,) + match_result\n",
    "            matches_list.append(score_tuple)\n",
    "\n",
    "    similarity_df = pd.DataFrame(matches_list, columns=['keyword','match_keyword','score'])\n",
    "    similarity_df['keyword_compared'] = np.minimum(similarity_df['keyword'], similarity_df['match_keyword'])\n",
    "\n",
    "    high_score_df = similarity_df[(similarity_df['score'] >= 75) &\n",
    "                (similarity_df['keyword'] !=  similarity_df['match_keyword']) &\n",
    "                (similarity_df['keyword_compared'] != similarity_df['match_keyword'])]\n",
    "    \n",
    "    high_score_df.drop('keyword_compared',axis=1, inplace = True)\n",
    "    \n",
    "    high_similarity_df = high_score_df.groupby(['keyword']).agg(\n",
    "                        {'score': np.mean,'match_keyword': \",  \".join}).sort_values(\n",
    "                        ['keyword'], ascending=False).reset_index()\n",
    "    \n",
    "    high_similarity_df['score'] = np.round(high_similarity_df['score'])\n",
    "    high_similarity_df['score'] = high_similarity_df['score'].astype(int)\n",
    "    return high_similarity_df"
   ]
  },
  {
   "cell_type": "code",
   "execution_count": 25,
   "id": "48779609",
   "metadata": {},
   "outputs": [
    {
     "name": "stderr",
     "output_type": "stream",
     "text": [
      "C:\\Users\\tuneG\\anaconda3\\lib\\site-packages\\pandas\\core\\frame.py:4308: SettingWithCopyWarning: \n",
      "A value is trying to be set on a copy of a slice from a DataFrame\n",
      "\n",
      "See the caveats in the documentation: https://pandas.pydata.org/pandas-docs/stable/user_guide/indexing.html#returning-a-view-versus-a-copy\n",
      "  return super().drop(\n"
     ]
    }
   ],
   "source": [
    "similar_keywords_df =  high_similarity_keywords()"
   ]
  },
  {
   "cell_type": "code",
   "execution_count": 26,
   "id": "86623a67",
   "metadata": {},
   "outputs": [
    {
     "data": {
      "text/html": [
       "<div>\n",
       "<style scoped>\n",
       "    .dataframe tbody tr th:only-of-type {\n",
       "        vertical-align: middle;\n",
       "    }\n",
       "\n",
       "    .dataframe tbody tr th {\n",
       "        vertical-align: top;\n",
       "    }\n",
       "\n",
       "    .dataframe thead th {\n",
       "        text-align: right;\n",
       "    }\n",
       "</style>\n",
       "<table border=\"1\" class=\"dataframe\">\n",
       "  <thead>\n",
       "    <tr style=\"text-align: right;\">\n",
       "      <th></th>\n",
       "      <th>keyword</th>\n",
       "      <th>score</th>\n",
       "      <th>match_keyword</th>\n",
       "    </tr>\n",
       "  </thead>\n",
       "  <tbody>\n",
       "    <tr>\n",
       "      <th>0</th>\n",
       "      <td>twelve days of christmas christmas card</td>\n",
       "      <td>77</td>\n",
       "      <td>wonderful christmas christmas card</td>\n",
       "    </tr>\n",
       "    <tr>\n",
       "      <th>1</th>\n",
       "      <td>the kings journey christmas card</td>\n",
       "      <td>79</td>\n",
       "      <td>we three kings christmas card</td>\n",
       "    </tr>\n",
       "    <tr>\n",
       "      <th>2</th>\n",
       "      <td>star of wonder christmas card</td>\n",
       "      <td>77</td>\n",
       "      <td>wonderful christmas christmas card ,  starry n...</td>\n",
       "    </tr>\n",
       "    <tr>\n",
       "      <th>3</th>\n",
       "      <td>santa dash christmas card</td>\n",
       "      <td>78</td>\n",
       "      <td>santas bus ride christmas card ,  starry night...</td>\n",
       "    </tr>\n",
       "    <tr>\n",
       "      <th>4</th>\n",
       "      <td>santa and reindeer christmas card</td>\n",
       "      <td>80</td>\n",
       "      <td>santas bus ride christmas card ,  snowman and ...</td>\n",
       "    </tr>\n",
       "  </tbody>\n",
       "</table>\n",
       "</div>"
      ],
      "text/plain": [
       "                                    keyword  score  \\\n",
       "0  twelve days of christmas christmas card      77   \n",
       "1         the kings journey christmas card      79   \n",
       "2            star of wonder christmas card      77   \n",
       "3                santa dash christmas card      78   \n",
       "4        santa and reindeer christmas card      80   \n",
       "\n",
       "                                       match_keyword  \n",
       "0                wonderful christmas christmas card   \n",
       "1                     we three kings christmas card   \n",
       "2  wonderful christmas christmas card ,  starry n...  \n",
       "3  santas bus ride christmas card ,  starry night...  \n",
       "4  santas bus ride christmas card ,  snowman and ...  "
      ]
     },
     "execution_count": 26,
     "metadata": {},
     "output_type": "execute_result"
    }
   ],
   "source": [
    "similar_keywords_df.head()"
   ]
  },
  {
   "cell_type": "code",
   "execution_count": null,
   "id": "149c4fbb",
   "metadata": {},
   "outputs": [],
   "source": []
  },
  {
   "cell_type": "code",
   "execution_count": 27,
   "id": "9bd7dacd",
   "metadata": {},
   "outputs": [],
   "source": [
    "matches_df = similar_keywords_df['match_keyword'].str.split(',', expand = True)"
   ]
  },
  {
   "cell_type": "code",
   "execution_count": 28,
   "id": "5fac5ff1",
   "metadata": {},
   "outputs": [],
   "source": [
    "redundant_keywords_dfs =  pd.concat([similar_keywords_df[['keyword', 'score']], matches_df], axis = 1)"
   ]
  },
  {
   "cell_type": "code",
   "execution_count": 29,
   "id": "0406c6f3",
   "metadata": {},
   "outputs": [],
   "source": [
    "redundant_keywords_dfs.columns = ['keyword', 'score', 'match1', 'match2', 'match3', 'match4']"
   ]
  },
  {
   "cell_type": "code",
   "execution_count": 30,
   "id": "42bcb55d",
   "metadata": {},
   "outputs": [
    {
     "data": {
      "text/html": [
       "<div>\n",
       "<style scoped>\n",
       "    .dataframe tbody tr th:only-of-type {\n",
       "        vertical-align: middle;\n",
       "    }\n",
       "\n",
       "    .dataframe tbody tr th {\n",
       "        vertical-align: top;\n",
       "    }\n",
       "\n",
       "    .dataframe thead th {\n",
       "        text-align: right;\n",
       "    }\n",
       "</style>\n",
       "<table border=\"1\" class=\"dataframe\">\n",
       "  <thead>\n",
       "    <tr style=\"text-align: right;\">\n",
       "      <th></th>\n",
       "      <th>keyword</th>\n",
       "      <th>score</th>\n",
       "      <th>match1</th>\n",
       "      <th>match2</th>\n",
       "      <th>match3</th>\n",
       "      <th>match4</th>\n",
       "    </tr>\n",
       "  </thead>\n",
       "  <tbody>\n",
       "    <tr>\n",
       "      <th>0</th>\n",
       "      <td>twelve days of christmas christmas card</td>\n",
       "      <td>77</td>\n",
       "      <td>wonderful christmas christmas card</td>\n",
       "      <td>None</td>\n",
       "      <td>None</td>\n",
       "      <td>None</td>\n",
       "    </tr>\n",
       "    <tr>\n",
       "      <th>1</th>\n",
       "      <td>the kings journey christmas card</td>\n",
       "      <td>79</td>\n",
       "      <td>we three kings christmas card</td>\n",
       "      <td>None</td>\n",
       "      <td>None</td>\n",
       "      <td>None</td>\n",
       "    </tr>\n",
       "    <tr>\n",
       "      <th>2</th>\n",
       "      <td>star of wonder christmas card</td>\n",
       "      <td>77</td>\n",
       "      <td>wonderful christmas christmas card</td>\n",
       "      <td>starry night christmas card</td>\n",
       "      <td>None</td>\n",
       "      <td>None</td>\n",
       "    </tr>\n",
       "    <tr>\n",
       "      <th>3</th>\n",
       "      <td>santa dash christmas card</td>\n",
       "      <td>78</td>\n",
       "      <td>santas bus ride christmas card</td>\n",
       "      <td>starry night christmas card</td>\n",
       "      <td>None</td>\n",
       "      <td>None</td>\n",
       "    </tr>\n",
       "    <tr>\n",
       "      <th>4</th>\n",
       "      <td>santa and reindeer christmas card</td>\n",
       "      <td>80</td>\n",
       "      <td>santas bus ride christmas card</td>\n",
       "      <td>snowman and presents christmas card</td>\n",
       "      <td>None</td>\n",
       "      <td>None</td>\n",
       "    </tr>\n",
       "    <tr>\n",
       "      <th>5</th>\n",
       "      <td>reindeer christmas card</td>\n",
       "      <td>80</td>\n",
       "      <td>santa and reindeer christmas card</td>\n",
       "      <td>star of wonder christmas card</td>\n",
       "      <td>None</td>\n",
       "      <td>None</td>\n",
       "    </tr>\n",
       "    <tr>\n",
       "      <th>6</th>\n",
       "      <td>reindeer and stocking christmas card</td>\n",
       "      <td>82</td>\n",
       "      <td>santa and reindeer christmas card</td>\n",
       "      <td>reindeer christmas card</td>\n",
       "      <td>None</td>\n",
       "      <td>None</td>\n",
       "    </tr>\n",
       "    <tr>\n",
       "      <th>7</th>\n",
       "      <td>posting christmas stocking gift bag large</td>\n",
       "      <td>77</td>\n",
       "      <td>posting christmas stockings christmas card</td>\n",
       "      <td>None</td>\n",
       "      <td>None</td>\n",
       "      <td>None</td>\n",
       "    </tr>\n",
       "    <tr>\n",
       "      <th>8</th>\n",
       "      <td>peter rabbit christmas sack</td>\n",
       "      <td>90</td>\n",
       "      <td>peter rabbit christmas stocking</td>\n",
       "      <td>None</td>\n",
       "      <td>None</td>\n",
       "      <td>None</td>\n",
       "    </tr>\n",
       "    <tr>\n",
       "      <th>9</th>\n",
       "      <td>peter rabbit christmas mug</td>\n",
       "      <td>80</td>\n",
       "      <td>peter rabbit christmas sack</td>\n",
       "      <td>peter rabbit christmas stocking</td>\n",
       "      <td>None</td>\n",
       "      <td>None</td>\n",
       "    </tr>\n",
       "  </tbody>\n",
       "</table>\n",
       "</div>"
      ],
      "text/plain": [
       "                                     keyword  score  \\\n",
       "0   twelve days of christmas christmas card      77   \n",
       "1          the kings journey christmas card      79   \n",
       "2             star of wonder christmas card      77   \n",
       "3                 santa dash christmas card      78   \n",
       "4         santa and reindeer christmas card      80   \n",
       "5                   reindeer christmas card      80   \n",
       "6      reindeer and stocking christmas card      82   \n",
       "7  posting christmas stocking gift bag large     77   \n",
       "8                peter rabbit christmas sack     90   \n",
       "9                 peter rabbit christmas mug     80   \n",
       "\n",
       "                                        match1  \\\n",
       "0          wonderful christmas christmas card    \n",
       "1               we three kings christmas card    \n",
       "2          wonderful christmas christmas card    \n",
       "3              santas bus ride christmas card    \n",
       "4              santas bus ride christmas card    \n",
       "5           santa and reindeer christmas card    \n",
       "6           santa and reindeer christmas card    \n",
       "7  posting christmas stockings christmas card    \n",
       "8              peter rabbit christmas stocking   \n",
       "9                  peter rabbit christmas sack   \n",
       "\n",
       "                                   match2 match3 match4  \n",
       "0                                    None   None   None  \n",
       "1                                    None   None   None  \n",
       "2            starry night christmas card    None   None  \n",
       "3            starry night christmas card    None   None  \n",
       "4    snowman and presents christmas card    None   None  \n",
       "5          star of wonder christmas card    None   None  \n",
       "6                reindeer christmas card    None   None  \n",
       "7                                    None   None   None  \n",
       "8                                    None   None   None  \n",
       "9         peter rabbit christmas stocking   None   None  "
      ]
     },
     "execution_count": 30,
     "metadata": {},
     "output_type": "execute_result"
    }
   ],
   "source": [
    "redundant_keywords_dfs.head(10)"
   ]
  },
  {
   "cell_type": "code",
   "execution_count": null,
   "id": "64e10357",
   "metadata": {},
   "outputs": [],
   "source": []
  },
  {
   "cell_type": "markdown",
   "id": "dc09fa3d",
   "metadata": {},
   "source": [
    "#### data to be stored in database"
   ]
  },
  {
   "cell_type": "code",
   "execution_count": 31,
   "id": "e1785073",
   "metadata": {},
   "outputs": [],
   "source": [
    "df = df.reset_index()"
   ]
  },
  {
   "cell_type": "code",
   "execution_count": 32,
   "id": "e75fe148",
   "metadata": {},
   "outputs": [
    {
     "data": {
      "text/html": [
       "<div>\n",
       "<style scoped>\n",
       "    .dataframe tbody tr th:only-of-type {\n",
       "        vertical-align: middle;\n",
       "    }\n",
       "\n",
       "    .dataframe tbody tr th {\n",
       "        vertical-align: top;\n",
       "    }\n",
       "\n",
       "    .dataframe thead th {\n",
       "        text-align: right;\n",
       "    }\n",
       "</style>\n",
       "<table border=\"1\" class=\"dataframe\">\n",
       "  <thead>\n",
       "    <tr style=\"text-align: right;\">\n",
       "      <th></th>\n",
       "      <th>index</th>\n",
       "      <th>Ad Group</th>\n",
       "      <th>Search Keyword</th>\n",
       "      <th>Quality score</th>\n",
       "      <th>Ad relevance</th>\n",
       "      <th>Expected click-through rate</th>\n",
       "      <th>Landing page experience</th>\n",
       "      <th>Avg. position</th>\n",
       "      <th>Impressions</th>\n",
       "      <th>Clicks</th>\n",
       "      <th>Total Cost</th>\n",
       "      <th>Conversions</th>\n",
       "      <th>Revenue per unit sold</th>\n",
       "      <th>Total Revenue</th>\n",
       "      <th>Ad relevance score</th>\n",
       "      <th>Expected CTR score</th>\n",
       "      <th>Landing page exp score</th>\n",
       "    </tr>\n",
       "  </thead>\n",
       "  <tbody>\n",
       "    <tr>\n",
       "      <th>0</th>\n",
       "      <td>0</td>\n",
       "      <td>Gifts and Banker Products</td>\n",
       "      <td>rorys story cubes</td>\n",
       "      <td>3</td>\n",
       "      <td>Below average</td>\n",
       "      <td>Below average</td>\n",
       "      <td>Average</td>\n",
       "      <td>7</td>\n",
       "      <td>1935</td>\n",
       "      <td>39</td>\n",
       "      <td>12.90</td>\n",
       "      <td>1</td>\n",
       "      <td>9.99</td>\n",
       "      <td>12.72</td>\n",
       "      <td>0</td>\n",
       "      <td>0.0</td>\n",
       "      <td>1.75</td>\n",
       "    </tr>\n",
       "    <tr>\n",
       "      <th>1</th>\n",
       "      <td>1</td>\n",
       "      <td>Gifts and Banker Products</td>\n",
       "      <td>gosh christmas frankincense candle</td>\n",
       "      <td>10</td>\n",
       "      <td>Above average</td>\n",
       "      <td>Above average</td>\n",
       "      <td>Above average</td>\n",
       "      <td>2</td>\n",
       "      <td>28400</td>\n",
       "      <td>1893</td>\n",
       "      <td>189.33</td>\n",
       "      <td>186</td>\n",
       "      <td>25.00</td>\n",
       "      <td>4658.37</td>\n",
       "      <td>2</td>\n",
       "      <td>3.5</td>\n",
       "      <td>3.50</td>\n",
       "    </tr>\n",
       "    <tr>\n",
       "      <th>2</th>\n",
       "      <td>2</td>\n",
       "      <td>Gifts and Banker Products</td>\n",
       "      <td>gosh dobble</td>\n",
       "      <td>10</td>\n",
       "      <td>Above average</td>\n",
       "      <td>Above average</td>\n",
       "      <td>Above average</td>\n",
       "      <td>1</td>\n",
       "      <td>15600</td>\n",
       "      <td>1040</td>\n",
       "      <td>104.00</td>\n",
       "      <td>104</td>\n",
       "      <td>12.99</td>\n",
       "      <td>1346.55</td>\n",
       "      <td>2</td>\n",
       "      <td>3.5</td>\n",
       "      <td>3.50</td>\n",
       "    </tr>\n",
       "  </tbody>\n",
       "</table>\n",
       "</div>"
      ],
      "text/plain": [
       "   index                   Ad Group                      Search Keyword  \\\n",
       "0      0  Gifts and Banker Products                   rorys story cubes   \n",
       "1      1  Gifts and Banker Products  gosh christmas frankincense candle   \n",
       "2      2  Gifts and Banker Products                         gosh dobble   \n",
       "\n",
       "   Quality score   Ad relevance Expected click-through rate  \\\n",
       "0              3  Below average               Below average   \n",
       "1             10  Above average               Above average   \n",
       "2             10  Above average               Above average   \n",
       "\n",
       "  Landing page experience  Avg. position  Impressions   Clicks  Total Cost  \\\n",
       "0                 Average              7          1935      39       12.90   \n",
       "1           Above average              2         28400    1893      189.33   \n",
       "2           Above average              1         15600    1040      104.00   \n",
       "\n",
       "   Conversions  Revenue per unit sold  Total Revenue  Ad relevance score  \\\n",
       "0            1                   9.99          12.72                   0   \n",
       "1          186                  25.00        4658.37                   2   \n",
       "2          104                  12.99        1346.55                   2   \n",
       "\n",
       "   Expected CTR score  Landing page exp score  \n",
       "0                 0.0                    1.75  \n",
       "1                 3.5                    3.50  \n",
       "2                 3.5                    3.50  "
      ]
     },
     "execution_count": 32,
     "metadata": {},
     "output_type": "execute_result"
    }
   ],
   "source": [
    "df.head(3)"
   ]
  },
  {
   "cell_type": "code",
   "execution_count": 33,
   "id": "fa2ac49a",
   "metadata": {},
   "outputs": [],
   "source": [
    "#df.to_csv('goshc modeling data.csv', index = False)"
   ]
  },
  {
   "cell_type": "code",
   "execution_count": null,
   "id": "21faa487",
   "metadata": {},
   "outputs": [],
   "source": []
  },
  {
   "cell_type": "code",
   "execution_count": null,
   "id": "3951e3d5",
   "metadata": {},
   "outputs": [],
   "source": []
  },
  {
   "cell_type": "markdown",
   "id": "9e9e05d0",
   "metadata": {},
   "source": [
    "### Connection to cloud database"
   ]
  },
  {
   "cell_type": "code",
   "execution_count": 34,
   "id": "e5e41af8",
   "metadata": {},
   "outputs": [],
   "source": [
    "import pypyodbc as podbc"
   ]
  },
  {
   "cell_type": "code",
   "execution_count": 35,
   "id": "b13414e7",
   "metadata": {},
   "outputs": [],
   "source": [
    "# conn2 = podbc.connect('Driver={SQL Server};'\n",
    "#                                 'Server=xxxxxx.cahwy5tcsa.us-east-1.rds.amazonaws.com,xxxx;'\n",
    "#                                 'Database=GOSHC;'\n",
    "#                                 'uid=xxxxx;pwd=xxxxxxx')\n",
    "# print (\"Connected\")\n",
    "# cursor = conn2.cursor()"
   ]
  },
  {
   "cell_type": "markdown",
   "id": "45b14ff1",
   "metadata": {},
   "source": [
    "#### Create 'campaign data' table for data in database"
   ]
  },
  {
   "cell_type": "code",
   "execution_count": 36,
   "id": "5a8e7d14",
   "metadata": {},
   "outputs": [],
   "source": [
    "# create_table = '''\n",
    "# CREATE TABLE campaign_data (\n",
    "#     serial_no INT NOT NULL,\n",
    "#     Ad_Group VARCHAR(100) NOT NULL,\n",
    "#     Search_Keyword VARCHAR(MAX) NOT NULL,\n",
    "#     Quality_Score INT NOT NULL,\n",
    "#     Ad_relevance_Score INT,\n",
    "#     Expected_CTR_Score DECIMAL(3,2),\n",
    "#     Landing_page_exp_Score DECIMAL(3,2),\n",
    "#     Ad_relevance VARCHAR(16) NOT NULL,\n",
    "#     Expected_CTR VARCHAR(16) NOT NULL,\n",
    "#     Landing_page_experience VARCHAR(16) NOT NULL,\n",
    "#     Avg_position INT ,\n",
    "#     Impressions INT,\n",
    "#     Clicks INT,\n",
    "#     Total_Cost DECIMAL(8,2),\n",
    "#     Conversions INT,\n",
    "#     Revenue_per_unit_sold DECIMAL(8,2),\n",
    "#     Total_Revenue DECIMAL(8,2)\n",
    "# )\n",
    "# '''"
   ]
  },
  {
   "cell_type": "code",
   "execution_count": 37,
   "id": "572bc9f1",
   "metadata": {},
   "outputs": [],
   "source": [
    "# cursor.execute(create_table)"
   ]
  },
  {
   "cell_type": "code",
   "execution_count": 38,
   "id": "e4cb1259",
   "metadata": {},
   "outputs": [],
   "source": [
    "# conn2.commit()"
   ]
  },
  {
   "cell_type": "code",
   "execution_count": 39,
   "id": "587c5da8",
   "metadata": {},
   "outputs": [
    {
     "data": {
      "text/plain": [
       "(146, 17)"
      ]
     },
     "execution_count": 39,
     "metadata": {},
     "output_type": "execute_result"
    }
   ],
   "source": [
    "df.shape"
   ]
  },
  {
   "cell_type": "markdown",
   "id": "4eb542f4",
   "metadata": {},
   "source": [
    "#### function for inserting data into db table"
   ]
  },
  {
   "cell_type": "code",
   "execution_count": 40,
   "id": "dd7db845",
   "metadata": {},
   "outputs": [],
   "source": [
    "def insert_data_to_table(serial_no, Ad_Group, Search_Keyword, Quality_Score, Ad_relevance_Score,\n",
    "                        Expected_CTR_Score, Landing_page_exp_Score, Ad_relevance, Expected_CTR, Landing_page_experience,\n",
    "                        Avg_position, Impressions, Clicks, Total_Cost,  Conversions, Revenue_per_unit_sold, Total_Revenue):\n",
    "    query = '''\n",
    "            INSERT INTO campaign_data(serial_no, Ad_Group, Search_Keyword, Quality_Score, Ad_relevance_Score,\n",
    "                             Expected_CTR_Score, Landing_page_exp_Score, Ad_relevance, Expected_CTR, Landing_page_experience,\n",
    "                             Avg_position, Impressions, Clicks, Total_Cost,  Conversions, Revenue_per_unit_sold, Total_Revenue\n",
    "                             )\n",
    "              VALUES \n",
    "              (?,?,?,?,?,?,?,?,?,?,?,?,?,?,?,?,?)\n",
    "            '''\n",
    "\n",
    "    row_values_to_insert = (serial_no, Ad_Group, Search_Keyword, Quality_Score, Ad_relevance_Score,\n",
    "                        Expected_CTR_Score, Landing_page_exp_Score, Ad_relevance, Expected_CTR, Landing_page_experience,\n",
    "                        Avg_position, Impressions, Clicks, Total_Cost,  Conversions, Revenue_per_unit_sold, Total_Revenue)\n",
    "    \n",
    "    cursor.execute(query, row_values_to_insert)"
   ]
  },
  {
   "cell_type": "code",
   "execution_count": null,
   "id": "1a168106",
   "metadata": {},
   "outputs": [],
   "source": []
  },
  {
   "cell_type": "markdown",
   "id": "d3cd6ca5",
   "metadata": {},
   "source": [
    "#### function for using above function"
   ]
  },
  {
   "cell_type": "code",
   "execution_count": 41,
   "id": "cecc915f",
   "metadata": {},
   "outputs": [],
   "source": [
    "def add_data(df):\n",
    "    for i, row in df.iterrows():\n",
    "        insert_data_to_table(row['index'], row['Ad Group'], row['Search Keyword'], row['Quality score'],\n",
    "                        row['Ad relevance score'], row['Expected CTR score'], row['Landing page exp score'],\n",
    "                        row['Ad relevance'], row['Expected click-through rate'], row['Landing page experience'],\n",
    "                        row['Avg. position'], row['Impressions '], row['Clicks'], row['Total Cost'], row['Conversions'],\n",
    "                         row['Revenue per unit sold'], row['Total Revenue'] )"
   ]
  },
  {
   "cell_type": "code",
   "execution_count": 42,
   "id": "cb3e06b9",
   "metadata": {},
   "outputs": [],
   "source": [
    "#add_data(df)"
   ]
  },
  {
   "cell_type": "code",
   "execution_count": 43,
   "id": "54447d09",
   "metadata": {},
   "outputs": [],
   "source": [
    "#conn2.commit()"
   ]
  },
  {
   "cell_type": "code",
   "execution_count": 44,
   "id": "0eb6197c",
   "metadata": {},
   "outputs": [],
   "source": [
    "#conn2.close()"
   ]
  },
  {
   "cell_type": "code",
   "execution_count": 45,
   "id": "534f4b4c",
   "metadata": {},
   "outputs": [
    {
     "data": {
      "text/html": [
       "<div>\n",
       "<style scoped>\n",
       "    .dataframe tbody tr th:only-of-type {\n",
       "        vertical-align: middle;\n",
       "    }\n",
       "\n",
       "    .dataframe tbody tr th {\n",
       "        vertical-align: top;\n",
       "    }\n",
       "\n",
       "    .dataframe thead th {\n",
       "        text-align: right;\n",
       "    }\n",
       "</style>\n",
       "<table border=\"1\" class=\"dataframe\">\n",
       "  <thead>\n",
       "    <tr style=\"text-align: right;\">\n",
       "      <th></th>\n",
       "      <th>index</th>\n",
       "      <th>Ad Group</th>\n",
       "      <th>Search Keyword</th>\n",
       "      <th>Quality score</th>\n",
       "      <th>Ad relevance</th>\n",
       "      <th>Expected click-through rate</th>\n",
       "      <th>Landing page experience</th>\n",
       "      <th>Avg. position</th>\n",
       "      <th>Impressions</th>\n",
       "      <th>Clicks</th>\n",
       "      <th>Total Cost</th>\n",
       "      <th>Conversions</th>\n",
       "      <th>Revenue per unit sold</th>\n",
       "      <th>Total Revenue</th>\n",
       "      <th>Ad relevance score</th>\n",
       "      <th>Expected CTR score</th>\n",
       "      <th>Landing page exp score</th>\n",
       "    </tr>\n",
       "  </thead>\n",
       "  <tbody>\n",
       "    <tr>\n",
       "      <th>0</th>\n",
       "      <td>0</td>\n",
       "      <td>Gifts and Banker Products</td>\n",
       "      <td>rorys story cubes</td>\n",
       "      <td>3</td>\n",
       "      <td>Below average</td>\n",
       "      <td>Below average</td>\n",
       "      <td>Average</td>\n",
       "      <td>7</td>\n",
       "      <td>1935</td>\n",
       "      <td>39</td>\n",
       "      <td>12.90</td>\n",
       "      <td>1</td>\n",
       "      <td>9.99</td>\n",
       "      <td>12.72</td>\n",
       "      <td>0</td>\n",
       "      <td>0.0</td>\n",
       "      <td>1.75</td>\n",
       "    </tr>\n",
       "    <tr>\n",
       "      <th>1</th>\n",
       "      <td>1</td>\n",
       "      <td>Gifts and Banker Products</td>\n",
       "      <td>gosh christmas frankincense candle</td>\n",
       "      <td>10</td>\n",
       "      <td>Above average</td>\n",
       "      <td>Above average</td>\n",
       "      <td>Above average</td>\n",
       "      <td>2</td>\n",
       "      <td>28400</td>\n",
       "      <td>1893</td>\n",
       "      <td>189.33</td>\n",
       "      <td>186</td>\n",
       "      <td>25.00</td>\n",
       "      <td>4658.37</td>\n",
       "      <td>2</td>\n",
       "      <td>3.5</td>\n",
       "      <td>3.50</td>\n",
       "    </tr>\n",
       "  </tbody>\n",
       "</table>\n",
       "</div>"
      ],
      "text/plain": [
       "   index                   Ad Group                      Search Keyword  \\\n",
       "0      0  Gifts and Banker Products                   rorys story cubes   \n",
       "1      1  Gifts and Banker Products  gosh christmas frankincense candle   \n",
       "\n",
       "   Quality score   Ad relevance Expected click-through rate  \\\n",
       "0              3  Below average               Below average   \n",
       "1             10  Above average               Above average   \n",
       "\n",
       "  Landing page experience  Avg. position  Impressions   Clicks  Total Cost  \\\n",
       "0                 Average              7          1935      39       12.90   \n",
       "1           Above average              2         28400    1893      189.33   \n",
       "\n",
       "   Conversions  Revenue per unit sold  Total Revenue  Ad relevance score  \\\n",
       "0            1                   9.99          12.72                   0   \n",
       "1          186                  25.00        4658.37                   2   \n",
       "\n",
       "   Expected CTR score  Landing page exp score  \n",
       "0                 0.0                    1.75  \n",
       "1                 3.5                    3.50  "
      ]
     },
     "execution_count": 45,
     "metadata": {},
     "output_type": "execute_result"
    }
   ],
   "source": [
    "df.head(2)"
   ]
  },
  {
   "cell_type": "code",
   "execution_count": 46,
   "id": "674b6860",
   "metadata": {},
   "outputs": [],
   "source": [
    "df['Conversion rate'] = df['Conversions'] / df['Clicks']\n",
    "df['CPC'] = df['Total Cost'] / df['Clicks']"
   ]
  },
  {
   "cell_type": "code",
   "execution_count": 47,
   "id": "72723ec6",
   "metadata": {},
   "outputs": [
    {
     "data": {
      "text/html": [
       "<div>\n",
       "<style scoped>\n",
       "    .dataframe tbody tr th:only-of-type {\n",
       "        vertical-align: middle;\n",
       "    }\n",
       "\n",
       "    .dataframe tbody tr th {\n",
       "        vertical-align: top;\n",
       "    }\n",
       "\n",
       "    .dataframe thead th {\n",
       "        text-align: right;\n",
       "    }\n",
       "</style>\n",
       "<table border=\"1\" class=\"dataframe\">\n",
       "  <thead>\n",
       "    <tr style=\"text-align: right;\">\n",
       "      <th></th>\n",
       "      <th>index</th>\n",
       "      <th>Ad Group</th>\n",
       "      <th>Search Keyword</th>\n",
       "      <th>Quality score</th>\n",
       "      <th>Ad relevance</th>\n",
       "      <th>Expected click-through rate</th>\n",
       "      <th>Landing page experience</th>\n",
       "      <th>Avg. position</th>\n",
       "      <th>Impressions</th>\n",
       "      <th>Clicks</th>\n",
       "      <th>Total Cost</th>\n",
       "      <th>Conversions</th>\n",
       "      <th>Revenue per unit sold</th>\n",
       "      <th>Total Revenue</th>\n",
       "      <th>Ad relevance score</th>\n",
       "      <th>Expected CTR score</th>\n",
       "      <th>Landing page exp score</th>\n",
       "      <th>Conversion rate</th>\n",
       "      <th>CPC</th>\n",
       "    </tr>\n",
       "  </thead>\n",
       "  <tbody>\n",
       "    <tr>\n",
       "      <th>0</th>\n",
       "      <td>0</td>\n",
       "      <td>Gifts and Banker Products</td>\n",
       "      <td>rorys story cubes</td>\n",
       "      <td>3</td>\n",
       "      <td>Below average</td>\n",
       "      <td>Below average</td>\n",
       "      <td>Average</td>\n",
       "      <td>7</td>\n",
       "      <td>1935</td>\n",
       "      <td>39</td>\n",
       "      <td>12.90</td>\n",
       "      <td>1</td>\n",
       "      <td>9.99</td>\n",
       "      <td>12.72</td>\n",
       "      <td>0</td>\n",
       "      <td>0.00</td>\n",
       "      <td>1.75</td>\n",
       "      <td>0.025641</td>\n",
       "      <td>0.330769</td>\n",
       "    </tr>\n",
       "    <tr>\n",
       "      <th>1</th>\n",
       "      <td>1</td>\n",
       "      <td>Gifts and Banker Products</td>\n",
       "      <td>gosh christmas frankincense candle</td>\n",
       "      <td>10</td>\n",
       "      <td>Above average</td>\n",
       "      <td>Above average</td>\n",
       "      <td>Above average</td>\n",
       "      <td>2</td>\n",
       "      <td>28400</td>\n",
       "      <td>1893</td>\n",
       "      <td>189.33</td>\n",
       "      <td>186</td>\n",
       "      <td>25.00</td>\n",
       "      <td>4658.37</td>\n",
       "      <td>2</td>\n",
       "      <td>3.50</td>\n",
       "      <td>3.50</td>\n",
       "      <td>0.098257</td>\n",
       "      <td>0.100016</td>\n",
       "    </tr>\n",
       "    <tr>\n",
       "      <th>2</th>\n",
       "      <td>2</td>\n",
       "      <td>Gifts and Banker Products</td>\n",
       "      <td>gosh dobble</td>\n",
       "      <td>10</td>\n",
       "      <td>Above average</td>\n",
       "      <td>Above average</td>\n",
       "      <td>Above average</td>\n",
       "      <td>1</td>\n",
       "      <td>15600</td>\n",
       "      <td>1040</td>\n",
       "      <td>104.00</td>\n",
       "      <td>104</td>\n",
       "      <td>12.99</td>\n",
       "      <td>1346.55</td>\n",
       "      <td>2</td>\n",
       "      <td>3.50</td>\n",
       "      <td>3.50</td>\n",
       "      <td>0.100000</td>\n",
       "      <td>0.100000</td>\n",
       "    </tr>\n",
       "    <tr>\n",
       "      <th>3</th>\n",
       "      <td>3</td>\n",
       "      <td>Marketing</td>\n",
       "      <td>christmas gift guide 2021</td>\n",
       "      <td>4</td>\n",
       "      <td>Average</td>\n",
       "      <td>Average</td>\n",
       "      <td>Below average</td>\n",
       "      <td>9</td>\n",
       "      <td>6944</td>\n",
       "      <td>185</td>\n",
       "      <td>46.29</td>\n",
       "      <td>7</td>\n",
       "      <td>0.00</td>\n",
       "      <td>0.00</td>\n",
       "      <td>1</td>\n",
       "      <td>1.75</td>\n",
       "      <td>0.00</td>\n",
       "      <td>0.037838</td>\n",
       "      <td>0.250216</td>\n",
       "    </tr>\n",
       "    <tr>\n",
       "      <th>4</th>\n",
       "      <td>4</td>\n",
       "      <td>Gifts and Banker Products</td>\n",
       "      <td>peter rabbit plush small</td>\n",
       "      <td>5</td>\n",
       "      <td>Below average</td>\n",
       "      <td>Above average</td>\n",
       "      <td>Below average</td>\n",
       "      <td>9</td>\n",
       "      <td>4475</td>\n",
       "      <td>149</td>\n",
       "      <td>29.83</td>\n",
       "      <td>8</td>\n",
       "      <td>12.00</td>\n",
       "      <td>90.25</td>\n",
       "      <td>0</td>\n",
       "      <td>3.50</td>\n",
       "      <td>0.00</td>\n",
       "      <td>0.053691</td>\n",
       "      <td>0.200201</td>\n",
       "    </tr>\n",
       "    <tr>\n",
       "      <th>5</th>\n",
       "      <td>5</td>\n",
       "      <td>Gifts and Banker Products</td>\n",
       "      <td>peter rabbit plush medium</td>\n",
       "      <td>5</td>\n",
       "      <td>Below average</td>\n",
       "      <td>Above average</td>\n",
       "      <td>Below average</td>\n",
       "      <td>10</td>\n",
       "      <td>2550</td>\n",
       "      <td>85</td>\n",
       "      <td>17.00</td>\n",
       "      <td>4</td>\n",
       "      <td>20.00</td>\n",
       "      <td>85.59</td>\n",
       "      <td>0</td>\n",
       "      <td>3.50</td>\n",
       "      <td>0.00</td>\n",
       "      <td>0.047059</td>\n",
       "      <td>0.200000</td>\n",
       "    </tr>\n",
       "    <tr>\n",
       "      <th>6</th>\n",
       "      <td>6</td>\n",
       "      <td>Gifts and Banker Products</td>\n",
       "      <td>the island come true 250 piece jigsaw</td>\n",
       "      <td>3</td>\n",
       "      <td>Below average</td>\n",
       "      <td>Below average</td>\n",
       "      <td>Average</td>\n",
       "      <td>5</td>\n",
       "      <td>1431</td>\n",
       "      <td>29</td>\n",
       "      <td>9.54</td>\n",
       "      <td>1</td>\n",
       "      <td>29.95</td>\n",
       "      <td>25.94</td>\n",
       "      <td>0</td>\n",
       "      <td>0.00</td>\n",
       "      <td>1.75</td>\n",
       "      <td>0.034483</td>\n",
       "      <td>0.328966</td>\n",
       "    </tr>\n",
       "    <tr>\n",
       "      <th>7</th>\n",
       "      <td>7</td>\n",
       "      <td>Gifts and Banker Products</td>\n",
       "      <td>hook or me this time 250 piece jigsaw</td>\n",
       "      <td>3</td>\n",
       "      <td>Below average</td>\n",
       "      <td>Below average</td>\n",
       "      <td>Average</td>\n",
       "      <td>4</td>\n",
       "      <td>1260</td>\n",
       "      <td>25</td>\n",
       "      <td>8.40</td>\n",
       "      <td>1</td>\n",
       "      <td>29.95</td>\n",
       "      <td>25.41</td>\n",
       "      <td>0</td>\n",
       "      <td>0.00</td>\n",
       "      <td>1.75</td>\n",
       "      <td>0.040000</td>\n",
       "      <td>0.336000</td>\n",
       "    </tr>\n",
       "    <tr>\n",
       "      <th>8</th>\n",
       "      <td>8</td>\n",
       "      <td>Gifts and Banker Products</td>\n",
       "      <td>gosh travel flask purple</td>\n",
       "      <td>10</td>\n",
       "      <td>Above average</td>\n",
       "      <td>Above average</td>\n",
       "      <td>Above average</td>\n",
       "      <td>2</td>\n",
       "      <td>11800</td>\n",
       "      <td>787</td>\n",
       "      <td>78.67</td>\n",
       "      <td>78</td>\n",
       "      <td>6.00</td>\n",
       "      <td>468.65</td>\n",
       "      <td>2</td>\n",
       "      <td>3.50</td>\n",
       "      <td>3.50</td>\n",
       "      <td>0.099111</td>\n",
       "      <td>0.099962</td>\n",
       "    </tr>\n",
       "    <tr>\n",
       "      <th>9</th>\n",
       "      <td>9</td>\n",
       "      <td>Gifts and Banker Products</td>\n",
       "      <td>sophie ellis bextor signature lips face mask</td>\n",
       "      <td>3</td>\n",
       "      <td>Below average</td>\n",
       "      <td>Below average</td>\n",
       "      <td>Average</td>\n",
       "      <td>7</td>\n",
       "      <td>1350</td>\n",
       "      <td>27</td>\n",
       "      <td>9.00</td>\n",
       "      <td>1</td>\n",
       "      <td>9.00</td>\n",
       "      <td>6.75</td>\n",
       "      <td>0</td>\n",
       "      <td>0.00</td>\n",
       "      <td>1.75</td>\n",
       "      <td>0.037037</td>\n",
       "      <td>0.333333</td>\n",
       "    </tr>\n",
       "  </tbody>\n",
       "</table>\n",
       "</div>"
      ],
      "text/plain": [
       "   index                   Ad Group  \\\n",
       "0      0  Gifts and Banker Products   \n",
       "1      1  Gifts and Banker Products   \n",
       "2      2  Gifts and Banker Products   \n",
       "3      3                  Marketing   \n",
       "4      4  Gifts and Banker Products   \n",
       "5      5  Gifts and Banker Products   \n",
       "6      6  Gifts and Banker Products   \n",
       "7      7  Gifts and Banker Products   \n",
       "8      8  Gifts and Banker Products   \n",
       "9      9  Gifts and Banker Products   \n",
       "\n",
       "                                 Search Keyword  Quality score   Ad relevance  \\\n",
       "0                             rorys story cubes              3  Below average   \n",
       "1            gosh christmas frankincense candle             10  Above average   \n",
       "2                                   gosh dobble             10  Above average   \n",
       "3                     christmas gift guide 2021              4        Average   \n",
       "4                      peter rabbit plush small              5  Below average   \n",
       "5                     peter rabbit plush medium              5  Below average   \n",
       "6         the island come true 250 piece jigsaw              3  Below average   \n",
       "7         hook or me this time 250 piece jigsaw              3  Below average   \n",
       "8                      gosh travel flask purple             10  Above average   \n",
       "9  sophie ellis bextor signature lips face mask              3  Below average   \n",
       "\n",
       "  Expected click-through rate Landing page experience  Avg. position  \\\n",
       "0               Below average                 Average              7   \n",
       "1               Above average           Above average              2   \n",
       "2               Above average           Above average              1   \n",
       "3                     Average           Below average              9   \n",
       "4               Above average           Below average              9   \n",
       "5               Above average           Below average             10   \n",
       "6               Below average                 Average              5   \n",
       "7               Below average                 Average              4   \n",
       "8               Above average           Above average              2   \n",
       "9               Below average                 Average              7   \n",
       "\n",
       "   Impressions   Clicks  Total Cost  Conversions  Revenue per unit sold  \\\n",
       "0          1935      39       12.90            1                   9.99   \n",
       "1         28400    1893      189.33          186                  25.00   \n",
       "2         15600    1040      104.00          104                  12.99   \n",
       "3          6944     185       46.29            7                   0.00   \n",
       "4          4475     149       29.83            8                  12.00   \n",
       "5          2550      85       17.00            4                  20.00   \n",
       "6          1431      29        9.54            1                  29.95   \n",
       "7          1260      25        8.40            1                  29.95   \n",
       "8         11800     787       78.67           78                   6.00   \n",
       "9          1350      27        9.00            1                   9.00   \n",
       "\n",
       "   Total Revenue  Ad relevance score  Expected CTR score  \\\n",
       "0          12.72                   0                0.00   \n",
       "1        4658.37                   2                3.50   \n",
       "2        1346.55                   2                3.50   \n",
       "3           0.00                   1                1.75   \n",
       "4          90.25                   0                3.50   \n",
       "5          85.59                   0                3.50   \n",
       "6          25.94                   0                0.00   \n",
       "7          25.41                   0                0.00   \n",
       "8         468.65                   2                3.50   \n",
       "9           6.75                   0                0.00   \n",
       "\n",
       "   Landing page exp score  Conversion rate       CPC  \n",
       "0                    1.75         0.025641  0.330769  \n",
       "1                    3.50         0.098257  0.100016  \n",
       "2                    3.50         0.100000  0.100000  \n",
       "3                    0.00         0.037838  0.250216  \n",
       "4                    0.00         0.053691  0.200201  \n",
       "5                    0.00         0.047059  0.200000  \n",
       "6                    1.75         0.034483  0.328966  \n",
       "7                    1.75         0.040000  0.336000  \n",
       "8                    3.50         0.099111  0.099962  \n",
       "9                    1.75         0.037037  0.333333  "
      ]
     },
     "execution_count": 47,
     "metadata": {},
     "output_type": "execute_result"
    }
   ],
   "source": [
    "df.head(10)"
   ]
  },
  {
   "cell_type": "code",
   "execution_count": null,
   "id": "2445d75f",
   "metadata": {},
   "outputs": [],
   "source": []
  },
  {
   "cell_type": "code",
   "execution_count": 48,
   "id": "b621c496",
   "metadata": {},
   "outputs": [
    {
     "data": {
      "text/plain": [
       "<AxesSubplot:>"
      ]
     },
     "execution_count": 48,
     "metadata": {},
     "output_type": "execute_result"
    },
    {
     "data": {
      "image/png": "[encoded data removed]",
      "text/plain": [
       "<Figure size 720x432 with 2 Axes>"
      ]
     },
     "metadata": {
      "needs_background": "light"
     },
     "output_type": "display_data"
    }
   ],
   "source": [
    "plt.figure(figsize = (10, 6))\n",
    "sns.heatmap(df.corr(), cmap = 'coolwarm', annot = True)"
   ]
  },
  {
   "cell_type": "code",
   "execution_count": 49,
   "id": "3c52bc48",
   "metadata": {},
   "outputs": [
    {
     "name": "stderr",
     "output_type": "stream",
     "text": [
      "C:\\Users\\tuneG\\anaconda3\\lib\\site-packages\\seaborn\\_decorators.py:36: FutureWarning: Pass the following variables as keyword args: x, y. From version 0.12, the only valid positional argument will be `data`, and passing other arguments without an explicit keyword will result in an error or misinterpretation.\n",
      "  warnings.warn(\n"
     ]
    },
    {
     "data": {
      "text/plain": [
       "<AxesSubplot:xlabel='Quality score', ylabel='CPC'>"
      ]
     },
     "execution_count": 49,
     "metadata": {},
     "output_type": "execute_result"
    },
    {
     "data": {
      "image/png": "[encoded data removed]",
      "text/plain": [
       "<Figure size 432x288 with 1 Axes>"
      ]
     },
     "metadata": {
      "needs_background": "light"
     },
     "output_type": "display_data"
    }
   ],
   "source": [
    "sns.scatterplot(df['Quality score'], df['CPC'])"
   ]
  },
  {
   "cell_type": "code",
   "execution_count": null,
   "id": "ddc5dc0d",
   "metadata": {},
   "outputs": [],
   "source": []
  },
  {
   "cell_type": "code",
   "execution_count": null,
   "id": "39bba1b2",
   "metadata": {},
   "outputs": [],
   "source": []
  },
  {
   "cell_type": "code",
   "execution_count": null,
   "id": "ae5397f1",
   "metadata": {},
   "outputs": [],
   "source": []
  },
  {
   "cell_type": "code",
   "execution_count": null,
   "id": "2a3929ab",
   "metadata": {},
   "outputs": [],
   "source": []
  }
 ],
 "metadata": {
  "kernelspec": {
   "display_name": "Python 3",
   "language": "python",
   "name": "python3"
  },
  "language_info": {
   "codemirror_mode": {
    "name": "ipython",
    "version": 3
   },
   "file_extension": ".py",
   "mimetype": "text/x-python",
   "name": "python",
   "nbconvert_exporter": "python",
   "pygments_lexer": "ipython3",
   "version": "3.8.8"
  }
 },
 "nbformat": 4,
 "nbformat_minor": 5
}
