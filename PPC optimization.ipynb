{
 "cells": [
  {
   "cell_type": "code",
   "execution_count": 1,
   "id": "ac6c2857",
   "metadata": {},
   "outputs": [],
   "source": [
    "import pyodbc\n",
    "import pandas as pd"
   ]
  },
  {
   "cell_type": "code",
   "execution_count": 2,
   "id": "e5f9913a",
   "metadata": {},
   "outputs": [],
   "source": [
    "import seaborn as sns\n",
    "import matplotlib.pyplot as plt\n",
    "import numpy as np\n",
    "%matplotlib inline"
   ]
  },
  {
   "cell_type": "code",
   "execution_count": null,
   "id": "d27b03ee",
   "metadata": {},
   "outputs": [],
   "source": []
  },
  {
   "cell_type": "markdown",
   "id": "41d2a354",
   "metadata": {},
   "source": [
    "### READ DATA "
   ]
  },
  {
   "cell_type": "code",
   "execution_count": 3,
   "id": "e70b9595",
   "metadata": {},
   "outputs": [],
   "source": [
    "# conn2 = pyodbc.connect('Driver={SQL Server};'\n",
    "#                                 'Server=xxxxxx.cahwy5xxx.us-east-1.rds.amazonaws.com,xxxx;'\n",
    "#                                 'Database=Charity;'\n",
    "#                                 'uid=xxxxx;pwd=xxxxxxx')\n",
    "# print (\"Connected\")\n",
    "# cursor = conn2.cursor()\n"
   ]
  },
  {
   "cell_type": "code",
   "execution_count": 4,
   "id": "d8103827",
   "metadata": {},
   "outputs": [],
   "source": [
    "# query = '''\n",
    "#          SELECT *\n",
    "#          FROM campaign_data\n",
    "#        '''\n",
    "\n",
    "# df = pd.read_sql_query(query, con= conn2)"
   ]
  },
  {
   "cell_type": "code",
   "execution_count": null,
   "id": "c02a07ff",
   "metadata": {},
   "outputs": [],
   "source": []
  },
  {
   "cell_type": "code",
   "execution_count": 5,
   "id": "d5ae6259",
   "metadata": {},
   "outputs": [],
   "source": [
    "#df.to_csv('campaign data.csv', index = False)"
   ]
  },
  {
   "cell_type": "code",
   "execution_count": 6,
   "id": "552d2c53",
   "metadata": {},
   "outputs": [],
   "source": [
    "df = pd.read_csv('campaign_data.csv')"
   ]
  },
  {
   "cell_type": "code",
   "execution_count": null,
   "id": "fb34da31",
   "metadata": {},
   "outputs": [],
   "source": []
  },
  {
   "cell_type": "code",
   "execution_count": null,
   "id": "fd542e41",
   "metadata": {},
   "outputs": [],
   "source": []
  },
  {
   "cell_type": "code",
   "execution_count": 7,
   "id": "6c51ebbe",
   "metadata": {},
   "outputs": [
    {
     "data": {
      "text/html": [
       "<div>\n",
       "<style scoped>\n",
       "    .dataframe tbody tr th:only-of-type {\n",
       "        vertical-align: middle;\n",
       "    }\n",
       "\n",
       "    .dataframe tbody tr th {\n",
       "        vertical-align: top;\n",
       "    }\n",
       "\n",
       "    .dataframe thead th {\n",
       "        text-align: right;\n",
       "    }\n",
       "</style>\n",
       "<table border=\"1\" class=\"dataframe\">\n",
       "  <thead>\n",
       "    <tr style=\"text-align: right;\">\n",
       "      <th></th>\n",
       "      <th>serial_no</th>\n",
       "      <th>Ad_Group</th>\n",
       "      <th>Search_Keyword</th>\n",
       "      <th>Quality_Score</th>\n",
       "      <th>Ad_relevance_Score</th>\n",
       "      <th>Expected_CTR_Score</th>\n",
       "      <th>Landing_page_exp_Score</th>\n",
       "      <th>Ad_relevance</th>\n",
       "      <th>Expected_CTR</th>\n",
       "      <th>Landing_page_experience</th>\n",
       "      <th>Avg_position</th>\n",
       "      <th>Impressions</th>\n",
       "      <th>Clicks</th>\n",
       "      <th>Total_Cost</th>\n",
       "      <th>Conversions</th>\n",
       "      <th>Revenue_per_unit_sold</th>\n",
       "      <th>Total_Revenue</th>\n",
       "    </tr>\n",
       "  </thead>\n",
       "  <tbody>\n",
       "    <tr>\n",
       "      <th>0</th>\n",
       "      <td>0</td>\n",
       "      <td>Gifts and Banker Products</td>\n",
       "      <td>rorys story cubes</td>\n",
       "      <td>3</td>\n",
       "      <td>0</td>\n",
       "      <td>0.0</td>\n",
       "      <td>1.75</td>\n",
       "      <td>Below average</td>\n",
       "      <td>Below average</td>\n",
       "      <td>Average</td>\n",
       "      <td>7</td>\n",
       "      <td>1935</td>\n",
       "      <td>39</td>\n",
       "      <td>12.90</td>\n",
       "      <td>1</td>\n",
       "      <td>9.99</td>\n",
       "      <td>12.72</td>\n",
       "    </tr>\n",
       "    <tr>\n",
       "      <th>1</th>\n",
       "      <td>1</td>\n",
       "      <td>Gifts and Banker Products</td>\n",
       "      <td>gosh christmas frankincense candle</td>\n",
       "      <td>10</td>\n",
       "      <td>2</td>\n",
       "      <td>3.5</td>\n",
       "      <td>3.50</td>\n",
       "      <td>Above average</td>\n",
       "      <td>Above average</td>\n",
       "      <td>Above average</td>\n",
       "      <td>2</td>\n",
       "      <td>28400</td>\n",
       "      <td>1893</td>\n",
       "      <td>189.33</td>\n",
       "      <td>186</td>\n",
       "      <td>25.00</td>\n",
       "      <td>4658.37</td>\n",
       "    </tr>\n",
       "  </tbody>\n",
       "</table>\n",
       "</div>"
      ],
      "text/plain": [
       "   serial_no                   Ad_Group                      Search_Keyword  \\\n",
       "0          0  Gifts and Banker Products                   rorys story cubes   \n",
       "1          1  Gifts and Banker Products  gosh christmas frankincense candle   \n",
       "\n",
       "   Quality_Score  Ad_relevance_Score  Expected_CTR_Score  \\\n",
       "0              3                   0                 0.0   \n",
       "1             10                   2                 3.5   \n",
       "\n",
       "   Landing_page_exp_Score   Ad_relevance   Expected_CTR  \\\n",
       "0                    1.75  Below average  Below average   \n",
       "1                    3.50  Above average  Above average   \n",
       "\n",
       "  Landing_page_experience  Avg_position  Impressions  Clicks  Total_Cost  \\\n",
       "0                 Average             7         1935      39       12.90   \n",
       "1           Above average             2        28400    1893      189.33   \n",
       "\n",
       "   Conversions  Revenue_per_unit_sold  Total_Revenue  \n",
       "0            1                   9.99          12.72  \n",
       "1          186                  25.00        4658.37  "
      ]
     },
     "execution_count": 7,
     "metadata": {},
     "output_type": "execute_result"
    }
   ],
   "source": [
    "df.head(2)"
   ]
  },
  {
   "cell_type": "code",
   "execution_count": 8,
   "id": "92373905",
   "metadata": {},
   "outputs": [],
   "source": [
    "df.columns = ['index', 'Ad_Group', 'Search_Keyword', 'Quality_score', 'Ad_relevance_score',\n",
    "            'Expected_CTR_score', 'Landing_page_exp_score', 'Ad_relevance',\n",
    "            'Expected_clickthrough_rate', 'Landing_page_experience', 'Avg_position',\n",
    "             'Impressions', 'Clicks', 'Total_Cost', 'Conversions', 'Revenue_per_unit_sold', 'Total_Revenue']"
   ]
  },
  {
   "cell_type": "code",
   "execution_count": null,
   "id": "27763e41",
   "metadata": {},
   "outputs": [],
   "source": []
  },
  {
   "cell_type": "code",
   "execution_count": 9,
   "id": "cb5b5673",
   "metadata": {},
   "outputs": [],
   "source": [
    "df = df[['Ad_Group', 'Search_Keyword', 'Quality_score', 'Ad_relevance',\n",
    "       'Expected_clickthrough_rate', 'Landing_page_experience', 'Ad_relevance_score',\n",
    "       'Expected_CTR_score', 'Landing_page_exp_score', 'Avg_position', 'Impressions', 'Clicks', \n",
    "      'Total_Cost', 'Conversions', 'Revenue_per_unit_sold', 'Total_Revenue']]"
   ]
  },
  {
   "cell_type": "code",
   "execution_count": null,
   "id": "29006765",
   "metadata": {},
   "outputs": [],
   "source": []
  },
  {
   "cell_type": "markdown",
   "id": "51a93998",
   "metadata": {},
   "source": [
    "### CHANGE AVERAGE POSITION ORDER FROM 1(highest - 10(lowest) TO 10(highest) to 1(lowest)"
   ]
  },
  {
   "cell_type": "code",
   "execution_count": 10,
   "id": "3fefe052",
   "metadata": {},
   "outputs": [],
   "source": [
    "avg_position = df['Avg_position'].unique()\n",
    "position_score = [4, 9, 10, 2, 1, 6, 7, 3, 5, 8]\n",
    "df['position_score'] = df['Avg_position'].map(dict(zip(avg_position, position_score)))"
   ]
  },
  {
   "cell_type": "code",
   "execution_count": null,
   "id": "1a404e48",
   "metadata": {},
   "outputs": [],
   "source": []
  },
  {
   "cell_type": "code",
   "execution_count": 11,
   "id": "25303938",
   "metadata": {},
   "outputs": [],
   "source": [
    "df = df.drop('Avg_position', axis = 1)"
   ]
  },
  {
   "cell_type": "code",
   "execution_count": 12,
   "id": "fb7ef54d",
   "metadata": {},
   "outputs": [
    {
     "data": {
      "text/html": [
       "<div>\n",
       "<style scoped>\n",
       "    .dataframe tbody tr th:only-of-type {\n",
       "        vertical-align: middle;\n",
       "    }\n",
       "\n",
       "    .dataframe tbody tr th {\n",
       "        vertical-align: top;\n",
       "    }\n",
       "\n",
       "    .dataframe thead th {\n",
       "        text-align: right;\n",
       "    }\n",
       "</style>\n",
       "<table border=\"1\" class=\"dataframe\">\n",
       "  <thead>\n",
       "    <tr style=\"text-align: right;\">\n",
       "      <th></th>\n",
       "      <th>Ad_Group</th>\n",
       "      <th>Search_Keyword</th>\n",
       "      <th>Quality_score</th>\n",
       "      <th>Ad_relevance</th>\n",
       "      <th>Expected_clickthrough_rate</th>\n",
       "      <th>Landing_page_experience</th>\n",
       "      <th>Ad_relevance_score</th>\n",
       "      <th>Expected_CTR_score</th>\n",
       "      <th>Landing_page_exp_score</th>\n",
       "      <th>Impressions</th>\n",
       "      <th>Clicks</th>\n",
       "      <th>Total_Cost</th>\n",
       "      <th>Conversions</th>\n",
       "      <th>Revenue_per_unit_sold</th>\n",
       "      <th>Total_Revenue</th>\n",
       "      <th>position_score</th>\n",
       "    </tr>\n",
       "  </thead>\n",
       "  <tbody>\n",
       "    <tr>\n",
       "      <th>0</th>\n",
       "      <td>Gifts and Banker Products</td>\n",
       "      <td>rorys story cubes</td>\n",
       "      <td>3</td>\n",
       "      <td>Below average</td>\n",
       "      <td>Below average</td>\n",
       "      <td>Average</td>\n",
       "      <td>0</td>\n",
       "      <td>0.0</td>\n",
       "      <td>1.75</td>\n",
       "      <td>1935</td>\n",
       "      <td>39</td>\n",
       "      <td>12.90</td>\n",
       "      <td>1</td>\n",
       "      <td>9.99</td>\n",
       "      <td>12.72</td>\n",
       "      <td>4</td>\n",
       "    </tr>\n",
       "    <tr>\n",
       "      <th>1</th>\n",
       "      <td>Gifts and Banker Products</td>\n",
       "      <td>gosh christmas frankincense candle</td>\n",
       "      <td>10</td>\n",
       "      <td>Above average</td>\n",
       "      <td>Above average</td>\n",
       "      <td>Above average</td>\n",
       "      <td>2</td>\n",
       "      <td>3.5</td>\n",
       "      <td>3.50</td>\n",
       "      <td>28400</td>\n",
       "      <td>1893</td>\n",
       "      <td>189.33</td>\n",
       "      <td>186</td>\n",
       "      <td>25.00</td>\n",
       "      <td>4658.37</td>\n",
       "      <td>9</td>\n",
       "    </tr>\n",
       "  </tbody>\n",
       "</table>\n",
       "</div>"
      ],
      "text/plain": [
       "                    Ad_Group                      Search_Keyword  \\\n",
       "0  Gifts and Banker Products                   rorys story cubes   \n",
       "1  Gifts and Banker Products  gosh christmas frankincense candle   \n",
       "\n",
       "   Quality_score   Ad_relevance Expected_clickthrough_rate  \\\n",
       "0              3  Below average              Below average   \n",
       "1             10  Above average              Above average   \n",
       "\n",
       "  Landing_page_experience  Ad_relevance_score  Expected_CTR_score  \\\n",
       "0                 Average                   0                 0.0   \n",
       "1           Above average                   2                 3.5   \n",
       "\n",
       "   Landing_page_exp_score  Impressions  Clicks  Total_Cost  Conversions  \\\n",
       "0                    1.75         1935      39       12.90            1   \n",
       "1                    3.50        28400    1893      189.33          186   \n",
       "\n",
       "   Revenue_per_unit_sold  Total_Revenue  position_score  \n",
       "0                   9.99          12.72               4  \n",
       "1                  25.00        4658.37               9  "
      ]
     },
     "execution_count": 12,
     "metadata": {},
     "output_type": "execute_result"
    }
   ],
   "source": [
    "df.head(2)"
   ]
  },
  {
   "cell_type": "code",
   "execution_count": null,
   "id": "5c2dc700",
   "metadata": {},
   "outputs": [],
   "source": []
  },
  {
   "cell_type": "code",
   "execution_count": null,
   "id": "106cd6c8",
   "metadata": {},
   "outputs": [],
   "source": []
  },
  {
   "cell_type": "markdown",
   "id": "75694b25",
   "metadata": {},
   "source": [
    "### SPLIT DATA TO TRAINING AND TEST DATA FOR MODELING"
   ]
  },
  {
   "cell_type": "code",
   "execution_count": 13,
   "id": "e9e83e28",
   "metadata": {},
   "outputs": [],
   "source": [
    "features = list(df.columns.drop('Conversions'))\n",
    "\n",
    "X = df[features]\n",
    "y = df['Conversions']"
   ]
  },
  {
   "cell_type": "code",
   "execution_count": 14,
   "id": "60a7b680",
   "metadata": {},
   "outputs": [],
   "source": [
    "from sklearn.model_selection import train_test_split\n",
    "SEED = 1\n",
    "X_train, X_test, y_train, y_test = train_test_split(X, y, test_size=0.2, random_state= SEED)"
   ]
  },
  {
   "cell_type": "code",
   "execution_count": 15,
   "id": "252b5dec",
   "metadata": {},
   "outputs": [],
   "source": [
    "training_df = pd.concat([X_train, y_train], axis = 1)\n",
    "\n",
    "test_df = pd.concat([X_test, y_test], axis = 1)"
   ]
  },
  {
   "cell_type": "code",
   "execution_count": 16,
   "id": "a0dcca70",
   "metadata": {},
   "outputs": [],
   "source": [
    "keywords = test_df[['Ad_Group', 'Search_Keyword']]\n",
    "keywords = keywords.reset_index().drop('index', axis = 1)"
   ]
  },
  {
   "cell_type": "code",
   "execution_count": null,
   "id": "9446d105",
   "metadata": {},
   "outputs": [],
   "source": []
  },
  {
   "cell_type": "code",
   "execution_count": null,
   "id": "bd8156aa",
   "metadata": {},
   "outputs": [],
   "source": []
  },
  {
   "cell_type": "markdown",
   "id": "b0abf001",
   "metadata": {},
   "source": [
    "### Effect of Factors Affecting Quality Score"
   ]
  },
  {
   "cell_type": "markdown",
   "id": "bf7f4612",
   "metadata": {},
   "source": [
    "#### Pearson correlation matrix of Quality Score and its Factors"
   ]
  },
  {
   "cell_type": "code",
   "execution_count": 17,
   "id": "fae7170b",
   "metadata": {},
   "outputs": [],
   "source": [
    "df_qs = df[['Quality_score', 'Ad_relevance_score',\n",
    "       'Expected_CTR_score', 'Landing_page_exp_score']]"
   ]
  },
  {
   "cell_type": "code",
   "execution_count": 18,
   "id": "335c1922",
   "metadata": {},
   "outputs": [
    {
     "data": {
      "text/plain": [
       "<AxesSubplot:>"
      ]
     },
     "execution_count": 18,
     "metadata": {},
     "output_type": "execute_result"
    },
    {
     "data": {
      "image/png": "[encoded data removed]",
      "text/plain": [
       "<Figure size 432x288 with 2 Axes>"
      ]
     },
     "metadata": {
      "needs_background": "light"
     },
     "output_type": "display_data"
    }
   ],
   "source": [
    "sns.heatmap(df_qs.corr(), annot = True, cmap = 'coolwarm')"
   ]
  },
  {
   "cell_type": "code",
   "execution_count": null,
   "id": "51a18aea",
   "metadata": {},
   "outputs": [],
   "source": []
  },
  {
   "cell_type": "code",
   "execution_count": 19,
   "id": "b508792c",
   "metadata": {},
   "outputs": [],
   "source": [
    "from statsmodels.formula.api import ols\n",
    "\n",
    "model = ols('Quality_score ~ Ad_relevance_score + Expected_CTR_score +\\\n",
    "                    Landing_page_exp_score + 0', data = training_df).fit()"
   ]
  },
  {
   "cell_type": "code",
   "execution_count": 20,
   "id": "ff645838",
   "metadata": {},
   "outputs": [
    {
     "name": "stdout",
     "output_type": "stream",
     "text": [
      "Ad_relevance_score        1.273957\n",
      "Expected_CTR_score        1.419437\n",
      "Landing_page_exp_score    0.902590\n",
      "dtype: float64 \n",
      "\n",
      "rsquared: 0.9900136293076974\n"
     ]
    }
   ],
   "source": [
    "print(f\"{model.params} \\n\") \n",
    "print(f\"rsquared: {model.rsquared}\")"
   ]
  },
  {
   "cell_type": "code",
   "execution_count": null,
   "id": "85a81ce3",
   "metadata": {},
   "outputs": [],
   "source": []
  },
  {
   "cell_type": "code",
   "execution_count": null,
   "id": "c4913874",
   "metadata": {},
   "outputs": [],
   "source": []
  },
  {
   "cell_type": "markdown",
   "id": "17f7786d",
   "metadata": {},
   "source": [
    "### Effect of Quality score on Average Ad position"
   ]
  },
  {
   "cell_type": "code",
   "execution_count": 21,
   "id": "5be535d2",
   "metadata": {},
   "outputs": [],
   "source": [
    "model2 = ols('position_score ~ Quality_score + 0', data = training_df).fit()"
   ]
  },
  {
   "cell_type": "code",
   "execution_count": 22,
   "id": "496d2f9f",
   "metadata": {},
   "outputs": [
    {
     "name": "stdout",
     "output_type": "stream",
     "text": [
      "Quality_score    0.99755\n",
      "dtype: float64 \n",
      "\n",
      "rsquared: 0.8602117028958625\n"
     ]
    }
   ],
   "source": [
    "print(f\"{model2.params} \\n\") \n",
    "print(f\"rsquared: {model2.rsquared}\")"
   ]
  },
  {
   "cell_type": "code",
   "execution_count": null,
   "id": "7564dd12",
   "metadata": {},
   "outputs": [],
   "source": []
  },
  {
   "cell_type": "code",
   "execution_count": null,
   "id": "ad8a5dbc",
   "metadata": {},
   "outputs": [],
   "source": []
  },
  {
   "cell_type": "markdown",
   "id": "9e6a4c28",
   "metadata": {},
   "source": [
    "### Effect of Average position on Impressions"
   ]
  },
  {
   "cell_type": "code",
   "execution_count": 23,
   "id": "ed9371cb",
   "metadata": {},
   "outputs": [],
   "source": [
    "model3 = ols('Impressions ~ Ad_Group:position_score + 0', data = training_df).fit()"
   ]
  },
  {
   "cell_type": "code",
   "execution_count": 24,
   "id": "bedeeb0b",
   "metadata": {},
   "outputs": [
    {
     "name": "stdout",
     "output_type": "stream",
     "text": [
      "Ad_Group[Alternative Gifts]:position_score            1908.181416\n",
      "Ad_Group[Books]:position_score                        2975.863636\n",
      "Ad_Group[Children's Clothes]:position_score           1288.330097\n",
      "Ad_Group[Christmas Cards]:position_score              1034.415205\n",
      "Ad_Group[Gifts and Banker Products]:position_score    1998.605373\n",
      "Ad_Group[Marketing]:position_score                    3472.000000\n",
      "dtype: float64 \n",
      "\n",
      "rsquared: 0.7413736872336099\n"
     ]
    }
   ],
   "source": [
    "print(f\"{model3.params} \\n\") \n",
    "print(f\"rsquared: {model3.rsquared}\")"
   ]
  },
  {
   "cell_type": "code",
   "execution_count": null,
   "id": "d58103cb",
   "metadata": {},
   "outputs": [],
   "source": []
  },
  {
   "cell_type": "code",
   "execution_count": null,
   "id": "3345a306",
   "metadata": {},
   "outputs": [],
   "source": []
  },
  {
   "cell_type": "markdown",
   "id": "af660777",
   "metadata": {},
   "source": [
    "### Effect of Impressions on Clicks"
   ]
  },
  {
   "cell_type": "code",
   "execution_count": 25,
   "id": "96c4862d",
   "metadata": {},
   "outputs": [],
   "source": [
    "model4 = ols('Clicks ~ Ad_Group:Impressions + 0', data = training_df).fit()"
   ]
  },
  {
   "cell_type": "code",
   "execution_count": 26,
   "id": "b259c284",
   "metadata": {},
   "outputs": [
    {
     "name": "stdout",
     "output_type": "stream",
     "text": [
      "Ad_Group[Alternative Gifts]:Impressions            0.046675\n",
      "Ad_Group[Books]:Impressions                        0.039186\n",
      "Ad_Group[Children's Clothes]:Impressions           0.033180\n",
      "Ad_Group[Christmas Cards]:Impressions              0.033635\n",
      "Ad_Group[Gifts and Banker Products]:Impressions    0.055237\n",
      "Ad_Group[Marketing]:Impressions                    0.026642\n",
      "dtype: float64 \n",
      "\n",
      "rsquared: 0.9651159113833189\n"
     ]
    }
   ],
   "source": [
    "print(f\"{model4.params} \\n\") \n",
    "print(f\"rsquared: {model4.rsquared}\")"
   ]
  },
  {
   "cell_type": "code",
   "execution_count": null,
   "id": "816638d5",
   "metadata": {},
   "outputs": [],
   "source": []
  },
  {
   "cell_type": "code",
   "execution_count": null,
   "id": "760e7f6c",
   "metadata": {},
   "outputs": [],
   "source": []
  },
  {
   "cell_type": "markdown",
   "id": "d005582c",
   "metadata": {},
   "source": [
    "### Effect of Clicks on Conversions"
   ]
  },
  {
   "cell_type": "code",
   "execution_count": 27,
   "id": "074293e8",
   "metadata": {},
   "outputs": [],
   "source": [
    "model5 = ols('Conversions ~ Ad_Group:Clicks + 0', data = training_df).fit()"
   ]
  },
  {
   "cell_type": "code",
   "execution_count": 28,
   "id": "0ece3047",
   "metadata": {},
   "outputs": [
    {
     "name": "stdout",
     "output_type": "stream",
     "text": [
      "Ad_Group[Alternative Gifts]:Clicks            0.070112\n",
      "Ad_Group[Books]:Clicks                        0.060380\n",
      "Ad_Group[Children's Clothes]:Clicks           0.049703\n",
      "Ad_Group[Christmas Cards]:Clicks              0.054839\n",
      "Ad_Group[Gifts and Banker Products]:Clicks    0.088262\n",
      "Ad_Group[Marketing]:Clicks                    0.037838\n",
      "dtype: float64 \n",
      "\n",
      "rsquared: 0.9777787508691803\n"
     ]
    }
   ],
   "source": [
    "print(f\"{model5.params} \\n\") \n",
    "print(f\"rsquared: {model5.rsquared}\")"
   ]
  },
  {
   "cell_type": "code",
   "execution_count": null,
   "id": "a75053f6",
   "metadata": {},
   "outputs": [],
   "source": []
  },
  {
   "cell_type": "code",
   "execution_count": null,
   "id": "be3e5510",
   "metadata": {},
   "outputs": [],
   "source": []
  },
  {
   "cell_type": "markdown",
   "id": "7c007c2c",
   "metadata": {},
   "source": [
    "### Chisquare Test of Independence between Ad Groups and Landing Page experince"
   ]
  },
  {
   "cell_type": "code",
   "execution_count": 29,
   "id": "278374b9",
   "metadata": {},
   "outputs": [
    {
     "data": {
      "text/plain": [
       "array(['Gifts and Banker Products', 'Marketing', \"Children's Clothes\",\n",
       "       'Books', 'Christmas Cards', 'Alternative Gifts'], dtype=object)"
      ]
     },
     "execution_count": 29,
     "metadata": {},
     "output_type": "execute_result"
    }
   ],
   "source": [
    "df['Ad_Group'].unique()"
   ]
  },
  {
   "cell_type": "code",
   "execution_count": 30,
   "id": "5c1b2558",
   "metadata": {},
   "outputs": [
    {
     "data": {
      "text/html": [
       "<div>\n",
       "<style scoped>\n",
       "    .dataframe tbody tr th:only-of-type {\n",
       "        vertical-align: middle;\n",
       "    }\n",
       "\n",
       "    .dataframe tbody tr th {\n",
       "        vertical-align: top;\n",
       "    }\n",
       "\n",
       "    .dataframe thead th {\n",
       "        text-align: right;\n",
       "    }\n",
       "</style>\n",
       "<table border=\"1\" class=\"dataframe\">\n",
       "  <thead>\n",
       "    <tr style=\"text-align: right;\">\n",
       "      <th>Landing_page_experience</th>\n",
       "      <th>Above average</th>\n",
       "      <th>Average</th>\n",
       "      <th>Below average</th>\n",
       "    </tr>\n",
       "    <tr>\n",
       "      <th>Ad_Group</th>\n",
       "      <th></th>\n",
       "      <th></th>\n",
       "      <th></th>\n",
       "    </tr>\n",
       "  </thead>\n",
       "  <tbody>\n",
       "    <tr>\n",
       "      <th>Alternative Gifts</th>\n",
       "      <td>NaN</td>\n",
       "      <td>0.500000</td>\n",
       "      <td>0.500000</td>\n",
       "    </tr>\n",
       "    <tr>\n",
       "      <th>Books</th>\n",
       "      <td>NaN</td>\n",
       "      <td>0.571429</td>\n",
       "      <td>0.428571</td>\n",
       "    </tr>\n",
       "    <tr>\n",
       "      <th>Children's Clothes</th>\n",
       "      <td>NaN</td>\n",
       "      <td>0.200000</td>\n",
       "      <td>0.800000</td>\n",
       "    </tr>\n",
       "    <tr>\n",
       "      <th>Christmas Cards</th>\n",
       "      <td>NaN</td>\n",
       "      <td>0.048387</td>\n",
       "      <td>0.951613</td>\n",
       "    </tr>\n",
       "    <tr>\n",
       "      <th>Gifts and Banker Products</th>\n",
       "      <td>0.298507</td>\n",
       "      <td>0.208955</td>\n",
       "      <td>0.492537</td>\n",
       "    </tr>\n",
       "    <tr>\n",
       "      <th>Marketing</th>\n",
       "      <td>NaN</td>\n",
       "      <td>NaN</td>\n",
       "      <td>1.000000</td>\n",
       "    </tr>\n",
       "  </tbody>\n",
       "</table>\n",
       "</div>"
      ],
      "text/plain": [
       "Landing_page_experience    Above average   Average  Below average\n",
       "Ad_Group                                                         \n",
       "Alternative Gifts                    NaN  0.500000       0.500000\n",
       "Books                                NaN  0.571429       0.428571\n",
       "Children's Clothes                   NaN  0.200000       0.800000\n",
       "Christmas Cards                      NaN  0.048387       0.951613\n",
       "Gifts and Banker Products       0.298507  0.208955       0.492537\n",
       "Marketing                            NaN       NaN       1.000000"
      ]
     },
     "execution_count": 30,
     "metadata": {},
     "output_type": "execute_result"
    }
   ],
   "source": [
    "ad_group_relevance = df.groupby('Ad_Group')['Landing_page_experience'].value_counts(normalize = True).unstack()\n",
    "ad_group_relevance"
   ]
  },
  {
   "cell_type": "code",
   "execution_count": 31,
   "id": "4b1a0711",
   "metadata": {},
   "outputs": [
    {
     "data": {
      "image/png": "[encoded data removed]",
      "text/plain": [
       "<Figure size 432x288 with 1 Axes>"
      ]
     },
     "metadata": {
      "needs_background": "light"
     },
     "output_type": "display_data"
    }
   ],
   "source": [
    "ad_group_relevance.plot(kind='bar', stacked=True) \n",
    "plt.show()"
   ]
  },
  {
   "cell_type": "code",
   "execution_count": 32,
   "id": "7499bd78",
   "metadata": {},
   "outputs": [],
   "source": [
    "import pingouin"
   ]
  },
  {
   "cell_type": "code",
   "execution_count": 33,
   "id": "6489c45d",
   "metadata": {},
   "outputs": [
    {
     "name": "stderr",
     "output_type": "stream",
     "text": [
      "C:\\Users\\tuneG\\anaconda3\\lib\\site-packages\\pingouin\\contingency.py:151: UserWarning: Low count on observed frequencies.\n",
      "  warnings.warn('Low count on {} frequencies.'.format(name))\n",
      "C:\\Users\\tuneG\\anaconda3\\lib\\site-packages\\pingouin\\contingency.py:151: UserWarning: Low count on expected frequencies.\n",
      "  warnings.warn('Low count on {} frequencies.'.format(name))\n",
      "C:\\Users\\tuneG\\anaconda3\\lib\\site-packages\\scipy\\stats\\_stats_py.py:6775: RuntimeWarning: divide by zero encountered in power\n",
      "  terms = f_obs * ((f_obs / f_exp)**lambda_ - 1)\n",
      "C:\\Users\\tuneG\\anaconda3\\lib\\site-packages\\scipy\\stats\\_stats_py.py:6775: RuntimeWarning: invalid value encountered in multiply\n",
      "  terms = f_obs * ((f_obs / f_exp)**lambda_ - 1)\n",
      "C:\\Users\\tuneG\\anaconda3\\lib\\site-packages\\scipy\\stats\\_stats_py.py:6772: RuntimeWarning: divide by zero encountered in true_divide\n",
      "  terms = 2.0 * special.xlogy(f_exp, f_exp / f_obs)\n"
     ]
    }
   ],
   "source": [
    "expected, observed, stat = pingouin.chi2_independence(data = df, x = 'Ad_Group', y = 'Landing_page_experience')"
   ]
  },
  {
   "cell_type": "code",
   "execution_count": 34,
   "id": "9d5053ba",
   "metadata": {},
   "outputs": [
    {
     "data": {
      "text/html": [
       "<div>\n",
       "<style scoped>\n",
       "    .dataframe tbody tr th:only-of-type {\n",
       "        vertical-align: middle;\n",
       "    }\n",
       "\n",
       "    .dataframe tbody tr th {\n",
       "        vertical-align: top;\n",
       "    }\n",
       "\n",
       "    .dataframe thead th {\n",
       "        text-align: right;\n",
       "    }\n",
       "</style>\n",
       "<table border=\"1\" class=\"dataframe\">\n",
       "  <thead>\n",
       "    <tr style=\"text-align: right;\">\n",
       "      <th></th>\n",
       "      <th>test</th>\n",
       "      <th>lambda</th>\n",
       "      <th>chi2</th>\n",
       "      <th>dof</th>\n",
       "      <th>pval</th>\n",
       "      <th>cramer</th>\n",
       "      <th>power</th>\n",
       "    </tr>\n",
       "  </thead>\n",
       "  <tbody>\n",
       "    <tr>\n",
       "      <th>0</th>\n",
       "      <td>pearson</td>\n",
       "      <td>1.000000</td>\n",
       "      <td>50.379197</td>\n",
       "      <td>10.0</td>\n",
       "      <td>2.272914e-07</td>\n",
       "      <td>0.415369</td>\n",
       "      <td>0.957056</td>\n",
       "    </tr>\n",
       "    <tr>\n",
       "      <th>1</th>\n",
       "      <td>cressie-read</td>\n",
       "      <td>0.666667</td>\n",
       "      <td>50.295546</td>\n",
       "      <td>10.0</td>\n",
       "      <td>2.354963e-07</td>\n",
       "      <td>0.415024</td>\n",
       "      <td>0.956712</td>\n",
       "    </tr>\n",
       "    <tr>\n",
       "      <th>2</th>\n",
       "      <td>log-likelihood</td>\n",
       "      <td>0.000000</td>\n",
       "      <td>56.272902</td>\n",
       "      <td>10.0</td>\n",
       "      <td>1.824876e-08</td>\n",
       "      <td>0.438994</td>\n",
       "      <td>0.975902</td>\n",
       "    </tr>\n",
       "    <tr>\n",
       "      <th>3</th>\n",
       "      <td>freeman-tukey</td>\n",
       "      <td>-0.500000</td>\n",
       "      <td>NaN</td>\n",
       "      <td>10.0</td>\n",
       "      <td>NaN</td>\n",
       "      <td>NaN</td>\n",
       "      <td>NaN</td>\n",
       "    </tr>\n",
       "    <tr>\n",
       "      <th>4</th>\n",
       "      <td>mod-log-likelihood</td>\n",
       "      <td>-1.000000</td>\n",
       "      <td>inf</td>\n",
       "      <td>10.0</td>\n",
       "      <td>0.000000e+00</td>\n",
       "      <td>inf</td>\n",
       "      <td>1.000000</td>\n",
       "    </tr>\n",
       "    <tr>\n",
       "      <th>5</th>\n",
       "      <td>neyman</td>\n",
       "      <td>-2.000000</td>\n",
       "      <td>NaN</td>\n",
       "      <td>10.0</td>\n",
       "      <td>NaN</td>\n",
       "      <td>NaN</td>\n",
       "      <td>NaN</td>\n",
       "    </tr>\n",
       "  </tbody>\n",
       "</table>\n",
       "</div>"
      ],
      "text/plain": [
       "                 test    lambda       chi2   dof          pval    cramer  \\\n",
       "0             pearson  1.000000  50.379197  10.0  2.272914e-07  0.415369   \n",
       "1        cressie-read  0.666667  50.295546  10.0  2.354963e-07  0.415024   \n",
       "2      log-likelihood  0.000000  56.272902  10.0  1.824876e-08  0.438994   \n",
       "3       freeman-tukey -0.500000        NaN  10.0           NaN       NaN   \n",
       "4  mod-log-likelihood -1.000000        inf  10.0  0.000000e+00       inf   \n",
       "5              neyman -2.000000        NaN  10.0           NaN       NaN   \n",
       "\n",
       "      power  \n",
       "0  0.957056  \n",
       "1  0.956712  \n",
       "2  0.975902  \n",
       "3       NaN  \n",
       "4  1.000000  \n",
       "5       NaN  "
      ]
     },
     "execution_count": 34,
     "metadata": {},
     "output_type": "execute_result"
    }
   ],
   "source": [
    "stat"
   ]
  },
  {
   "cell_type": "code",
   "execution_count": null,
   "id": "0451233b",
   "metadata": {},
   "outputs": [],
   "source": []
  },
  {
   "cell_type": "code",
   "execution_count": null,
   "id": "7c13044f",
   "metadata": {},
   "outputs": [],
   "source": []
  },
  {
   "cell_type": "markdown",
   "id": "7eb631b1",
   "metadata": {},
   "source": [
    "### Predicting Ads Keyword Conversions"
   ]
  },
  {
   "cell_type": "markdown",
   "id": "5e42f869",
   "metadata": {},
   "source": [
    "#### Preprocessing"
   ]
  },
  {
   "cell_type": "code",
   "execution_count": 35,
   "id": "490b9762",
   "metadata": {},
   "outputs": [
    {
     "data": {
      "text/html": [
       "<div>\n",
       "<style scoped>\n",
       "    .dataframe tbody tr th:only-of-type {\n",
       "        vertical-align: middle;\n",
       "    }\n",
       "\n",
       "    .dataframe tbody tr th {\n",
       "        vertical-align: top;\n",
       "    }\n",
       "\n",
       "    .dataframe thead th {\n",
       "        text-align: right;\n",
       "    }\n",
       "</style>\n",
       "<table border=\"1\" class=\"dataframe\">\n",
       "  <thead>\n",
       "    <tr style=\"text-align: right;\">\n",
       "      <th></th>\n",
       "      <th>Ad_Group</th>\n",
       "      <th>Search_Keyword</th>\n",
       "      <th>Quality_score</th>\n",
       "      <th>Ad_relevance</th>\n",
       "      <th>Expected_clickthrough_rate</th>\n",
       "      <th>Landing_page_experience</th>\n",
       "      <th>Ad_relevance_score</th>\n",
       "      <th>Expected_CTR_score</th>\n",
       "      <th>Landing_page_exp_score</th>\n",
       "      <th>Impressions</th>\n",
       "      <th>Clicks</th>\n",
       "      <th>Total_Cost</th>\n",
       "      <th>Revenue_per_unit_sold</th>\n",
       "      <th>Total_Revenue</th>\n",
       "      <th>position_score</th>\n",
       "      <th>Conversions</th>\n",
       "    </tr>\n",
       "  </thead>\n",
       "  <tbody>\n",
       "    <tr>\n",
       "      <th>124</th>\n",
       "      <td>Christmas Cards</td>\n",
       "      <td>ho ho ho santa christmas card</td>\n",
       "      <td>5</td>\n",
       "      <td>Above average</td>\n",
       "      <td>Average</td>\n",
       "      <td>Below average</td>\n",
       "      <td>2</td>\n",
       "      <td>1.75</td>\n",
       "      <td>0.0</td>\n",
       "      <td>10825</td>\n",
       "      <td>361</td>\n",
       "      <td>72.17</td>\n",
       "      <td>3.00</td>\n",
       "      <td>54.86</td>\n",
       "      <td>7</td>\n",
       "      <td>18</td>\n",
       "    </tr>\n",
       "    <tr>\n",
       "      <th>51</th>\n",
       "      <td>Gifts and Banker Products</td>\n",
       "      <td>posting christmas stocking gift bag large</td>\n",
       "      <td>7</td>\n",
       "      <td>Average</td>\n",
       "      <td>Average</td>\n",
       "      <td>Above average</td>\n",
       "      <td>1</td>\n",
       "      <td>1.75</td>\n",
       "      <td>3.5</td>\n",
       "      <td>24206</td>\n",
       "      <td>1130</td>\n",
       "      <td>161.37</td>\n",
       "      <td>1.40</td>\n",
       "      <td>110.06</td>\n",
       "      <td>9</td>\n",
       "      <td>79</td>\n",
       "    </tr>\n",
       "    <tr>\n",
       "      <th>42</th>\n",
       "      <td>Gifts and Banker Products</td>\n",
       "      <td>love life amazing dad keyring</td>\n",
       "      <td>3</td>\n",
       "      <td>Below average</td>\n",
       "      <td>Average</td>\n",
       "      <td>Below average</td>\n",
       "      <td>0</td>\n",
       "      <td>1.75</td>\n",
       "      <td>0.0</td>\n",
       "      <td>1764</td>\n",
       "      <td>35</td>\n",
       "      <td>11.76</td>\n",
       "      <td>2.99</td>\n",
       "      <td>3.27</td>\n",
       "      <td>3</td>\n",
       "      <td>1</td>\n",
       "    </tr>\n",
       "  </tbody>\n",
       "</table>\n",
       "</div>"
      ],
      "text/plain": [
       "                      Ad_Group                             Search_Keyword  \\\n",
       "124            Christmas Cards             ho ho ho santa christmas card    \n",
       "51   Gifts and Banker Products  posting christmas stocking gift bag large   \n",
       "42   Gifts and Banker Products              love life amazing dad keyring   \n",
       "\n",
       "     Quality_score   Ad_relevance Expected_clickthrough_rate  \\\n",
       "124              5  Above average                    Average   \n",
       "51               7        Average                    Average   \n",
       "42               3  Below average                    Average   \n",
       "\n",
       "    Landing_page_experience  Ad_relevance_score  Expected_CTR_score  \\\n",
       "124           Below average                   2                1.75   \n",
       "51            Above average                   1                1.75   \n",
       "42            Below average                   0                1.75   \n",
       "\n",
       "     Landing_page_exp_score  Impressions  Clicks  Total_Cost  \\\n",
       "124                     0.0        10825     361       72.17   \n",
       "51                      3.5        24206    1130      161.37   \n",
       "42                      0.0         1764      35       11.76   \n",
       "\n",
       "     Revenue_per_unit_sold  Total_Revenue  position_score  Conversions  \n",
       "124                   3.00          54.86               7           18  \n",
       "51                    1.40         110.06               9           79  \n",
       "42                    2.99           3.27               3            1  "
      ]
     },
     "execution_count": 35,
     "metadata": {},
     "output_type": "execute_result"
    }
   ],
   "source": [
    "training_df.head(3)"
   ]
  },
  {
   "cell_type": "code",
   "execution_count": null,
   "id": "a4a437e8",
   "metadata": {},
   "outputs": [],
   "source": []
  },
  {
   "cell_type": "code",
   "execution_count": 36,
   "id": "24b0c4c5",
   "metadata": {},
   "outputs": [],
   "source": [
    "training_df = training_df[['Ad_Group', 'Quality_score',  'Ad_relevance_score', 'Expected_CTR_score', 'Landing_page_exp_score',\n",
    "          'position_score', 'Impressions', 'Clicks', 'Conversions']]\n",
    "\n",
    "test_df = test_df[['Ad_Group', 'Quality_score',  'Ad_relevance_score', 'Expected_CTR_score', 'Landing_page_exp_score',\n",
    "          'position_score', 'Impressions', 'Clicks', 'Conversions']]\n"
   ]
  },
  {
   "cell_type": "code",
   "execution_count": null,
   "id": "2d24e1c8",
   "metadata": {},
   "outputs": [],
   "source": []
  },
  {
   "cell_type": "code",
   "execution_count": 37,
   "id": "ac4cd6b2",
   "metadata": {},
   "outputs": [],
   "source": [
    "from sklearn.model_selection import train_test_split\n",
    "from sklearn.linear_model import LinearRegression\n",
    "from sklearn.metrics import mean_absolute_error as MAE"
   ]
  },
  {
   "cell_type": "code",
   "execution_count": 38,
   "id": "ac98f7ed",
   "metadata": {},
   "outputs": [],
   "source": [
    "cat_columns = ['Ad_Group']"
   ]
  },
  {
   "cell_type": "code",
   "execution_count": 39,
   "id": "f89dc354",
   "metadata": {},
   "outputs": [],
   "source": [
    "def one_hot_encoding(training_df):\n",
    "    from sklearn.preprocessing import OneHotEncoder\n",
    "    \n",
    "    ohe = OneHotEncoder(handle_unknown='ignore', sparse = False)\n",
    "    ohe.fit(training_df[cat_columns])\n",
    "    \n",
    "    cat_ohe = ohe.transform(training_df[cat_columns])\n",
    "    ohe_training_df = pd.DataFrame(cat_ohe, columns = ohe.get_feature_names(input_features = cat_columns))\n",
    "\n",
    "    training_df.reset_index(inplace= True)\n",
    "    training_df.drop('index', axis= 1, inplace= True)\n",
    "\n",
    "    training_df_encoded = pd.concat([training_df, ohe_training_df], axis=1).drop(columns = cat_columns, axis=1)\n",
    "    \n",
    "    return ohe, training_df_encoded"
   ]
  },
  {
   "cell_type": "code",
   "execution_count": 40,
   "id": "52df8d67",
   "metadata": {},
   "outputs": [
    {
     "name": "stderr",
     "output_type": "stream",
     "text": [
      "C:\\Users\\tuneG\\anaconda3\\lib\\site-packages\\sklearn\\utils\\deprecation.py:87: FutureWarning: Function get_feature_names is deprecated; get_feature_names is deprecated in 1.0 and will be removed in 1.2. Please use get_feature_names_out instead.\n",
      "  warnings.warn(msg, category=FutureWarning)\n",
      "C:\\Users\\tuneG\\anaconda3\\lib\\site-packages\\pandas\\core\\frame.py:4308: SettingWithCopyWarning: \n",
      "A value is trying to be set on a copy of a slice from a DataFrame\n",
      "\n",
      "See the caveats in the documentation: https://pandas.pydata.org/pandas-docs/stable/user_guide/indexing.html#returning-a-view-versus-a-copy\n",
      "  return super().drop(\n"
     ]
    }
   ],
   "source": [
    "encoder, training_df_encoded =  one_hot_encoding(training_df)\n",
    "#pickle.dump(encoder, open('Fitted_OneHotencoder.pkl', 'wb'))\n",
    "\n",
    "def encode_new_data(new_data_df):\n",
    "    cat_ohe_new = encoder.transform(new_data_df[cat_columns])\n",
    "    ohe_new_data_df = pd.DataFrame(cat_ohe_new, columns = encoder.get_feature_names_out(input_features = cat_columns))\n",
    "    \n",
    "    new_data_df.reset_index(inplace= True)\n",
    "    new_data_df.drop('index', axis= 1, inplace= True)\n",
    "    \n",
    "    new_data_df_encoded = pd.concat([new_data_df, ohe_new_data_df], axis=1).drop(columns = cat_columns, axis=1)\n",
    "    return new_data_df_encoded\n",
    "\n"
   ]
  },
  {
   "cell_type": "code",
   "execution_count": 41,
   "id": "9da4a1da",
   "metadata": {},
   "outputs": [],
   "source": [
    "test_df_encoded = encode_new_data(test_df)"
   ]
  },
  {
   "cell_type": "code",
   "execution_count": 42,
   "id": "e3c813d3",
   "metadata": {},
   "outputs": [],
   "source": [
    "features = list(training_df_encoded.columns.drop('Conversions'))\n",
    "\n",
    "X_train = training_df_encoded[features]\n",
    "y_train = training_df_encoded['Conversions']\n",
    "\n",
    "X_test = test_df_encoded[features]\n",
    "y_test = test_df_encoded['Conversions']"
   ]
  },
  {
   "cell_type": "code",
   "execution_count": null,
   "id": "6c2d352a",
   "metadata": {},
   "outputs": [],
   "source": []
  },
  {
   "cell_type": "markdown",
   "id": "2ecdf10e",
   "metadata": {},
   "source": [
    "#### Fitting and Evaluating Linear Regression Model"
   ]
  },
  {
   "cell_type": "code",
   "execution_count": 43,
   "id": "81b35f69",
   "metadata": {},
   "outputs": [],
   "source": [
    "lr = LinearRegression()\n",
    "model = lr.fit(X_train, y_train)"
   ]
  },
  {
   "cell_type": "code",
   "execution_count": 44,
   "id": "91616466",
   "metadata": {},
   "outputs": [],
   "source": [
    "y_pred = model.predict(X_test)"
   ]
  },
  {
   "cell_type": "code",
   "execution_count": 45,
   "id": "711986fe",
   "metadata": {},
   "outputs": [
    {
     "data": {
      "text/plain": [
       "1.7861312060233763"
      ]
     },
     "execution_count": 45,
     "metadata": {},
     "output_type": "execute_result"
    }
   ],
   "source": [
    "MAE(y_test, y_pred)"
   ]
  },
  {
   "cell_type": "code",
   "execution_count": null,
   "id": "1921b97b",
   "metadata": {},
   "outputs": [],
   "source": []
  },
  {
   "cell_type": "code",
   "execution_count": null,
   "id": "bccba692",
   "metadata": {},
   "outputs": [],
   "source": []
  },
  {
   "cell_type": "markdown",
   "id": "76f260bd",
   "metadata": {},
   "source": [
    "### Sample Tweaking of 'Quality Score' factor(s) (Expected_CTR_score) to see the effect on Conversions"
   ]
  },
  {
   "cell_type": "code",
   "execution_count": 46,
   "id": "a4677ab3",
   "metadata": {},
   "outputs": [
    {
     "data": {
      "text/plain": [
       "Quality_score                             7.00\n",
       "Ad_relevance_score                        2.00\n",
       "Expected_CTR_score                        1.75\n",
       "Landing_page_exp_score                    1.75\n",
       "position_score                            8.00\n",
       "Impressions                           15533.00\n",
       "Clicks                                  725.00\n",
       "Ad_Group_Alternative Gifts                1.00\n",
       "Ad_Group_Books                            0.00\n",
       "Ad_Group_Children's Clothes               0.00\n",
       "Ad_Group_Christmas Cards                  0.00\n",
       "Ad_Group_Gifts and Banker Products        0.00\n",
       "Ad_Group_Marketing                        0.00\n",
       "Name: 26, dtype: float64"
      ]
     },
     "execution_count": 46,
     "metadata": {},
     "output_type": "execute_result"
    }
   ],
   "source": [
    "X_test.loc[26,:]"
   ]
  },
  {
   "cell_type": "code",
   "execution_count": 47,
   "id": "a4bfeaab",
   "metadata": {},
   "outputs": [
    {
     "name": "stdout",
     "output_type": "stream",
     "text": [
      "Current Conversions for Ad_keyword above: 51\n"
     ]
    }
   ],
   "source": [
    "print(f\"Current Conversions for Ad_keyword above: {y_test.loc[26]}\")"
   ]
  },
  {
   "cell_type": "code",
   "execution_count": null,
   "id": "a46d82d9",
   "metadata": {},
   "outputs": [],
   "source": []
  },
  {
   "cell_type": "markdown",
   "id": "4f7fd174",
   "metadata": {},
   "source": [
    "Increased the Expected_CTR_score by one unit to 3.5"
   ]
  },
  {
   "cell_type": "code",
   "execution_count": 48,
   "id": "974e2902",
   "metadata": {},
   "outputs": [],
   "source": [
    "dataa = {'Quality_score': [8], 'Ad_relevance_score':[2], 'Expected_CTR_score':[3.5],\n",
    "       'Landing_page_exp_score': [1.75], 'position_score':[9], 'Impressions':[17448], 'Clicks':[814],\n",
    "       'Ad_Group_Alternative Gifts': [1], 'Ad_Group_Books': [0],\n",
    "       \"Ad_Group_Children's Clothes\":[0], 'Ad_Group_Christmas Cards':[0],\n",
    "       'Ad_Group_Gifts and Banker Products':[0], 'Ad_Group_Marketing':[0]}"
   ]
  },
  {
   "cell_type": "code",
   "execution_count": 49,
   "id": "3acf5c1a",
   "metadata": {},
   "outputs": [],
   "source": [
    "new_data = pd.DataFrame(dataa)"
   ]
  },
  {
   "cell_type": "code",
   "execution_count": 50,
   "id": "4dfe82ea",
   "metadata": {},
   "outputs": [
    {
     "data": {
      "text/html": [
       "<div>\n",
       "<style scoped>\n",
       "    .dataframe tbody tr th:only-of-type {\n",
       "        vertical-align: middle;\n",
       "    }\n",
       "\n",
       "    .dataframe tbody tr th {\n",
       "        vertical-align: top;\n",
       "    }\n",
       "\n",
       "    .dataframe thead th {\n",
       "        text-align: right;\n",
       "    }\n",
       "</style>\n",
       "<table border=\"1\" class=\"dataframe\">\n",
       "  <thead>\n",
       "    <tr style=\"text-align: right;\">\n",
       "      <th></th>\n",
       "      <th>Quality_score</th>\n",
       "      <th>Ad_relevance_score</th>\n",
       "      <th>Expected_CTR_score</th>\n",
       "      <th>Landing_page_exp_score</th>\n",
       "      <th>position_score</th>\n",
       "      <th>Impressions</th>\n",
       "      <th>Clicks</th>\n",
       "      <th>Ad_Group_Alternative Gifts</th>\n",
       "      <th>Ad_Group_Books</th>\n",
       "      <th>Ad_Group_Children's Clothes</th>\n",
       "      <th>Ad_Group_Christmas Cards</th>\n",
       "      <th>Ad_Group_Gifts and Banker Products</th>\n",
       "      <th>Ad_Group_Marketing</th>\n",
       "    </tr>\n",
       "  </thead>\n",
       "  <tbody>\n",
       "    <tr>\n",
       "      <th>0</th>\n",
       "      <td>8</td>\n",
       "      <td>2</td>\n",
       "      <td>3.5</td>\n",
       "      <td>1.75</td>\n",
       "      <td>9</td>\n",
       "      <td>17448</td>\n",
       "      <td>814</td>\n",
       "      <td>1</td>\n",
       "      <td>0</td>\n",
       "      <td>0</td>\n",
       "      <td>0</td>\n",
       "      <td>0</td>\n",
       "      <td>0</td>\n",
       "    </tr>\n",
       "  </tbody>\n",
       "</table>\n",
       "</div>"
      ],
      "text/plain": [
       "   Quality_score  Ad_relevance_score  Expected_CTR_score  \\\n",
       "0              8                   2                 3.5   \n",
       "\n",
       "   Landing_page_exp_score  position_score  Impressions  Clicks  \\\n",
       "0                    1.75               9        17448     814   \n",
       "\n",
       "   Ad_Group_Alternative Gifts  Ad_Group_Books  Ad_Group_Children's Clothes  \\\n",
       "0                           1               0                            0   \n",
       "\n",
       "   Ad_Group_Christmas Cards  Ad_Group_Gifts and Banker Products  \\\n",
       "0                         0                                   0   \n",
       "\n",
       "   Ad_Group_Marketing  \n",
       "0                   0  "
      ]
     },
     "execution_count": 50,
     "metadata": {},
     "output_type": "execute_result"
    }
   ],
   "source": [
    "new_data"
   ]
  },
  {
   "cell_type": "code",
   "execution_count": 51,
   "id": "27b1f304",
   "metadata": {},
   "outputs": [
    {
     "name": "stdout",
     "output_type": "stream",
     "text": [
      "New Conversions count after increasing Expected_CTR_score of keyword: 54.37528644478394\n"
     ]
    }
   ],
   "source": [
    "print(f\"New Conversions count after increasing Expected_CTR_score of keyword: {model.predict(new_data)[0]}\")"
   ]
  },
  {
   "cell_type": "code",
   "execution_count": null,
   "id": "8dcf7d4e",
   "metadata": {},
   "outputs": [],
   "source": []
  },
  {
   "cell_type": "code",
   "execution_count": null,
   "id": "62e6881a",
   "metadata": {},
   "outputs": [],
   "source": []
  },
  {
   "cell_type": "markdown",
   "id": "0c45968c",
   "metadata": {},
   "source": [
    "### AUTOMATING QUALITY SCORE FACTOR(S) TWEAKS\n",
    "\n",
    "#### USING RESULTING QUALITY SCORE, AVERAGE POSITION SCORE, NUMBER OF IMPRESSIONS AND CLICKS\n",
    "#### TO _PREDICT NUMBER OF CONVERSIONS_    "
   ]
  },
  {
   "cell_type": "code",
   "execution_count": null,
   "id": "a1627585",
   "metadata": {},
   "outputs": [],
   "source": []
  },
  {
   "cell_type": "markdown",
   "id": "828f5ccc",
   "metadata": {},
   "source": [
    "### FUNCTION TO CHANGE QUALITY SCORE BY IMPROVING ONE OR MORE FACTOR"
   ]
  },
  {
   "cell_type": "code",
   "execution_count": 52,
   "id": "9a1f979b",
   "metadata": {},
   "outputs": [],
   "source": [
    "def change_Qualityscore(row, factor = None, change = None):\n",
    "    model = ols('Quality_score ~ Ad_relevance_score + Expected_CTR_score +\\\n",
    "                        Landing_page_exp_score + 0', data = df).fit()\n",
    "    qs = row['Quality_score']\n",
    "    if factor == 'Ad_relevance':\n",
    "        if change == 'improve':\n",
    "            if qs < 10:\n",
    "                qs += model.params['Ad_relevance_score']\n",
    "                return round(qs)\n",
    "            else:\n",
    "                return qs\n",
    "        elif change == 'recede':\n",
    "            if qs > 0:\n",
    "                qs -= model.params['Ad_relevance_score']\n",
    "                return round(qs)\n",
    "            else:\n",
    "                return qs\n",
    "        \n",
    "    elif factor == 'Expected_clickthrough_rate':\n",
    "        if change == 'improve':\n",
    "            if qs < 10:\n",
    "                qs += model.params['Expected_CTR_score']\n",
    "                return round(qs)\n",
    "            else:\n",
    "                return qs\n",
    "        elif change == 'recede':\n",
    "            if qs > 0:\n",
    "                qs -= model.params['Expected_CTR_score']\n",
    "                return round(qs)\n",
    "            else:\n",
    "                return qs\n",
    "        \n",
    "    elif factor == 'Landing_page_experience':\n",
    "        if change == 'improve':\n",
    "            if qs < 10:\n",
    "                qs += model.params['Landing_page_exp_score']\n",
    "                return round(qs)\n",
    "            else:\n",
    "                return qs\n",
    "        elif change == 'recede':\n",
    "            if qs > 0:\n",
    "                qs -= model.params['Landing_page_exp_score']\n",
    "                return round(qs)\n",
    "            else:\n",
    "                return qs\n",
    "    \n",
    "    else:\n",
    "        return qs"
   ]
  },
  {
   "cell_type": "code",
   "execution_count": 53,
   "id": "7dfc1c94",
   "metadata": {},
   "outputs": [
    {
     "data": {
      "text/plain": [
       "1"
      ]
     },
     "execution_count": 53,
     "metadata": {},
     "output_type": "execute_result"
    }
   ],
   "source": [
    "change_Qualityscore(X_test.loc[17,:] ,'Landing_page_experience', 'recede')"
   ]
  },
  {
   "cell_type": "code",
   "execution_count": null,
   "id": "3c8fdfdd",
   "metadata": {},
   "outputs": [],
   "source": []
  },
  {
   "cell_type": "markdown",
   "id": "d867be43",
   "metadata": {},
   "source": [
    "### FUNCTION TO IMPROVE OR RECEDE AVERAGE AD POSITION"
   ]
  },
  {
   "cell_type": "code",
   "execution_count": null,
   "id": "e2f4438c",
   "metadata": {},
   "outputs": [],
   "source": []
  },
  {
   "cell_type": "code",
   "execution_count": 54,
   "id": "da75b68c",
   "metadata": {},
   "outputs": [],
   "source": [
    "def change_ADposition(row, factor, change):\n",
    "    \n",
    "    current_qs = row['Quality_score']\n",
    "    current_position = row['position_score'] \n",
    "    new_qs = change_Qualityscore(row, factor, change)\n",
    "    model2 = ols('position_score ~ Quality_score + 0', data = df).fit()\n",
    "    \n",
    "    if new_qs > current_qs:\n",
    "        if current_position < 10:\n",
    "            current_position += model2.params['Quality_score']\n",
    "            return round(current_position)\n",
    "        else:\n",
    "            return current_position\n",
    "    \n",
    "    elif new_qs < current_qs:\n",
    "        if current_position > 0:\n",
    "            current_position -= model2.params['Quality_score']\n",
    "            return round(current_position)\n",
    "        else:\n",
    "            return current_position\n",
    "    \n",
    "    elif new_qs == current_qs:\n",
    "        return current_position"
   ]
  },
  {
   "cell_type": "code",
   "execution_count": 55,
   "id": "b12611de",
   "metadata": {},
   "outputs": [
    {
     "data": {
      "text/plain": [
       "3"
      ]
     },
     "execution_count": 55,
     "metadata": {},
     "output_type": "execute_result"
    }
   ],
   "source": [
    "change_ADposition(X_test.loc[17,:], 'Landing_page_experience', 'recede')"
   ]
  },
  {
   "cell_type": "code",
   "execution_count": null,
   "id": "e1352f89",
   "metadata": {},
   "outputs": [],
   "source": []
  },
  {
   "cell_type": "markdown",
   "id": "a3bef10c",
   "metadata": {},
   "source": [
    "### FUNCTION TO CHANGE IMPRESSIONS"
   ]
  },
  {
   "cell_type": "code",
   "execution_count": 56,
   "id": "a035ba84",
   "metadata": {},
   "outputs": [],
   "source": [
    "def change_Impressions(row, ad_group, factor, change_type):\n",
    "    model3 = ols('Impressions ~ Ad_Group:position_score + 0', data = df).fit()\n",
    "    \n",
    "    current_position = row['position_score']\n",
    "    new_position = change_ADposition(row, factor, change_type)\n",
    "    impressions = row['Impressions']\n",
    "    if ad_group == 'Alternative Gifts':\n",
    "        if new_position > current_position:\n",
    "            impressions += model3.params['Ad_Group[Alternative Gifts]:position_score']\n",
    "            return round(impressions)\n",
    "        elif new_position < current_position:\n",
    "            impressions -= model3.params['Ad_Group[Alternative Gifts]:position_score']\n",
    "            return round(impressions)\n",
    "        elif new_position == current_position:\n",
    "            return impressions\n",
    "\n",
    "        \n",
    "    elif ad_group == 'Books':\n",
    "        if new_position > current_position:\n",
    "            impressions += model3.params['Ad_Group[Books]:position_score']\n",
    "            return round(impressions)\n",
    "        elif new_position < current_position:\n",
    "            impressions -= model3.params['Ad_Group[Books]:position_score']\n",
    "            return round(impressions)\n",
    "        elif new_position == current_position:\n",
    "            return impressions\n",
    "        \n",
    "    elif ad_group == \"Children's Clothes\":\n",
    "        if new_position > current_position:\n",
    "            impressions += model3.params[\"Ad_Group[Children's Clothes]:position_score\"]\n",
    "            return round(impressions)\n",
    "        elif new_position < current_position:\n",
    "            impressions -= model3.params[\"Ad_Group[Children's Clothes]:position_score\"]\n",
    "            return round(impressions)\n",
    "        elif new_position == current_position:\n",
    "            return impressions\n",
    "        \n",
    "    elif ad_group == \"Christmas Cards\":\n",
    "        if new_position > current_position:\n",
    "            impressions += model3.params[\"Ad_Group[Christmas Cards]:position_score\"]\n",
    "            return round(impressions)\n",
    "        elif new_position < current_position:\n",
    "            impressions -= model3.params[\"Ad_Group[Christmas Cards]:position_score\"]\n",
    "            return round(impressions)\n",
    "        elif new_position == current_position:\n",
    "            return impressions\n",
    "        \n",
    "    elif ad_group == \"Gifts and Banker Products\":\n",
    "        if new_position > current_position:\n",
    "            impressions += model3.params[\"Ad_Group[Gifts and Banker Products]:position_score\"]\n",
    "            return round(impressions)\n",
    "        elif new_position < current_position:\n",
    "            impressions -= model3.params[\"Ad_Group[Gifts and Banker Products]:position_score\"]\n",
    "            return round(impressions)\n",
    "        elif new_position == current_position:\n",
    "            return impressions\n",
    "        \n",
    "    elif ad_group == \"Marketing\":\n",
    "        if new_position > current_position:\n",
    "            impressions += model3.params[\"Ad_Group[Marketing]:position_score\"]\n",
    "            return round(impressions)\n",
    "        elif new_position < current_position:\n",
    "            impressions -= model3.params[\"Ad_Group[Marketing]:position_score\"]\n",
    "            return round(impressions)\n",
    "    elif new_position == current_position:\n",
    "            return impressions\n",
    "        \n",
    "        \n",
    "    \n"
   ]
  },
  {
   "cell_type": "code",
   "execution_count": 57,
   "id": "9e84f3b7",
   "metadata": {},
   "outputs": [
    {
     "data": {
      "text/plain": [
       "-1537"
      ]
     },
     "execution_count": 57,
     "metadata": {},
     "output_type": "execute_result"
    }
   ],
   "source": [
    "change_Impressions(X_test.loc[17,:], 'Books', 'Landing_page_experience', 'recede')"
   ]
  },
  {
   "cell_type": "code",
   "execution_count": 58,
   "id": "edd09fd2",
   "metadata": {},
   "outputs": [
    {
     "data": {
      "text/plain": [
       "Quality_score                            2.0\n",
       "Ad_relevance_score                       1.0\n",
       "Expected_CTR_score                       0.0\n",
       "Landing_page_exp_score                   0.0\n",
       "position_score                           4.0\n",
       "Impressions                           1020.0\n",
       "Clicks                                  14.0\n",
       "Ad_Group_Alternative Gifts               0.0\n",
       "Ad_Group_Books                           1.0\n",
       "Ad_Group_Children's Clothes              0.0\n",
       "Ad_Group_Christmas Cards                 0.0\n",
       "Ad_Group_Gifts and Banker Products       0.0\n",
       "Ad_Group_Marketing                       0.0\n",
       "Name: 17, dtype: float64"
      ]
     },
     "execution_count": 58,
     "metadata": {},
     "output_type": "execute_result"
    }
   ],
   "source": [
    "X_test.loc[17,:]"
   ]
  },
  {
   "cell_type": "markdown",
   "id": "60cf26e6",
   "metadata": {},
   "source": [
    "### FUNCTION TO CHANGE CLICKS"
   ]
  },
  {
   "cell_type": "code",
   "execution_count": 59,
   "id": "20ba51e2",
   "metadata": {},
   "outputs": [],
   "source": [
    "def change_Clicks(row, ad_group, factor, change_type):\n",
    "    model4 = ols('Clicks ~ Ad_Group:Impressions + 0', data = df).fit()\n",
    "    \n",
    "    current_clicks = row['Clicks']\n",
    "    current_impressions = row['Impressions']\n",
    "    new_impressions = change_Impressions(row, ad_group, factor, change_type)\n",
    "    \n",
    "    if ad_group == 'Alternative Gifts':\n",
    "        if new_impressions > current_impressions:\n",
    "            impressions_change = new_impressions - current_impressions\n",
    "            clicks = current_clicks + impressions_change * model4.params['Ad_Group[Alternative Gifts]:Impressions']\n",
    "            return round(clicks)\n",
    "        elif new_impressions < current_impressions:\n",
    "            impressions_change = new_impressions - current_impressions\n",
    "            clicks_change = impressions_change * model4.params['Ad_Group[Alternative Gifts]:Impressions']\n",
    "            return current_clicks - abs(clicks_change)\n",
    "\n",
    "        elif new_impressions == current_impressions:\n",
    "            return round(current_clicks)\n",
    "        \n",
    "        \n",
    "    elif ad_group == 'Books':\n",
    "        if new_impressions > current_impressions:\n",
    "            impressions_change = new_impressions - current_impressions\n",
    "            clicks = current_clicks + impressions_change * model4.params['Ad_Group[Books]:Impressions']\n",
    "            return round(clicks)\n",
    "        elif new_impressions < current_impressions:\n",
    "            impressions_change = new_impressions -  current_impressions\n",
    "            clicks_change = impressions_change * model4.params['Ad_Group[Books]:Impressions']\n",
    "            return current_clicks - abs(clicks_change)\n",
    "\n",
    "        elif new_impressions == current_impressions:\n",
    "            return round(current_clicks)\n",
    "        \n",
    "        \n",
    "    elif ad_group == \"Children's Clothes\":\n",
    "        if new_impressions > current_impressions:\n",
    "            impressions_change = new_impressions - current_impressions\n",
    "            clicks = current_clicks + impressions_change  * model4.params[\"Ad_Group[Children's Clothes]:Impressions\"]\n",
    "            return round(clicks)\n",
    "        elif new_impressions < current_impressions:\n",
    "            impressions_change = new_impressions - current_impressions\n",
    "            clicks_change = impressions_change  * model4.params[\"Ad_Group[Children's Clothes]:Impressions\"]\n",
    "            return current_clicks - abs(clicks_change)\n",
    "\n",
    "        elif new_impressions == current_impressions:\n",
    "            return round(current_clicks)\n",
    "        \n",
    "        \n",
    "        \n",
    "    elif ad_group == \"Christmas Cards\":\n",
    "        if new_impressions > current_impressions:\n",
    "            impressions_change = new_impressions - current_impressions\n",
    "            clicks = current_clicks + impressions_change * model4.params[\"Ad_Group[Christmas Cards]:Impressions\"]\n",
    "            return round(clicks)\n",
    "        elif new_impressions < current_impressions:\n",
    "            impressions_change = new_impressions - current_impressions\n",
    "            clicks_change = impressions_change * model4.params[\"Ad_Group[Christmas Cards]:Impressions\"]\n",
    "            return current_clicks - abs(clicks_change)\n",
    "\n",
    "        elif new_impressions == current_impressions:\n",
    "            return round(current_clicks)\n",
    "        \n",
    "        \n",
    "    elif ad_group == \"Gifts and Banker Products\":\n",
    "        if new_impressions > current_impressions:\n",
    "            impressions_change = new_impressions - current_impressions\n",
    "            clicks = current_clicks + impressions_change * model4.params[\"Ad_Group[Gifts and Banker Products]:Impressions\"]\n",
    "            return round(clicks)\n",
    "        elif new_impressions < current_impressions:\n",
    "            impressions_change = new_impressions - current_impressions\n",
    "            clicks_change = impressions_change * model4.params[\"Ad_Group[Gifts and Banker Products]:Impressions\"]\n",
    "            return current_clicks - abs(clicks_change)\n",
    "\n",
    "        elif new_impressions == current_impressions:\n",
    "            return round(current_clicks)\n",
    "        \n",
    "    elif ad_group == \"Marketing\":\n",
    "        if new_impressions > current_impressions:\n",
    "            impressions_change = new_impressions - current_impressions\n",
    "            clicks =  current_clicks + impressions_change * model4.params[\"Ad_Group[Marketing]:Impressions\"]\n",
    "            return round(clicks)\n",
    "        elif new_impressions < current_impressions:\n",
    "            impressions_change = new_impressions - current_impressions\n",
    "            clicks_change = impressions_change * model4.params[\"Ad_Group[Marketing]:Impressions\"]\n",
    "            return current_clicks - abs(clicks_change)\n",
    "\n",
    "        elif new_impressions == current_impressions:\n",
    "            return round(current_clicks)"
   ]
  },
  {
   "cell_type": "code",
   "execution_count": 60,
   "id": "389345b0",
   "metadata": {},
   "outputs": [
    {
     "data": {
      "text/plain": [
       "-86.13052487492963"
      ]
     },
     "execution_count": 60,
     "metadata": {},
     "output_type": "execute_result"
    }
   ],
   "source": [
    "change_Clicks(X_test.loc[17,:], 'Books', 'Landing_page_experience', 'recede')"
   ]
  },
  {
   "cell_type": "code",
   "execution_count": null,
   "id": "7bc0b739",
   "metadata": {},
   "outputs": [],
   "source": []
  },
  {
   "cell_type": "code",
   "execution_count": null,
   "id": "672892fc",
   "metadata": {},
   "outputs": [],
   "source": []
  },
  {
   "cell_type": "markdown",
   "id": "403b386b",
   "metadata": {},
   "source": [
    "### CLASS TO UPDATE METRICS BASED ON QUALITY SCORE FACTOR(S) CHANGE"
   ]
  },
  {
   "cell_type": "code",
   "execution_count": 61,
   "id": "d5cebdfb",
   "metadata": {},
   "outputs": [],
   "source": [
    "class changeQs:\n",
    "    \n",
    "    def __init__(self, current_row):\n",
    "        self.current_row = current_row\n",
    "    \n",
    "    def change_one_factor(self, change_factor, change_type, ad_group):\n",
    "        if change_type == 'improve':\n",
    "            new_row = {'Quality_score': change_Qualityscore(self.current_row , change_factor, change_type),\n",
    "                       'Ad_relevance_score': [self.current_row['Ad_relevance_score'] + 1 if change_factor == 'Ad_relevance' and\\\n",
    "                                              self.current_row['Ad_relevance_score'] < 2 else self.current_row['Ad_relevance_score']][0],\n",
    "                       'Expected_CTR_score': [self.current_row['Expected_CTR_score'] + 1.75 if change_factor == 'Expected_clickthrough_rate' and\\\n",
    "                                              self.current_row['Expected_CTR_score'] < 3.5 else self.current_row['Expected_CTR_score']][0],\n",
    "                       'Landing_page_exp_score': [self.current_row['Landing_page_exp_score'] + 1.75 if change_factor == 'Landing_page_experience' and\\\n",
    "                                                  self.current_row['Landing_page_exp_score'] < 3.5 else self.current_row['Landing_page_exp_score']][0],\n",
    "                       'position_score': change_ADposition(self.current_row, change_factor, change_type), \n",
    "                       'Impressions': change_Impressions(self.current_row, ad_group, change_factor, change_type),\n",
    "                       'Clicks': change_Clicks(self.current_row, ad_group, change_factor, change_type),\n",
    "                       'Ad_Group_Alternative Gifts':self.current_row['Ad_Group_Alternative Gifts'],\n",
    "                       'Ad_Group_Books': self.current_row['Ad_Group_Books'],\n",
    "                       \"Ad_Group_Children's Clothes\": self.current_row[\"Ad_Group_Children's Clothes\"],\n",
    "                       'Ad_Group_Christmas Cards': self.current_row[\"Ad_Group_Christmas Cards\"],\n",
    "                       'Ad_Group_Gifts and Banker Products': self.current_row['Ad_Group_Gifts and Banker Products'],\n",
    "                       'Ad_Group_Marketing': self.current_row['Ad_Group_Marketing']}\n",
    "\n",
    "        elif change_type =='recede':\n",
    "                 new_row = {'Quality_score': change_Qualityscore(self.current_row , change_factor, change_type),\n",
    "                       'Ad_relevance_score': [self.current_row['Ad_relevance_score'] - 1 if change_factor == 'Ad_relevance' and\\\n",
    "                                              self.current_row['Ad_relevance_score'] != 0 else self.current_row['Ad_relevance_score']][0],\n",
    "                    'Expected_CTR_score': [self.current_row['Expected_CTR_score'] - 1.75 if change_factor == 'Expected_clickthrough_rate' and\\\n",
    "                                         self.current_row['Expected_CTR_score'] != 0 else self.current_row['Expected_CTR_score']][0],\n",
    "                       'Landing_page_exp_score': [self.current_row['Landing_page_exp_score'] - 1.75 if change_factor == 'Landing_page_experience' and\\\n",
    "                                                  self.current_row['Landing_page_exp_score'] != 0 else self.current_row['Landing_page_exp_score']][0],\n",
    "                       'position_score': change_ADposition(self.current_row, change_factor, change_type), \n",
    "                       'Impressions': change_Impressions(self.current_row, ad_group, change_factor, change_type),\n",
    "                       'Clicks': change_Clicks(self.current_row, ad_group, change_factor, change_type),\n",
    "                       'Ad_Group_Alternative Gifts':self.current_row['Ad_Group_Alternative Gifts'],\n",
    "                       'Ad_Group_Books': self.current_row['Ad_Group_Books'],\n",
    "                       \"Ad_Group_Children's Clothes\": self.current_row[\"Ad_Group_Children's Clothes\"],\n",
    "                       'Ad_Group_Christmas Cards': self.current_row[\"Ad_Group_Christmas Cards\"],\n",
    "                       'Ad_Group_Gifts and Banker Products': self.current_row['Ad_Group_Gifts and Banker Products'],\n",
    "                       'Ad_Group_Marketing': self.current_row['Ad_Group_Marketing']}\n",
    "        self.current_row = new_row\n",
    "        return self.current_row"
   ]
  },
  {
   "cell_type": "code",
   "execution_count": 62,
   "id": "138b025e",
   "metadata": {},
   "outputs": [],
   "source": [
    "data = changeQs(X_test.loc[0,:])"
   ]
  },
  {
   "cell_type": "code",
   "execution_count": 63,
   "id": "9ede2961",
   "metadata": {},
   "outputs": [],
   "source": [
    "# new_data = data.change_one_factor('Landing_page_experience', 'improve', 'Christmas Cards')\n",
    "# new_data"
   ]
  },
  {
   "cell_type": "code",
   "execution_count": null,
   "id": "38847915",
   "metadata": {},
   "outputs": [],
   "source": []
  },
  {
   "cell_type": "code",
   "execution_count": null,
   "id": "758afc80",
   "metadata": {},
   "outputs": [],
   "source": []
  },
  {
   "cell_type": "code",
   "execution_count": 64,
   "id": "cee18b66",
   "metadata": {},
   "outputs": [],
   "source": [
    "def get_adgroup(row):\n",
    "    cols = ['Ad_Group_Alternative Gifts', 'Ad_Group_Books',\n",
    "       \"Ad_Group_Children's Clothes\", 'Ad_Group_Christmas Cards',\n",
    "       'Ad_Group_Gifts and Banker Products', 'Ad_Group_Marketing']\n",
    "    \n",
    "    for col in cols:\n",
    "        if row[col] == 1:\n",
    "            return col.split('_',2)[-1]"
   ]
  },
  {
   "cell_type": "code",
   "execution_count": 65,
   "id": "ba95828c",
   "metadata": {},
   "outputs": [],
   "source": [
    "def use_class_method(data, ad_group, *args):\n",
    "    \"\"\"\n",
    "    Takes multiple arguments(factor, change_type) and \n",
    "    Updates data\n",
    "    \"\"\"\n",
    "    for i in range(len(args)):\n",
    "        new_data = data.change_one_factor(args[i][0], args[i][1], ad_group)\n",
    "    return new_data"
   ]
  },
  {
   "cell_type": "code",
   "execution_count": 66,
   "id": "21a19be8",
   "metadata": {},
   "outputs": [],
   "source": [
    "def get_changed_df(df, *args):\n",
    "    dicts_list = []\n",
    "    for idx, row in df.iterrows():\n",
    "        data = changeQs(row)\n",
    "        ad_group = get_adgroup(row)\n",
    "        new_data = use_class_method(data, ad_group, *args)\n",
    "        dicts_list.append(new_data)\n",
    "    new_df = pd.DataFrame(dicts_list)\n",
    "    return new_df"
   ]
  },
  {
   "cell_type": "markdown",
   "id": "5929a7f5",
   "metadata": {},
   "source": [
    "### USING THE CLASS ABOVE"
   ]
  },
  {
   "cell_type": "code",
   "execution_count": 67,
   "id": "35b8aac1",
   "metadata": {},
   "outputs": [],
   "source": [
    "new_df = get_changed_df(X_test, ('Landing_page_experience', 'improve'), \n",
    "                        ('Expected_clickthrough_rate', 'improve'),\n",
    "                        ('Ad_relevance', 'improve'))\n",
    "\n",
    "# new_df = get_changed_df(X_test, ('Landing_page_experience', 'recede'),\n",
    "#                        ('Expected_clickthrough_rate', 'recede'),\n",
    "#                        ('Ad_relevance', 'improve'))"
   ]
  },
  {
   "cell_type": "code",
   "execution_count": 68,
   "id": "955228ff",
   "metadata": {},
   "outputs": [
    {
     "data": {
      "text/html": [
       "<div>\n",
       "<style scoped>\n",
       "    .dataframe tbody tr th:only-of-type {\n",
       "        vertical-align: middle;\n",
       "    }\n",
       "\n",
       "    .dataframe tbody tr th {\n",
       "        vertical-align: top;\n",
       "    }\n",
       "\n",
       "    .dataframe thead th {\n",
       "        text-align: right;\n",
       "    }\n",
       "</style>\n",
       "<table border=\"1\" class=\"dataframe\">\n",
       "  <thead>\n",
       "    <tr style=\"text-align: right;\">\n",
       "      <th></th>\n",
       "      <th>Quality_score</th>\n",
       "      <th>Ad_relevance_score</th>\n",
       "      <th>Expected_CTR_score</th>\n",
       "      <th>Landing_page_exp_score</th>\n",
       "      <th>position_score</th>\n",
       "      <th>Impressions</th>\n",
       "      <th>Clicks</th>\n",
       "      <th>Ad_Group_Alternative Gifts</th>\n",
       "      <th>Ad_Group_Books</th>\n",
       "      <th>Ad_Group_Children's Clothes</th>\n",
       "      <th>Ad_Group_Christmas Cards</th>\n",
       "      <th>Ad_Group_Gifts and Banker Products</th>\n",
       "      <th>Ad_Group_Marketing</th>\n",
       "    </tr>\n",
       "  </thead>\n",
       "  <tbody>\n",
       "    <tr>\n",
       "      <th>25</th>\n",
       "      <td>9.0</td>\n",
       "      <td>2.0</td>\n",
       "      <td>3.5</td>\n",
       "      <td>3.50</td>\n",
       "      <td>10.0</td>\n",
       "      <td>18024.0</td>\n",
       "      <td>829</td>\n",
       "      <td>0.0</td>\n",
       "      <td>0.0</td>\n",
       "      <td>0.0</td>\n",
       "      <td>0.0</td>\n",
       "      <td>1.0</td>\n",
       "      <td>0.0</td>\n",
       "    </tr>\n",
       "    <tr>\n",
       "      <th>26</th>\n",
       "      <td>10.0</td>\n",
       "      <td>2.0</td>\n",
       "      <td>3.5</td>\n",
       "      <td>3.50</td>\n",
       "      <td>10.0</td>\n",
       "      <td>19365.0</td>\n",
       "      <td>903</td>\n",
       "      <td>1.0</td>\n",
       "      <td>0.0</td>\n",
       "      <td>0.0</td>\n",
       "      <td>0.0</td>\n",
       "      <td>0.0</td>\n",
       "      <td>0.0</td>\n",
       "    </tr>\n",
       "    <tr>\n",
       "      <th>27</th>\n",
       "      <td>7.0</td>\n",
       "      <td>2.0</td>\n",
       "      <td>3.5</td>\n",
       "      <td>1.75</td>\n",
       "      <td>4.0</td>\n",
       "      <td>9185.0</td>\n",
       "      <td>264</td>\n",
       "      <td>0.0</td>\n",
       "      <td>0.0</td>\n",
       "      <td>0.0</td>\n",
       "      <td>1.0</td>\n",
       "      <td>0.0</td>\n",
       "      <td>0.0</td>\n",
       "    </tr>\n",
       "    <tr>\n",
       "      <th>28</th>\n",
       "      <td>6.0</td>\n",
       "      <td>1.0</td>\n",
       "      <td>3.5</td>\n",
       "      <td>1.75</td>\n",
       "      <td>7.0</td>\n",
       "      <td>6570.0</td>\n",
       "      <td>171</td>\n",
       "      <td>0.0</td>\n",
       "      <td>0.0</td>\n",
       "      <td>0.0</td>\n",
       "      <td>1.0</td>\n",
       "      <td>0.0</td>\n",
       "      <td>0.0</td>\n",
       "    </tr>\n",
       "    <tr>\n",
       "      <th>29</th>\n",
       "      <td>10.0</td>\n",
       "      <td>2.0</td>\n",
       "      <td>3.5</td>\n",
       "      <td>3.50</td>\n",
       "      <td>10.0</td>\n",
       "      <td>17253.0</td>\n",
       "      <td>1035</td>\n",
       "      <td>0.0</td>\n",
       "      <td>0.0</td>\n",
       "      <td>0.0</td>\n",
       "      <td>0.0</td>\n",
       "      <td>1.0</td>\n",
       "      <td>0.0</td>\n",
       "    </tr>\n",
       "  </tbody>\n",
       "</table>\n",
       "</div>"
      ],
      "text/plain": [
       "    Quality_score  Ad_relevance_score  Expected_CTR_score  \\\n",
       "25            9.0                 2.0                 3.5   \n",
       "26           10.0                 2.0                 3.5   \n",
       "27            7.0                 2.0                 3.5   \n",
       "28            6.0                 1.0                 3.5   \n",
       "29           10.0                 2.0                 3.5   \n",
       "\n",
       "    Landing_page_exp_score  position_score  Impressions  Clicks  \\\n",
       "25                    3.50            10.0      18024.0     829   \n",
       "26                    3.50            10.0      19365.0     903   \n",
       "27                    1.75             4.0       9185.0     264   \n",
       "28                    1.75             7.0       6570.0     171   \n",
       "29                    3.50            10.0      17253.0    1035   \n",
       "\n",
       "    Ad_Group_Alternative Gifts  Ad_Group_Books  Ad_Group_Children's Clothes  \\\n",
       "25                         0.0             0.0                          0.0   \n",
       "26                         1.0             0.0                          0.0   \n",
       "27                         0.0             0.0                          0.0   \n",
       "28                         0.0             0.0                          0.0   \n",
       "29                         0.0             0.0                          0.0   \n",
       "\n",
       "    Ad_Group_Christmas Cards  Ad_Group_Gifts and Banker Products  \\\n",
       "25                       0.0                                 1.0   \n",
       "26                       0.0                                 0.0   \n",
       "27                       1.0                                 0.0   \n",
       "28                       1.0                                 0.0   \n",
       "29                       0.0                                 1.0   \n",
       "\n",
       "    Ad_Group_Marketing  \n",
       "25                 0.0  \n",
       "26                 0.0  \n",
       "27                 0.0  \n",
       "28                 0.0  \n",
       "29                 0.0  "
      ]
     },
     "execution_count": 68,
     "metadata": {},
     "output_type": "execute_result"
    }
   ],
   "source": [
    "new_df.tail()"
   ]
  },
  {
   "cell_type": "code",
   "execution_count": null,
   "id": "b80847d7",
   "metadata": {},
   "outputs": [],
   "source": []
  },
  {
   "cell_type": "markdown",
   "id": "384521f6",
   "metadata": {},
   "source": [
    "#### Predict new conversions for changed dataset"
   ]
  },
  {
   "cell_type": "code",
   "execution_count": 69,
   "id": "dd1ca81e",
   "metadata": {},
   "outputs": [],
   "source": [
    "new_conversions = model.predict(new_df)"
   ]
  },
  {
   "cell_type": "code",
   "execution_count": 70,
   "id": "8752924a",
   "metadata": {},
   "outputs": [
    {
     "data": {
      "text/plain": [
       "array([ 1.44160166e+00,  2.40428776e+02,  2.92904078e+01,  2.98362872e+01,\n",
       "        3.31809511e+00,  1.87345399e+02,  2.87196450e+00,  8.48254656e+00,\n",
       "        3.05195991e+01,  3.60511449e+01,  3.66425085e+01,  4.26220298e+01,\n",
       "        1.59401049e-01,  2.93037093e+02, -1.00029959e+00,  2.57907783e+01,\n",
       "        1.64206829e+01,  1.33799825e+01,  1.18006849e+01,  2.69516842e+01,\n",
       "        4.88420062e+01, -1.09405443e+00,  4.23162396e+01,  3.01310593e+00,\n",
       "        4.91651294e+01,  5.50024947e+01,  5.97428143e+01,  3.20136024e+00,\n",
       "       -1.08936788e+00,  9.35121365e+01])"
      ]
     },
     "execution_count": 70,
     "metadata": {},
     "output_type": "execute_result"
    }
   ],
   "source": [
    "new_conversions"
   ]
  },
  {
   "cell_type": "code",
   "execution_count": 71,
   "id": "0f6999da",
   "metadata": {},
   "outputs": [],
   "source": [
    "dff = pd.concat([keywords, test_df['Conversions'], round(pd.DataFrame(new_conversions))], axis = 1)\n",
    "dff.columns = ['Ad_group', 'Search_keyword', 'old_conversions', 'new_conversions']"
   ]
  },
  {
   "cell_type": "code",
   "execution_count": null,
   "id": "bdb2782e",
   "metadata": {},
   "outputs": [],
   "source": []
  },
  {
   "cell_type": "markdown",
   "id": "05765af8",
   "metadata": {},
   "source": [
    "### PAIRED T-TEST \n",
    "#### Ho: The average number of Conversions for keywords portfolio is the same before and after improving Quality Score \n",
    "#### Ha: The average number of Conversions after improving keywords Quality Score is MORE than before the improvement\n",
    "#### At significance level: 0.05"
   ]
  },
  {
   "cell_type": "code",
   "execution_count": 72,
   "id": "fc028d24",
   "metadata": {},
   "outputs": [
    {
     "data": {
      "text/html": [
       "<div>\n",
       "<style scoped>\n",
       "    .dataframe tbody tr th:only-of-type {\n",
       "        vertical-align: middle;\n",
       "    }\n",
       "\n",
       "    .dataframe tbody tr th {\n",
       "        vertical-align: top;\n",
       "    }\n",
       "\n",
       "    .dataframe thead th {\n",
       "        text-align: right;\n",
       "    }\n",
       "</style>\n",
       "<table border=\"1\" class=\"dataframe\">\n",
       "  <thead>\n",
       "    <tr style=\"text-align: right;\">\n",
       "      <th></th>\n",
       "      <th>T</th>\n",
       "      <th>dof</th>\n",
       "      <th>alternative</th>\n",
       "      <th>p-val</th>\n",
       "      <th>CI95%</th>\n",
       "      <th>cohen-d</th>\n",
       "      <th>BF10</th>\n",
       "      <th>power</th>\n",
       "    </tr>\n",
       "  </thead>\n",
       "  <tbody>\n",
       "    <tr>\n",
       "      <th>T-test</th>\n",
       "      <td>3.633397</td>\n",
       "      <td>29</td>\n",
       "      <td>greater</td>\n",
       "      <td>0.000536</td>\n",
       "      <td>[4.79, inf]</td>\n",
       "      <td>0.124287</td>\n",
       "      <td>62.343</td>\n",
       "      <td>0.163566</td>\n",
       "    </tr>\n",
       "  </tbody>\n",
       "</table>\n",
       "</div>"
      ],
      "text/plain": [
       "               T  dof alternative     p-val        CI95%   cohen-d    BF10  \\\n",
       "T-test  3.633397   29     greater  0.000536  [4.79, inf]  0.124287  62.343   \n",
       "\n",
       "           power  \n",
       "T-test  0.163566  "
      ]
     },
     "execution_count": 72,
     "metadata": {},
     "output_type": "execute_result"
    }
   ],
   "source": [
    "pingouin.ttest(x = dff['new_conversions'], y= dff['old_conversions'], paired = True, alternative = 'greater')"
   ]
  },
  {
   "cell_type": "code",
   "execution_count": 73,
   "id": "09441394",
   "metadata": {},
   "outputs": [
    {
     "data": {
      "text/html": [
       "<div>\n",
       "<style scoped>\n",
       "    .dataframe tbody tr th:only-of-type {\n",
       "        vertical-align: middle;\n",
       "    }\n",
       "\n",
       "    .dataframe tbody tr th {\n",
       "        vertical-align: top;\n",
       "    }\n",
       "\n",
       "    .dataframe thead th {\n",
       "        text-align: right;\n",
       "    }\n",
       "</style>\n",
       "<table border=\"1\" class=\"dataframe\">\n",
       "  <thead>\n",
       "    <tr style=\"text-align: right;\">\n",
       "      <th></th>\n",
       "      <th>Ad_group</th>\n",
       "      <th>Search_keyword</th>\n",
       "      <th>old_conversions</th>\n",
       "      <th>new_conversions</th>\n",
       "    </tr>\n",
       "  </thead>\n",
       "  <tbody>\n",
       "    <tr>\n",
       "      <th>0</th>\n",
       "      <td>Christmas Cards</td>\n",
       "      <td>holy nativity christmas card</td>\n",
       "      <td>1</td>\n",
       "      <td>1.0</td>\n",
       "    </tr>\n",
       "    <tr>\n",
       "      <th>1</th>\n",
       "      <td>Gifts and Banker Products</td>\n",
       "      <td>gosh water bottle</td>\n",
       "      <td>245</td>\n",
       "      <td>240.0</td>\n",
       "    </tr>\n",
       "    <tr>\n",
       "      <th>2</th>\n",
       "      <td>Christmas Cards</td>\n",
       "      <td>christmas eve</td>\n",
       "      <td>27</td>\n",
       "      <td>29.0</td>\n",
       "    </tr>\n",
       "    <tr>\n",
       "      <th>3</th>\n",
       "      <td>Gifts and Banker Products</td>\n",
       "      <td>nurse wendy bear pin badge</td>\n",
       "      <td>20</td>\n",
       "      <td>30.0</td>\n",
       "    </tr>\n",
       "    <tr>\n",
       "      <th>4</th>\n",
       "      <td>Christmas Cards</td>\n",
       "      <td>posting christmas stockings christmas card</td>\n",
       "      <td>8</td>\n",
       "      <td>3.0</td>\n",
       "    </tr>\n",
       "    <tr>\n",
       "      <th>5</th>\n",
       "      <td>Gifts and Banker Products</td>\n",
       "      <td>gosh logo pin badge</td>\n",
       "      <td>185</td>\n",
       "      <td>187.0</td>\n",
       "    </tr>\n",
       "    <tr>\n",
       "      <th>6</th>\n",
       "      <td>Christmas Cards</td>\n",
       "      <td>cosy christmas robins christmas card</td>\n",
       "      <td>7</td>\n",
       "      <td>3.0</td>\n",
       "    </tr>\n",
       "    <tr>\n",
       "      <th>7</th>\n",
       "      <td>Christmas Cards</td>\n",
       "      <td>happy fox christmas card</td>\n",
       "      <td>6</td>\n",
       "      <td>8.0</td>\n",
       "    </tr>\n",
       "    <tr>\n",
       "      <th>8</th>\n",
       "      <td>Gifts and Banker Products</td>\n",
       "      <td>christmas wrap pack</td>\n",
       "      <td>10</td>\n",
       "      <td>31.0</td>\n",
       "    </tr>\n",
       "    <tr>\n",
       "      <th>9</th>\n",
       "      <td>Gifts and Banker Products</td>\n",
       "      <td>peter pan spineless classics poster</td>\n",
       "      <td>7</td>\n",
       "      <td>36.0</td>\n",
       "    </tr>\n",
       "    <tr>\n",
       "      <th>10</th>\n",
       "      <td>Gifts and Banker Products</td>\n",
       "      <td>peter rabbit plush medium</td>\n",
       "      <td>4</td>\n",
       "      <td>37.0</td>\n",
       "    </tr>\n",
       "    <tr>\n",
       "      <th>11</th>\n",
       "      <td>Gifts and Banker Products</td>\n",
       "      <td>patient design mug</td>\n",
       "      <td>13</td>\n",
       "      <td>43.0</td>\n",
       "    </tr>\n",
       "    <tr>\n",
       "      <th>12</th>\n",
       "      <td>Christmas Cards</td>\n",
       "      <td>star of wonder christmas card</td>\n",
       "      <td>1</td>\n",
       "      <td>0.0</td>\n",
       "    </tr>\n",
       "    <tr>\n",
       "      <th>13</th>\n",
       "      <td>Gifts and Banker Products</td>\n",
       "      <td>gosh ruler</td>\n",
       "      <td>300</td>\n",
       "      <td>293.0</td>\n",
       "    </tr>\n",
       "    <tr>\n",
       "      <th>14</th>\n",
       "      <td>Christmas Cards</td>\n",
       "      <td>madonna and child christmas card</td>\n",
       "      <td>2</td>\n",
       "      <td>-1.0</td>\n",
       "    </tr>\n",
       "    <tr>\n",
       "      <th>15</th>\n",
       "      <td>Gifts and Banker Products</td>\n",
       "      <td>skinnydip iphone case</td>\n",
       "      <td>0</td>\n",
       "      <td>26.0</td>\n",
       "    </tr>\n",
       "    <tr>\n",
       "      <th>16</th>\n",
       "      <td>Christmas Cards</td>\n",
       "      <td>penguin and reindeer mini pack christmas card</td>\n",
       "      <td>17</td>\n",
       "      <td>16.0</td>\n",
       "    </tr>\n",
       "    <tr>\n",
       "      <th>17</th>\n",
       "      <td>Books</td>\n",
       "      <td>elmers walk celebrating mindfulness the elmer way</td>\n",
       "      <td>0</td>\n",
       "      <td>13.0</td>\n",
       "    </tr>\n",
       "    <tr>\n",
       "      <th>18</th>\n",
       "      <td>Christmas Cards</td>\n",
       "      <td>reindeer christmas card</td>\n",
       "      <td>11</td>\n",
       "      <td>12.0</td>\n",
       "    </tr>\n",
       "    <tr>\n",
       "      <th>19</th>\n",
       "      <td>Gifts and Banker Products</td>\n",
       "      <td>oriental fig large candle</td>\n",
       "      <td>0</td>\n",
       "      <td>27.0</td>\n",
       "    </tr>\n",
       "    <tr>\n",
       "      <th>20</th>\n",
       "      <td>Gifts and Banker Products</td>\n",
       "      <td>bernard bear pin badge</td>\n",
       "      <td>28</td>\n",
       "      <td>49.0</td>\n",
       "    </tr>\n",
       "    <tr>\n",
       "      <th>21</th>\n",
       "      <td>Christmas Cards</td>\n",
       "      <td>christmas cupcakes christmas card</td>\n",
       "      <td>2</td>\n",
       "      <td>-1.0</td>\n",
       "    </tr>\n",
       "    <tr>\n",
       "      <th>22</th>\n",
       "      <td>Gifts and Banker Products</td>\n",
       "      <td>peter rabbit christmas stocking</td>\n",
       "      <td>15</td>\n",
       "      <td>42.0</td>\n",
       "    </tr>\n",
       "    <tr>\n",
       "      <th>23</th>\n",
       "      <td>Christmas Cards</td>\n",
       "      <td>ethans mistletoes christmas card</td>\n",
       "      <td>4</td>\n",
       "      <td>3.0</td>\n",
       "    </tr>\n",
       "    <tr>\n",
       "      <th>24</th>\n",
       "      <td>Gifts and Banker Products</td>\n",
       "      <td>animal advent calendar single</td>\n",
       "      <td>22</td>\n",
       "      <td>49.0</td>\n",
       "    </tr>\n",
       "    <tr>\n",
       "      <th>25</th>\n",
       "      <td>Gifts and Banker Products</td>\n",
       "      <td>peter rabbit christmas sack</td>\n",
       "      <td>29</td>\n",
       "      <td>55.0</td>\n",
       "    </tr>\n",
       "    <tr>\n",
       "      <th>26</th>\n",
       "      <td>Alternative Gifts</td>\n",
       "      <td>gosh bear ward alternative gift</td>\n",
       "      <td>51</td>\n",
       "      <td>60.0</td>\n",
       "    </tr>\n",
       "    <tr>\n",
       "      <th>27</th>\n",
       "      <td>Christmas Cards</td>\n",
       "      <td>cosy christmas eve christmas card</td>\n",
       "      <td>6</td>\n",
       "      <td>3.0</td>\n",
       "    </tr>\n",
       "    <tr>\n",
       "      <th>28</th>\n",
       "      <td>Christmas Cards</td>\n",
       "      <td>christmas carols christmas card</td>\n",
       "      <td>2</td>\n",
       "      <td>-1.0</td>\n",
       "    </tr>\n",
       "    <tr>\n",
       "      <th>29</th>\n",
       "      <td>Gifts and Banker Products</td>\n",
       "      <td>gosh reindeer</td>\n",
       "      <td>94</td>\n",
       "      <td>94.0</td>\n",
       "    </tr>\n",
       "  </tbody>\n",
       "</table>\n",
       "</div>"
      ],
      "text/plain": [
       "                     Ad_group  \\\n",
       "0             Christmas Cards   \n",
       "1   Gifts and Banker Products   \n",
       "2             Christmas Cards   \n",
       "3   Gifts and Banker Products   \n",
       "4             Christmas Cards   \n",
       "5   Gifts and Banker Products   \n",
       "6             Christmas Cards   \n",
       "7             Christmas Cards   \n",
       "8   Gifts and Banker Products   \n",
       "9   Gifts and Banker Products   \n",
       "10  Gifts and Banker Products   \n",
       "11  Gifts and Banker Products   \n",
       "12            Christmas Cards   \n",
       "13  Gifts and Banker Products   \n",
       "14            Christmas Cards   \n",
       "15  Gifts and Banker Products   \n",
       "16            Christmas Cards   \n",
       "17                      Books   \n",
       "18            Christmas Cards   \n",
       "19  Gifts and Banker Products   \n",
       "20  Gifts and Banker Products   \n",
       "21            Christmas Cards   \n",
       "22  Gifts and Banker Products   \n",
       "23            Christmas Cards   \n",
       "24  Gifts and Banker Products   \n",
       "25  Gifts and Banker Products   \n",
       "26          Alternative Gifts   \n",
       "27            Christmas Cards   \n",
       "28            Christmas Cards   \n",
       "29  Gifts and Banker Products   \n",
       "\n",
       "                                       Search_keyword  old_conversions  \\\n",
       "0                       holy nativity christmas card                 1   \n",
       "1                                   gosh water bottle              245   \n",
       "2                                       christmas eve               27   \n",
       "3                          nurse wendy bear pin badge               20   \n",
       "4         posting christmas stockings christmas card                 8   \n",
       "5                                 gosh logo pin badge              185   \n",
       "6               cosy christmas robins christmas card                 7   \n",
       "7                           happy fox christmas card                 6   \n",
       "8                                 christmas wrap pack               10   \n",
       "9                 peter pan spineless classics poster                7   \n",
       "10                          peter rabbit plush medium                4   \n",
       "11                                 patient design mug               13   \n",
       "12                     star of wonder christmas card                 1   \n",
       "13                                         gosh ruler              300   \n",
       "14                  madonna and child christmas card                 2   \n",
       "15                              skinnydip iphone case                0   \n",
       "16     penguin and reindeer mini pack christmas card                17   \n",
       "17  elmers walk celebrating mindfulness the elmer way                0   \n",
       "18                           reindeer christmas card                11   \n",
       "19                          oriental fig large candle                0   \n",
       "20                             bernard bear pin badge               28   \n",
       "21                 christmas cupcakes christmas card                 2   \n",
       "22                    peter rabbit christmas stocking               15   \n",
       "23                  ethans mistletoes christmas card                 4   \n",
       "24                      animal advent calendar single               22   \n",
       "25                        peter rabbit christmas sack               29   \n",
       "26                    gosh bear ward alternative gift               51   \n",
       "27                 cosy christmas eve christmas card                 6   \n",
       "28                   christmas carols christmas card                 2   \n",
       "29                                      gosh reindeer               94   \n",
       "\n",
       "    new_conversions  \n",
       "0               1.0  \n",
       "1             240.0  \n",
       "2              29.0  \n",
       "3              30.0  \n",
       "4               3.0  \n",
       "5             187.0  \n",
       "6               3.0  \n",
       "7               8.0  \n",
       "8              31.0  \n",
       "9              36.0  \n",
       "10             37.0  \n",
       "11             43.0  \n",
       "12              0.0  \n",
       "13            293.0  \n",
       "14             -1.0  \n",
       "15             26.0  \n",
       "16             16.0  \n",
       "17             13.0  \n",
       "18             12.0  \n",
       "19             27.0  \n",
       "20             49.0  \n",
       "21             -1.0  \n",
       "22             42.0  \n",
       "23              3.0  \n",
       "24             49.0  \n",
       "25             55.0  \n",
       "26             60.0  \n",
       "27              3.0  \n",
       "28             -1.0  \n",
       "29             94.0  "
      ]
     },
     "execution_count": 73,
     "metadata": {},
     "output_type": "execute_result"
    },
    {
     "name": "stderr",
     "output_type": "stream",
     "text": [
      "C:\\Users\\tuneG\\anaconda3\\lib\\site-packages\\outdated\\utils.py:14: OutdatedPackageWarning: The package pingouin is out of date. Your version is 0.5.1, the latest is 0.5.2.\n",
      "Set the environment variable OUTDATED_IGNORE=1 to disable these warnings.\n",
      "  return warn(\n"
     ]
    }
   ],
   "source": [
    "dff"
   ]
  },
  {
   "cell_type": "code",
   "execution_count": null,
   "id": "d04c61c1",
   "metadata": {},
   "outputs": [],
   "source": []
  },
  {
   "cell_type": "code",
   "execution_count": null,
   "id": "3922988c",
   "metadata": {},
   "outputs": [],
   "source": []
  },
  {
   "cell_type": "code",
   "execution_count": null,
   "id": "33c30a9a",
   "metadata": {},
   "outputs": [],
   "source": []
  },
  {
   "cell_type": "code",
   "execution_count": null,
   "id": "0fa942ad",
   "metadata": {},
   "outputs": [],
   "source": []
  },
  {
   "cell_type": "code",
   "execution_count": null,
   "id": "89679835",
   "metadata": {},
   "outputs": [],
   "source": []
  }
 ],
 "metadata": {
  "kernelspec": {
   "display_name": "Python 3",
   "language": "python",
   "name": "python3"
  },
  "language_info": {
   "codemirror_mode": {
    "name": "ipython",
    "version": 3
   },
   "file_extension": ".py",
   "mimetype": "text/x-python",
   "name": "python",
   "nbconvert_exporter": "python",
   "pygments_lexer": "ipython3",
   "version": "3.8.8"
  }
 },
 "nbformat": 4,
 "nbformat_minor": 5
}
